{
 "cells": [
  {
   "cell_type": "markdown",
   "id": "c907c98c",
   "metadata": {},
   "source": [
    "#### Load data from file"
   ]
  },
  {
   "cell_type": "code",
   "execution_count": 1,
   "id": "3eb574bb",
   "metadata": {},
   "outputs": [],
   "source": [
    "import numpy as np"
   ]
  },
  {
   "cell_type": "code",
   "execution_count": 2,
   "id": "e870bb35",
   "metadata": {},
   "outputs": [
    {
     "data": {
      "text/plain": [
       "array([[ 1.,  2.,  3.,  4.,  5.,  7.,  8.,  9.,  7.,  8.,  7.,  8.,  9.,\n",
       "         5., 11.,  2.,  5.,  3.,  1.,  4.],\n",
       "       [ 7.,  8.,  9.,  5.,  4.,  6.,  1.,  2.,  3.,  2.,  1., 23.,  1.,\n",
       "         2.,  4., 51.,  3.,  2.,  5.,  4.],\n",
       "       [ 4.,  5.,  6.,  6.,  5.,  5.,  5., 55.,  5.,  1.,  2.,  3.,  1.,\n",
       "        47.,  8., 12., 15., 18.,  1.,  4.]])"
      ]
     },
     "execution_count": 2,
     "metadata": {},
     "output_type": "execute_result"
    }
   ],
   "source": [
    "#File must be in folder where you are working\n",
    "np.genfromtxt('Text.txt', delimiter=',')"
   ]
  },
  {
   "cell_type": "code",
   "execution_count": 3,
   "id": "1232c385",
   "metadata": {
    "scrolled": true
   },
   "outputs": [
    {
     "data": {
      "text/plain": [
       "array([[ 1,  2,  3,  4,  5,  7,  8,  9,  7,  8,  7,  8,  9,  5, 11,  2,\n",
       "         5,  3,  1,  4],\n",
       "       [ 7,  8,  9,  5,  4,  6,  1,  2,  3,  2,  1, 23,  1,  2,  4, 51,\n",
       "         3,  2,  5,  4],\n",
       "       [ 4,  5,  6,  6,  5,  5,  5, 55,  5,  1,  2,  3,  1, 47,  8, 12,\n",
       "        15, 18,  1,  4]])"
      ]
     },
     "execution_count": 3,
     "metadata": {},
     "output_type": "execute_result"
    }
   ],
   "source": [
    "f=np.genfromtxt('Text.txt', delimiter=',')\n",
    "f.astype('int32')    #makes a copy of f and convert all data to integer type , not replaces original f"
   ]
  },
  {
   "cell_type": "code",
   "execution_count": 4,
   "id": "c1c5fc50",
   "metadata": {},
   "outputs": [
    {
     "name": "stdout",
     "output_type": "stream",
     "text": [
      "[[ 1  2  3  4  5  7  8  9  7  8  7  8  9  5 11  2  5  3  1  4]\n",
      " [ 7  8  9  5  4  6  1  2  3  2  1 23  1  2  4 51  3  2  5  4]\n",
      " [ 4  5  6  6  5  5  5 55  5  1  2  3  1 47  8 12 15 18  1  4]]\n"
     ]
    }
   ],
   "source": [
    "f=np.genfromtxt('Text.txt', delimiter=',')\n",
    "a=f.astype('int32')    #makes a copy of f and convert all data to integer type , not replaces original f\n",
    "print(a)    #prints values without commas"
   ]
  },
  {
   "cell_type": "code",
   "execution_count": 5,
   "id": "de353d1b",
   "metadata": {},
   "outputs": [
    {
     "name": "stdout",
     "output_type": "stream",
     "text": [
      "[[ 1.  2.  3.  4.  5.  7.  8.  9.  7.  8.  7.  8.  9.  5. 11.  2.  5.  3.\n",
      "   1.  4.]\n",
      " [ 7.  8.  9.  5.  4.  6.  1.  2.  3.  2.  1. 23.  1.  2.  4. 51.  3.  2.\n",
      "   5.  4.]\n",
      " [ 4.  5.  6.  6.  5.  5.  5. 55.  5.  1.  2.  3.  1. 47.  8. 12. 15. 18.\n",
      "   1.  4.]]\n"
     ]
    }
   ],
   "source": [
    " print(f)        #prints values without commas"
   ]
  },
  {
   "cell_type": "code",
   "execution_count": 6,
   "id": "66718d49",
   "metadata": {},
   "outputs": [
    {
     "data": {
      "text/plain": [
       "array([[ 1.,  2.,  3.,  4.,  5.,  7.,  8.,  9.,  7.,  8.,  7.,  8.,  9.,\n",
       "         5., 11.,  2.,  5.,  3.,  1.,  4.],\n",
       "       [ 7.,  8.,  9.,  5.,  4.,  6.,  1.,  2.,  3.,  2.,  1., 23.,  1.,\n",
       "         2.,  4., 51.,  3.,  2.,  5.,  4.],\n",
       "       [ 4.,  5.,  6.,  6.,  5.,  5.,  5., 55.,  5.,  1.,  2.,  3.,  1.,\n",
       "        47.,  8., 12., 15., 18.,  1.,  4.]])"
      ]
     },
     "execution_count": 6,
     "metadata": {},
     "output_type": "execute_result"
    }
   ],
   "source": [
    "f   #prints original f with commas"
   ]
  },
  {
   "cell_type": "markdown",
   "id": "72c86f26",
   "metadata": {},
   "source": [
    "####  Boolean masking and Advanced indexing"
   ]
  },
  {
   "cell_type": "code",
   "execution_count": 7,
   "id": "14ffa0a7",
   "metadata": {},
   "outputs": [
    {
     "data": {
      "text/plain": [
       "array([[False, False, False, False, False, False, False, False, False,\n",
       "        False, False, False, False, False,  True, False, False, False,\n",
       "        False, False],\n",
       "       [False, False, False, False, False, False, False, False, False,\n",
       "        False, False,  True, False, False, False,  True, False, False,\n",
       "        False, False],\n",
       "       [False, False, False, False, False, False, False,  True, False,\n",
       "        False, False, False, False,  True, False,  True,  True,  True,\n",
       "        False, False]])"
      ]
     },
     "execution_count": 7,
     "metadata": {},
     "output_type": "execute_result"
    }
   ],
   "source": [
    "f>9   #return true at value greater than 9 else false"
   ]
  },
  {
   "cell_type": "code",
   "execution_count": 8,
   "id": "4f528382",
   "metadata": {},
   "outputs": [
    {
     "data": {
      "text/plain": [
       "array([11., 23., 51., 55., 47., 12., 15., 18.])"
      ]
     },
     "execution_count": 8,
     "metadata": {},
     "output_type": "execute_result"
    }
   ],
   "source": [
    "f[f>10]   # returns value greater than 10 in f"
   ]
  },
  {
   "cell_type": "code",
   "execution_count": 9,
   "id": "c2fb1fea",
   "metadata": {},
   "outputs": [
    {
     "name": "stdout",
     "output_type": "stream",
     "text": [
      "[[0, 1, 8]]\n",
      "[6]\n"
     ]
    }
   ],
   "source": [
    "#You can index with a list in Numpy\n",
    "a=np.array([1,2,3,4,5,6,7,8,9])\n",
    "c=[[0,1,8]]\n",
    "print(c)\n",
    "\n",
    "b=a[[5]]\n",
    "print(b)"
   ]
  },
  {
   "cell_type": "code",
   "execution_count": 10,
   "id": "33e5be0e",
   "metadata": {},
   "outputs": [
    {
     "data": {
      "text/plain": [
       "array([False, False, False, False, False, False, False,  True, False,\n",
       "       False, False, False, False, False, False,  True, False, False,\n",
       "       False, False])"
      ]
     },
     "execution_count": 10,
     "metadata": {},
     "output_type": "execute_result"
    }
   ],
   "source": [
    "np.any(f>50,axis=0)  #checks vertically"
   ]
  },
  {
   "cell_type": "code",
   "execution_count": 11,
   "id": "7b763920",
   "metadata": {},
   "outputs": [
    {
     "data": {
      "text/plain": [
       "array([False,  True,  True])"
      ]
     },
     "execution_count": 11,
     "metadata": {},
     "output_type": "execute_result"
    }
   ],
   "source": [
    "np.any(f>50,axis=1)    #checks horizontally"
   ]
  },
  {
   "cell_type": "code",
   "execution_count": 12,
   "id": "4183ea1e",
   "metadata": {},
   "outputs": [
    {
     "data": {
      "text/plain": [
       "array([False, False, False, False, False, False, False, False, False,\n",
       "       False, False, False, False, False, False, False, False, False,\n",
       "       False, False])"
      ]
     },
     "execution_count": 12,
     "metadata": {},
     "output_type": "execute_result"
    }
   ],
   "source": [
    "np.all(f>50,axis=0)"
   ]
  },
  {
   "cell_type": "code",
   "execution_count": 13,
   "id": "4d19b658",
   "metadata": {},
   "outputs": [
    {
     "data": {
      "text/plain": [
       "array([[False, False, False, False, False, False, False, False, False,\n",
       "        False, False, False, False, False, False, False, False, False,\n",
       "        False, False],\n",
       "       [False, False, False, False, False, False, False, False, False,\n",
       "        False, False, False, False, False, False,  True, False, False,\n",
       "        False, False],\n",
       "       [False, False, False, False, False, False, False,  True, False,\n",
       "        False, False, False, False, False, False, False, False, False,\n",
       "        False, False]])"
      ]
     },
     "execution_count": 13,
     "metadata": {},
     "output_type": "execute_result"
    }
   ],
   "source": [
    "((f>50) & (f<100))    #and"
   ]
  },
  {
   "cell_type": "code",
   "execution_count": 14,
   "id": "d3d182b2",
   "metadata": {},
   "outputs": [
    {
     "data": {
      "text/plain": [
       "array([[ True,  True,  True,  True,  True,  True,  True,  True,  True,\n",
       "         True,  True,  True,  True,  True,  True,  True,  True,  True,\n",
       "         True,  True],\n",
       "       [ True,  True,  True,  True,  True,  True,  True,  True,  True,\n",
       "         True,  True,  True,  True,  True,  True, False,  True,  True,\n",
       "         True,  True],\n",
       "       [ True,  True,  True,  True,  True,  True,  True, False,  True,\n",
       "         True,  True,  True,  True,  True,  True,  True,  True,  True,\n",
       "         True,  True]])"
      ]
     },
     "execution_count": 14,
     "metadata": {},
     "output_type": "execute_result"
    }
   ],
   "source": [
    "(~(f>50) & (f<100))   #not"
   ]
  },
  {
   "cell_type": "code",
   "execution_count": 15,
   "id": "4c0a7f56",
   "metadata": {},
   "outputs": [
    {
     "data": {
      "text/plain": [
       "array([[ True,  True,  True,  True,  True,  True,  True,  True,  True,\n",
       "         True,  True,  True,  True,  True,  True,  True,  True,  True,\n",
       "         True,  True],\n",
       "       [ True,  True,  True,  True,  True,  True,  True,  True,  True,\n",
       "         True,  True,  True,  True,  True,  True,  True,  True,  True,\n",
       "         True,  True],\n",
       "       [ True,  True,  True,  True,  True,  True,  True,  True,  True,\n",
       "         True,  True,  True,  True,  True,  True,  True,  True,  True,\n",
       "         True,  True]])"
      ]
     },
     "execution_count": 15,
     "metadata": {},
     "output_type": "execute_result"
    }
   ],
   "source": [
    "((f>50) | (f<100))   #or"
   ]
  },
  {
   "cell_type": "code",
   "execution_count": 16,
   "id": "9f10ba8e",
   "metadata": {},
   "outputs": [
    {
     "data": {
      "text/plain": [
       "[[1, 2, 3, 4, 5],\n",
       " [6, 7, 8, 9, 10],\n",
       " [11, 12, 13, 14, 15],\n",
       " [16, 17, 18, 19, 20],\n",
       " [21, 22, 23, 24, 25],\n",
       " [26, 27, 28, 29, 30]]"
      ]
     },
     "execution_count": 16,
     "metadata": {},
     "output_type": "execute_result"
    }
   ],
   "source": [
    "a=([[1,2,3,4,5],[6,7,8,9,10],[11,12,13,14,15],[16,17,18,19,20],[21,22,23,24,25],[26,27,28,29,30]])\n",
    "a"
   ]
  }
 ],
 "metadata": {
  "kernelspec": {
   "display_name": "Python 3",
   "language": "python",
   "name": "python3"
  },
  "language_info": {
   "codemirror_mode": {
    "name": "ipython",
    "version": 3
   },
   "file_extension": ".py",
   "mimetype": "text/x-python",
   "name": "python",
   "nbconvert_exporter": "python",
   "pygments_lexer": "ipython3",
   "version": "3.8.8"
  }
 },
 "nbformat": 4,
 "nbformat_minor": 5
}
