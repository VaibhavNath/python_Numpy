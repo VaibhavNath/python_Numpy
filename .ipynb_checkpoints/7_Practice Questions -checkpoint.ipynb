{
 "cells": [
  {
   "cell_type": "markdown",
   "id": "d05369ec",
   "metadata": {},
   "source": [
    "### 1. Write a NumPy program to get the numpy version and show numpy build configuration."
   ]
  },
  {
   "cell_type": "code",
   "execution_count": 1,
   "id": "3cf62a49",
   "metadata": {},
   "outputs": [
    {
     "name": "stdout",
     "output_type": "stream",
     "text": [
      "1.20.1\n",
      "blas_mkl_info:\n",
      "    libraries = ['mkl_rt']\n",
      "    library_dirs = ['C:/Users/ACER/anaconda3\\\\Library\\\\lib']\n",
      "    define_macros = [('SCIPY_MKL_H', None), ('HAVE_CBLAS', None)]\n",
      "    include_dirs = ['C:/Users/ACER/anaconda3\\\\Library\\\\include']\n",
      "blas_opt_info:\n",
      "    libraries = ['mkl_rt']\n",
      "    library_dirs = ['C:/Users/ACER/anaconda3\\\\Library\\\\lib']\n",
      "    define_macros = [('SCIPY_MKL_H', None), ('HAVE_CBLAS', None)]\n",
      "    include_dirs = ['C:/Users/ACER/anaconda3\\\\Library\\\\include']\n",
      "lapack_mkl_info:\n",
      "    libraries = ['mkl_rt']\n",
      "    library_dirs = ['C:/Users/ACER/anaconda3\\\\Library\\\\lib']\n",
      "    define_macros = [('SCIPY_MKL_H', None), ('HAVE_CBLAS', None)]\n",
      "    include_dirs = ['C:/Users/ACER/anaconda3\\\\Library\\\\include']\n",
      "lapack_opt_info:\n",
      "    libraries = ['mkl_rt']\n",
      "    library_dirs = ['C:/Users/ACER/anaconda3\\\\Library\\\\lib']\n",
      "    define_macros = [('SCIPY_MKL_H', None), ('HAVE_CBLAS', None)]\n",
      "    include_dirs = ['C:/Users/ACER/anaconda3\\\\Library\\\\include']\n",
      "None\n"
     ]
    }
   ],
   "source": [
    "import numpy as np\n",
    "print(np.__version__)\n",
    "print(np.show_config())"
   ]
  },
  {
   "cell_type": "markdown",
   "id": "55b1801b",
   "metadata": {},
   "source": [
    "### 2. Write a NumPy program to  get help on the add function"
   ]
  },
  {
   "cell_type": "code",
   "execution_count": 2,
   "id": "e209b7e5",
   "metadata": {},
   "outputs": [
    {
     "name": "stdout",
     "output_type": "stream",
     "text": [
      "Help on ufunc object:\n",
      "\n",
      "add = class ufunc(builtins.object)\n",
      " |  Functions that operate element by element on whole arrays.\n",
      " |  \n",
      " |  To see the documentation for a specific ufunc, use `info`.  For\n",
      " |  example, ``np.info(np.sin)``.  Because ufuncs are written in C\n",
      " |  (for speed) and linked into Python with NumPy's ufunc facility,\n",
      " |  Python's help() function finds this page whenever help() is called\n",
      " |  on a ufunc.\n",
      " |  \n",
      " |  A detailed explanation of ufuncs can be found in the docs for :ref:`ufuncs`.\n",
      " |  \n",
      " |  **Calling ufuncs:** ``op(*x[, out], where=True, **kwargs)``\n",
      " |  \n",
      " |  Apply `op` to the arguments `*x` elementwise, broadcasting the arguments.\n",
      " |  \n",
      " |  The broadcasting rules are:\n",
      " |  \n",
      " |  * Dimensions of length 1 may be prepended to either array.\n",
      " |  * Arrays may be repeated along dimensions of length 1.\n",
      " |  \n",
      " |  Parameters\n",
      " |  ----------\n",
      " |  *x : array_like\n",
      " |      Input arrays.\n",
      " |  out : ndarray, None, or tuple of ndarray and None, optional\n",
      " |      Alternate array object(s) in which to put the result; if provided, it\n",
      " |      must have a shape that the inputs broadcast to. A tuple of arrays\n",
      " |      (possible only as a keyword argument) must have length equal to the\n",
      " |      number of outputs; use None for uninitialized outputs to be\n",
      " |      allocated by the ufunc.\n",
      " |  where : array_like, optional\n",
      " |      This condition is broadcast over the input. At locations where the\n",
      " |      condition is True, the `out` array will be set to the ufunc result.\n",
      " |      Elsewhere, the `out` array will retain its original value.\n",
      " |      Note that if an uninitialized `out` array is created via the default\n",
      " |      ``out=None``, locations within it where the condition is False will\n",
      " |      remain uninitialized.\n",
      " |  **kwargs\n",
      " |      For other keyword-only arguments, see the :ref:`ufunc docs <ufuncs.kwargs>`.\n",
      " |  \n",
      " |  Returns\n",
      " |  -------\n",
      " |  r : ndarray or tuple of ndarray\n",
      " |      `r` will have the shape that the arrays in `x` broadcast to; if `out` is\n",
      " |      provided, it will be returned. If not, `r` will be allocated and\n",
      " |      may contain uninitialized values. If the function has more than one\n",
      " |      output, then the result will be a tuple of arrays.\n",
      " |  \n",
      " |  Methods defined here:\n",
      " |  \n",
      " |  __call__(self, /, *args, **kwargs)\n",
      " |      Call self as a function.\n",
      " |  \n",
      " |  __repr__(self, /)\n",
      " |      Return repr(self).\n",
      " |  \n",
      " |  __str__(self, /)\n",
      " |      Return str(self).\n",
      " |  \n",
      " |  accumulate(...)\n",
      " |      accumulate(array, axis=0, dtype=None, out=None)\n",
      " |      \n",
      " |      Accumulate the result of applying the operator to all elements.\n",
      " |      \n",
      " |      For a one-dimensional array, accumulate produces results equivalent to::\n",
      " |      \n",
      " |        r = np.empty(len(A))\n",
      " |        t = op.identity        # op = the ufunc being applied to A's  elements\n",
      " |        for i in range(len(A)):\n",
      " |            t = op(t, A[i])\n",
      " |            r[i] = t\n",
      " |        return r\n",
      " |      \n",
      " |      For example, add.accumulate() is equivalent to np.cumsum().\n",
      " |      \n",
      " |      For a multi-dimensional array, accumulate is applied along only one\n",
      " |      axis (axis zero by default; see Examples below) so repeated use is\n",
      " |      necessary if one wants to accumulate over multiple axes.\n",
      " |      \n",
      " |      Parameters\n",
      " |      ----------\n",
      " |      array : array_like\n",
      " |          The array to act on.\n",
      " |      axis : int, optional\n",
      " |          The axis along which to apply the accumulation; default is zero.\n",
      " |      dtype : data-type code, optional\n",
      " |          The data-type used to represent the intermediate results. Defaults\n",
      " |          to the data-type of the output array if such is provided, or the\n",
      " |          the data-type of the input array if no output array is provided.\n",
      " |      out : ndarray, None, or tuple of ndarray and None, optional\n",
      " |          A location into which the result is stored. If not provided or None,\n",
      " |          a freshly-allocated array is returned. For consistency with\n",
      " |          ``ufunc.__call__``, if given as a keyword, this may be wrapped in a\n",
      " |          1-element tuple.\n",
      " |      \n",
      " |          .. versionchanged:: 1.13.0\n",
      " |             Tuples are allowed for keyword argument.\n",
      " |      \n",
      " |      Returns\n",
      " |      -------\n",
      " |      r : ndarray\n",
      " |          The accumulated values. If `out` was supplied, `r` is a reference to\n",
      " |          `out`.\n",
      " |      \n",
      " |      Examples\n",
      " |      --------\n",
      " |      1-D array examples:\n",
      " |      \n",
      " |      >>> np.add.accumulate([2, 3, 5])\n",
      " |      array([ 2,  5, 10])\n",
      " |      >>> np.multiply.accumulate([2, 3, 5])\n",
      " |      array([ 2,  6, 30])\n",
      " |      \n",
      " |      2-D array examples:\n",
      " |      \n",
      " |      >>> I = np.eye(2)\n",
      " |      >>> I\n",
      " |      array([[1.,  0.],\n",
      " |             [0.,  1.]])\n",
      " |      \n",
      " |      Accumulate along axis 0 (rows), down columns:\n",
      " |      \n",
      " |      >>> np.add.accumulate(I, 0)\n",
      " |      array([[1.,  0.],\n",
      " |             [1.,  1.]])\n",
      " |      >>> np.add.accumulate(I) # no axis specified = axis zero\n",
      " |      array([[1.,  0.],\n",
      " |             [1.,  1.]])\n",
      " |      \n",
      " |      Accumulate along axis 1 (columns), through rows:\n",
      " |      \n",
      " |      >>> np.add.accumulate(I, 1)\n",
      " |      array([[1.,  1.],\n",
      " |             [0.,  1.]])\n",
      " |  \n",
      " |  at(...)\n",
      " |      at(a, indices, b=None, /)\n",
      " |      \n",
      " |      Performs unbuffered in place operation on operand 'a' for elements\n",
      " |      specified by 'indices'. For addition ufunc, this method is equivalent to\n",
      " |      ``a[indices] += b``, except that results are accumulated for elements that\n",
      " |      are indexed more than once. For example, ``a[[0,0]] += 1`` will only\n",
      " |      increment the first element once because of buffering, whereas\n",
      " |      ``add.at(a, [0,0], 1)`` will increment the first element twice.\n",
      " |      \n",
      " |      .. versionadded:: 1.8.0\n",
      " |      \n",
      " |      Parameters\n",
      " |      ----------\n",
      " |      a : array_like\n",
      " |          The array to perform in place operation on.\n",
      " |      indices : array_like or tuple\n",
      " |          Array like index object or slice object for indexing into first\n",
      " |          operand. If first operand has multiple dimensions, indices can be a\n",
      " |          tuple of array like index objects or slice objects.\n",
      " |      b : array_like\n",
      " |          Second operand for ufuncs requiring two operands. Operand must be\n",
      " |          broadcastable over first operand after indexing or slicing.\n",
      " |      \n",
      " |      Examples\n",
      " |      --------\n",
      " |      Set items 0 and 1 to their negative values:\n",
      " |      \n",
      " |      >>> a = np.array([1, 2, 3, 4])\n",
      " |      >>> np.negative.at(a, [0, 1])\n",
      " |      >>> a\n",
      " |      array([-1, -2,  3,  4])\n",
      " |      \n",
      " |      Increment items 0 and 1, and increment item 2 twice:\n",
      " |      \n",
      " |      >>> a = np.array([1, 2, 3, 4])\n",
      " |      >>> np.add.at(a, [0, 1, 2, 2], 1)\n",
      " |      >>> a\n",
      " |      array([2, 3, 5, 4])\n",
      " |      \n",
      " |      Add items 0 and 1 in first array to second array,\n",
      " |      and store results in first array:\n",
      " |      \n",
      " |      >>> a = np.array([1, 2, 3, 4])\n",
      " |      >>> b = np.array([1, 2])\n",
      " |      >>> np.add.at(a, [0, 1], b)\n",
      " |      >>> a\n",
      " |      array([2, 4, 3, 4])\n",
      " |  \n",
      " |  outer(...)\n",
      " |      outer(A, B, /, **kwargs)\n",
      " |      \n",
      " |      Apply the ufunc `op` to all pairs (a, b) with a in `A` and b in `B`.\n",
      " |      \n",
      " |      Let ``M = A.ndim``, ``N = B.ndim``. Then the result, `C`, of\n",
      " |      ``op.outer(A, B)`` is an array of dimension M + N such that:\n",
      " |      \n",
      " |      .. math:: C[i_0, ..., i_{M-1}, j_0, ..., j_{N-1}] =\n",
      " |         op(A[i_0, ..., i_{M-1}], B[j_0, ..., j_{N-1}])\n",
      " |      \n",
      " |      For `A` and `B` one-dimensional, this is equivalent to::\n",
      " |      \n",
      " |        r = empty(len(A),len(B))\n",
      " |        for i in range(len(A)):\n",
      " |            for j in range(len(B)):\n",
      " |                r[i,j] = op(A[i], B[j]) # op = ufunc in question\n",
      " |      \n",
      " |      Parameters\n",
      " |      ----------\n",
      " |      A : array_like\n",
      " |          First array\n",
      " |      B : array_like\n",
      " |          Second array\n",
      " |      kwargs : any\n",
      " |          Arguments to pass on to the ufunc. Typically `dtype` or `out`.\n",
      " |      \n",
      " |      Returns\n",
      " |      -------\n",
      " |      r : ndarray\n",
      " |          Output array\n",
      " |      \n",
      " |      See Also\n",
      " |      --------\n",
      " |      numpy.outer : A less powerful version of ``np.multiply.outer``\n",
      " |                    that `ravel`\\ s all inputs to 1D. This exists\n",
      " |                    primarily for compatibility with old code.\n",
      " |      \n",
      " |      tensordot : ``np.tensordot(a, b, axes=((), ()))`` and\n",
      " |                  ``np.multiply.outer(a, b)`` behave same for all\n",
      " |                  dimensions of a and b.\n",
      " |      \n",
      " |      Examples\n",
      " |      --------\n",
      " |      >>> np.multiply.outer([1, 2, 3], [4, 5, 6])\n",
      " |      array([[ 4,  5,  6],\n",
      " |             [ 8, 10, 12],\n",
      " |             [12, 15, 18]])\n",
      " |      \n",
      " |      A multi-dimensional example:\n",
      " |      \n",
      " |      >>> A = np.array([[1, 2, 3], [4, 5, 6]])\n",
      " |      >>> A.shape\n",
      " |      (2, 3)\n",
      " |      >>> B = np.array([[1, 2, 3, 4]])\n",
      " |      >>> B.shape\n",
      " |      (1, 4)\n",
      " |      >>> C = np.multiply.outer(A, B)\n",
      " |      >>> C.shape; C\n",
      " |      (2, 3, 1, 4)\n",
      " |      array([[[[ 1,  2,  3,  4]],\n",
      " |              [[ 2,  4,  6,  8]],\n",
      " |              [[ 3,  6,  9, 12]]],\n",
      " |             [[[ 4,  8, 12, 16]],\n",
      " |              [[ 5, 10, 15, 20]],\n",
      " |              [[ 6, 12, 18, 24]]]])\n",
      " |  \n",
      " |  reduce(...)\n",
      " |      reduce(array, axis=0, dtype=None, out=None, keepdims=False, initial=<no value>, where=True)\n",
      " |      \n",
      " |      Reduces `array`'s dimension by one, by applying ufunc along one axis.\n",
      " |      \n",
      " |      Let :math:`array.shape = (N_0, ..., N_i, ..., N_{M-1})`.  Then\n",
      " |      :math:`ufunc.reduce(array, axis=i)[k_0, ..,k_{i-1}, k_{i+1}, .., k_{M-1}]` =\n",
      " |      the result of iterating `j` over :math:`range(N_i)`, cumulatively applying\n",
      " |      ufunc to each :math:`array[k_0, ..,k_{i-1}, j, k_{i+1}, .., k_{M-1}]`.\n",
      " |      For a one-dimensional array, reduce produces results equivalent to:\n",
      " |      ::\n",
      " |      \n",
      " |       r = op.identity # op = ufunc\n",
      " |       for i in range(len(A)):\n",
      " |         r = op(r, A[i])\n",
      " |       return r\n",
      " |      \n",
      " |      For example, add.reduce() is equivalent to sum().\n",
      " |      \n",
      " |      Parameters\n",
      " |      ----------\n",
      " |      array : array_like\n",
      " |          The array to act on.\n",
      " |      axis : None or int or tuple of ints, optional\n",
      " |          Axis or axes along which a reduction is performed.\n",
      " |          The default (`axis` = 0) is perform a reduction over the first\n",
      " |          dimension of the input array. `axis` may be negative, in\n",
      " |          which case it counts from the last to the first axis.\n",
      " |      \n",
      " |          .. versionadded:: 1.7.0\n",
      " |      \n",
      " |          If this is None, a reduction is performed over all the axes.\n",
      " |          If this is a tuple of ints, a reduction is performed on multiple\n",
      " |          axes, instead of a single axis or all the axes as before.\n",
      " |      \n",
      " |          For operations which are either not commutative or not associative,\n",
      " |          doing a reduction over multiple axes is not well-defined. The\n",
      " |          ufuncs do not currently raise an exception in this case, but will\n",
      " |          likely do so in the future.\n",
      " |      dtype : data-type code, optional\n",
      " |          The type used to represent the intermediate results. Defaults\n",
      " |          to the data-type of the output array if this is provided, or\n",
      " |          the data-type of the input array if no output array is provided.\n",
      " |      out : ndarray, None, or tuple of ndarray and None, optional\n",
      " |          A location into which the result is stored. If not provided or None,\n",
      " |          a freshly-allocated array is returned. For consistency with\n",
      " |          ``ufunc.__call__``, if given as a keyword, this may be wrapped in a\n",
      " |          1-element tuple.\n",
      " |      \n",
      " |          .. versionchanged:: 1.13.0\n",
      " |             Tuples are allowed for keyword argument.\n",
      " |      keepdims : bool, optional\n",
      " |          If this is set to True, the axes which are reduced are left\n",
      " |          in the result as dimensions with size one. With this option,\n",
      " |          the result will broadcast correctly against the original `array`.\n",
      " |      \n",
      " |          .. versionadded:: 1.7.0\n",
      " |      initial : scalar, optional\n",
      " |          The value with which to start the reduction.\n",
      " |          If the ufunc has no identity or the dtype is object, this defaults\n",
      " |          to None - otherwise it defaults to ufunc.identity.\n",
      " |          If ``None`` is given, the first element of the reduction is used,\n",
      " |          and an error is thrown if the reduction is empty.\n",
      " |      \n",
      " |          .. versionadded:: 1.15.0\n",
      " |      \n",
      " |      where : array_like of bool, optional\n",
      " |          A boolean array which is broadcasted to match the dimensions\n",
      " |          of `array`, and selects elements to include in the reduction. Note\n",
      " |          that for ufuncs like ``minimum`` that do not have an identity\n",
      " |          defined, one has to pass in also ``initial``.\n",
      " |      \n",
      " |          .. versionadded:: 1.17.0\n",
      " |      \n",
      " |      Returns\n",
      " |      -------\n",
      " |      r : ndarray\n",
      " |          The reduced array. If `out` was supplied, `r` is a reference to it.\n",
      " |      \n",
      " |      Examples\n",
      " |      --------\n",
      " |      >>> np.multiply.reduce([2,3,5])\n",
      " |      30\n",
      " |      \n",
      " |      A multi-dimensional array example:\n",
      " |      \n",
      " |      >>> X = np.arange(8).reshape((2,2,2))\n",
      " |      >>> X\n",
      " |      array([[[0, 1],\n",
      " |              [2, 3]],\n",
      " |             [[4, 5],\n",
      " |              [6, 7]]])\n",
      " |      >>> np.add.reduce(X, 0)\n",
      " |      array([[ 4,  6],\n",
      " |             [ 8, 10]])\n",
      " |      >>> np.add.reduce(X) # confirm: default axis value is 0\n",
      " |      array([[ 4,  6],\n",
      " |             [ 8, 10]])\n",
      " |      >>> np.add.reduce(X, 1)\n",
      " |      array([[ 2,  4],\n",
      " |             [10, 12]])\n",
      " |      >>> np.add.reduce(X, 2)\n",
      " |      array([[ 1,  5],\n",
      " |             [ 9, 13]])\n",
      " |      \n",
      " |      You can use the ``initial`` keyword argument to initialize the reduction\n",
      " |      with a different value, and ``where`` to select specific elements to include:\n",
      " |      \n",
      " |      >>> np.add.reduce([10], initial=5)\n",
      " |      15\n",
      " |      >>> np.add.reduce(np.ones((2, 2, 2)), axis=(0, 2), initial=10)\n",
      " |      array([14., 14.])\n",
      " |      >>> a = np.array([10., np.nan, 10])\n",
      " |      >>> np.add.reduce(a, where=~np.isnan(a))\n",
      " |      20.0\n",
      " |      \n",
      " |      Allows reductions of empty arrays where they would normally fail, i.e.\n",
      " |      for ufuncs without an identity.\n",
      " |      \n",
      " |      >>> np.minimum.reduce([], initial=np.inf)\n",
      " |      inf\n",
      " |      >>> np.minimum.reduce([[1., 2.], [3., 4.]], initial=10., where=[True, False])\n",
      " |      array([ 1., 10.])\n",
      " |      >>> np.minimum.reduce([])\n",
      " |      Traceback (most recent call last):\n",
      " |          ...\n",
      " |      ValueError: zero-size array to reduction operation minimum which has no identity\n",
      " |  \n",
      " |  reduceat(...)\n",
      " |      reduceat(array, indices, axis=0, dtype=None, out=None)\n",
      " |      \n",
      " |      Performs a (local) reduce with specified slices over a single axis.\n",
      " |      \n",
      " |      For i in ``range(len(indices))``, `reduceat` computes\n",
      " |      ``ufunc.reduce(array[indices[i]:indices[i+1]])``, which becomes the i-th\n",
      " |      generalized \"row\" parallel to `axis` in the final result (i.e., in a\n",
      " |      2-D array, for example, if `axis = 0`, it becomes the i-th row, but if\n",
      " |      `axis = 1`, it becomes the i-th column).  There are three exceptions to this:\n",
      " |      \n",
      " |      * when ``i = len(indices) - 1`` (so for the last index),\n",
      " |        ``indices[i+1] = array.shape[axis]``.\n",
      " |      * if ``indices[i] >= indices[i + 1]``, the i-th generalized \"row\" is\n",
      " |        simply ``array[indices[i]]``.\n",
      " |      * if ``indices[i] >= len(array)`` or ``indices[i] < 0``, an error is raised.\n",
      " |      \n",
      " |      The shape of the output depends on the size of `indices`, and may be\n",
      " |      larger than `array` (this happens if ``len(indices) > array.shape[axis]``).\n",
      " |      \n",
      " |      Parameters\n",
      " |      ----------\n",
      " |      array : array_like\n",
      " |          The array to act on.\n",
      " |      indices : array_like\n",
      " |          Paired indices, comma separated (not colon), specifying slices to\n",
      " |          reduce.\n",
      " |      axis : int, optional\n",
      " |          The axis along which to apply the reduceat.\n",
      " |      dtype : data-type code, optional\n",
      " |          The type used to represent the intermediate results. Defaults\n",
      " |          to the data type of the output array if this is provided, or\n",
      " |          the data type of the input array if no output array is provided.\n",
      " |      out : ndarray, None, or tuple of ndarray and None, optional\n",
      " |          A location into which the result is stored. If not provided or None,\n",
      " |          a freshly-allocated array is returned. For consistency with\n",
      " |          ``ufunc.__call__``, if given as a keyword, this may be wrapped in a\n",
      " |          1-element tuple.\n",
      " |      \n",
      " |          .. versionchanged:: 1.13.0\n",
      " |             Tuples are allowed for keyword argument.\n",
      " |      \n",
      " |      Returns\n",
      " |      -------\n",
      " |      r : ndarray\n",
      " |          The reduced values. If `out` was supplied, `r` is a reference to\n",
      " |          `out`.\n",
      " |      \n",
      " |      Notes\n",
      " |      -----\n",
      " |      A descriptive example:\n",
      " |      \n",
      " |      If `array` is 1-D, the function `ufunc.accumulate(array)` is the same as\n",
      " |      ``ufunc.reduceat(array, indices)[::2]`` where `indices` is\n",
      " |      ``range(len(array) - 1)`` with a zero placed\n",
      " |      in every other element:\n",
      " |      ``indices = zeros(2 * len(array) - 1)``,\n",
      " |      ``indices[1::2] = range(1, len(array))``.\n",
      " |      \n",
      " |      Don't be fooled by this attribute's name: `reduceat(array)` is not\n",
      " |      necessarily smaller than `array`.\n",
      " |      \n",
      " |      Examples\n",
      " |      --------\n",
      " |      To take the running sum of four successive values:\n",
      " |      \n",
      " |      >>> np.add.reduceat(np.arange(8),[0,4, 1,5, 2,6, 3,7])[::2]\n",
      " |      array([ 6, 10, 14, 18])\n",
      " |      \n",
      " |      A 2-D example:\n",
      " |      \n",
      " |      >>> x = np.linspace(0, 15, 16).reshape(4,4)\n",
      " |      >>> x\n",
      " |      array([[ 0.,   1.,   2.,   3.],\n",
      " |             [ 4.,   5.,   6.,   7.],\n",
      " |             [ 8.,   9.,  10.,  11.],\n",
      " |             [12.,  13.,  14.,  15.]])\n",
      " |      \n",
      " |      ::\n",
      " |      \n",
      " |       # reduce such that the result has the following five rows:\n",
      " |       # [row1 + row2 + row3]\n",
      " |       # [row4]\n",
      " |       # [row2]\n",
      " |       # [row3]\n",
      " |       # [row1 + row2 + row3 + row4]\n",
      " |      \n",
      " |      >>> np.add.reduceat(x, [0, 3, 1, 2, 0])\n",
      " |      array([[12.,  15.,  18.,  21.],\n",
      " |             [12.,  13.,  14.,  15.],\n",
      " |             [ 4.,   5.,   6.,   7.],\n",
      " |             [ 8.,   9.,  10.,  11.],\n",
      " |             [24.,  28.,  32.,  36.]])\n",
      " |      \n",
      " |      ::\n",
      " |      \n",
      " |       # reduce such that result has the following two columns:\n",
      " |       # [col1 * col2 * col3, col4]\n",
      " |      \n",
      " |      >>> np.multiply.reduceat(x, [0, 3], 1)\n",
      " |      array([[   0.,     3.],\n",
      " |             [ 120.,     7.],\n",
      " |             [ 720.,    11.],\n",
      " |             [2184.,    15.]])\n",
      " |  \n",
      " |  ----------------------------------------------------------------------\n",
      " |  Data descriptors defined here:\n",
      " |  \n",
      " |  identity\n",
      " |      The identity value.\n",
      " |      \n",
      " |      Data attribute containing the identity element for the ufunc, if it has one.\n",
      " |      If it does not, the attribute value is None.\n",
      " |      \n",
      " |      Examples\n",
      " |      --------\n",
      " |      >>> np.add.identity\n",
      " |      0\n",
      " |      >>> np.multiply.identity\n",
      " |      1\n",
      " |      >>> np.power.identity\n",
      " |      1\n",
      " |      >>> print(np.exp.identity)\n",
      " |      None\n",
      " |  \n",
      " |  nargs\n",
      " |      The number of arguments.\n",
      " |      \n",
      " |      Data attribute containing the number of arguments the ufunc takes, including\n",
      " |      optional ones.\n",
      " |      \n",
      " |      Notes\n",
      " |      -----\n",
      " |      Typically this value will be one more than what you might expect because all\n",
      " |      ufuncs take  the optional \"out\" argument.\n",
      " |      \n",
      " |      Examples\n",
      " |      --------\n",
      " |      >>> np.add.nargs\n",
      " |      3\n",
      " |      >>> np.multiply.nargs\n",
      " |      3\n",
      " |      >>> np.power.nargs\n",
      " |      3\n",
      " |      >>> np.exp.nargs\n",
      " |      2\n",
      " |  \n",
      " |  nin\n",
      " |      The number of inputs.\n",
      " |      \n",
      " |      Data attribute containing the number of arguments the ufunc treats as input.\n",
      " |      \n",
      " |      Examples\n",
      " |      --------\n",
      " |      >>> np.add.nin\n",
      " |      2\n",
      " |      >>> np.multiply.nin\n",
      " |      2\n",
      " |      >>> np.power.nin\n",
      " |      2\n",
      " |      >>> np.exp.nin\n",
      " |      1\n",
      " |  \n",
      " |  nout\n",
      " |      The number of outputs.\n",
      " |      \n",
      " |      Data attribute containing the number of arguments the ufunc treats as output.\n",
      " |      \n",
      " |      Notes\n",
      " |      -----\n",
      " |      Since all ufuncs can take output arguments, this will always be (at least) 1.\n",
      " |      \n",
      " |      Examples\n",
      " |      --------\n",
      " |      >>> np.add.nout\n",
      " |      1\n",
      " |      >>> np.multiply.nout\n",
      " |      1\n",
      " |      >>> np.power.nout\n",
      " |      1\n",
      " |      >>> np.exp.nout\n",
      " |      1\n",
      " |  \n",
      " |  ntypes\n",
      " |      The number of types.\n",
      " |      \n",
      " |      The number of numerical NumPy types - of which there are 18 total - on which\n",
      " |      the ufunc can operate.\n",
      " |      \n",
      " |      See Also\n",
      " |      --------\n",
      " |      numpy.ufunc.types\n",
      " |      \n",
      " |      Examples\n",
      " |      --------\n",
      " |      >>> np.add.ntypes\n",
      " |      18\n",
      " |      >>> np.multiply.ntypes\n",
      " |      18\n",
      " |      >>> np.power.ntypes\n",
      " |      17\n",
      " |      >>> np.exp.ntypes\n",
      " |      7\n",
      " |      >>> np.remainder.ntypes\n",
      " |      14\n",
      " |  \n",
      " |  signature\n",
      " |      Definition of the core elements a generalized ufunc operates on.\n",
      " |      \n",
      " |      The signature determines how the dimensions of each input/output array\n",
      " |      are split into core and loop dimensions:\n",
      " |      \n",
      " |      1. Each dimension in the signature is matched to a dimension of the\n",
      " |         corresponding passed-in array, starting from the end of the shape tuple.\n",
      " |      2. Core dimensions assigned to the same label in the signature must have\n",
      " |         exactly matching sizes, no broadcasting is performed.\n",
      " |      3. The core dimensions are removed from all inputs and the remaining\n",
      " |         dimensions are broadcast together, defining the loop dimensions.\n",
      " |      \n",
      " |      Notes\n",
      " |      -----\n",
      " |      Generalized ufuncs are used internally in many linalg functions, and in\n",
      " |      the testing suite; the examples below are taken from these.\n",
      " |      For ufuncs that operate on scalars, the signature is None, which is\n",
      " |      equivalent to '()' for every argument.\n",
      " |      \n",
      " |      Examples\n",
      " |      --------\n",
      " |      >>> np.core.umath_tests.matrix_multiply.signature\n",
      " |      '(m,n),(n,p)->(m,p)'\n",
      " |      >>> np.linalg._umath_linalg.det.signature\n",
      " |      '(m,m)->()'\n",
      " |      >>> np.add.signature is None\n",
      " |      True  # equivalent to '(),()->()'\n",
      " |  \n",
      " |  types\n",
      " |      Returns a list with types grouped input->output.\n",
      " |      \n",
      " |      Data attribute listing the data-type \"Domain-Range\" groupings the ufunc can\n",
      " |      deliver. The data-types are given using the character codes.\n",
      " |      \n",
      " |      See Also\n",
      " |      --------\n",
      " |      numpy.ufunc.ntypes\n",
      " |      \n",
      " |      Examples\n",
      " |      --------\n",
      " |      >>> np.add.types\n",
      " |      ['??->?', 'bb->b', 'BB->B', 'hh->h', 'HH->H', 'ii->i', 'II->I', 'll->l',\n",
      " |      'LL->L', 'qq->q', 'QQ->Q', 'ff->f', 'dd->d', 'gg->g', 'FF->F', 'DD->D',\n",
      " |      'GG->G', 'OO->O']\n",
      " |      \n",
      " |      >>> np.multiply.types\n",
      " |      ['??->?', 'bb->b', 'BB->B', 'hh->h', 'HH->H', 'ii->i', 'II->I', 'll->l',\n",
      " |      'LL->L', 'qq->q', 'QQ->Q', 'ff->f', 'dd->d', 'gg->g', 'FF->F', 'DD->D',\n",
      " |      'GG->G', 'OO->O']\n",
      " |      \n",
      " |      >>> np.power.types\n",
      " |      ['bb->b', 'BB->B', 'hh->h', 'HH->H', 'ii->i', 'II->I', 'll->l', 'LL->L',\n",
      " |      'qq->q', 'QQ->Q', 'ff->f', 'dd->d', 'gg->g', 'FF->F', 'DD->D', 'GG->G',\n",
      " |      'OO->O']\n",
      " |      \n",
      " |      >>> np.exp.types\n",
      " |      ['f->f', 'd->d', 'g->g', 'F->F', 'D->D', 'G->G', 'O->O']\n",
      " |      \n",
      " |      >>> np.remainder.types\n",
      " |      ['bb->b', 'BB->B', 'hh->h', 'HH->H', 'ii->i', 'II->I', 'll->l', 'LL->L',\n",
      " |      'qq->q', 'QQ->Q', 'ff->f', 'dd->d', 'gg->g', 'OO->O']\n",
      "\n"
     ]
    }
   ],
   "source": [
    "help(np.add)"
   ]
  },
  {
   "cell_type": "code",
   "execution_count": 3,
   "id": "bac151ae",
   "metadata": {},
   "outputs": [
    {
     "name": "stdout",
     "output_type": "stream",
     "text": [
      "Help on built-in function accumulate:\n",
      "\n",
      "accumulate(...) method of numpy.ufunc instance\n",
      "    accumulate(array, axis=0, dtype=None, out=None)\n",
      "    \n",
      "    Accumulate the result of applying the operator to all elements.\n",
      "    \n",
      "    For a one-dimensional array, accumulate produces results equivalent to::\n",
      "    \n",
      "      r = np.empty(len(A))\n",
      "      t = op.identity        # op = the ufunc being applied to A's  elements\n",
      "      for i in range(len(A)):\n",
      "          t = op(t, A[i])\n",
      "          r[i] = t\n",
      "      return r\n",
      "    \n",
      "    For example, add.accumulate() is equivalent to np.cumsum().\n",
      "    \n",
      "    For a multi-dimensional array, accumulate is applied along only one\n",
      "    axis (axis zero by default; see Examples below) so repeated use is\n",
      "    necessary if one wants to accumulate over multiple axes.\n",
      "    \n",
      "    Parameters\n",
      "    ----------\n",
      "    array : array_like\n",
      "        The array to act on.\n",
      "    axis : int, optional\n",
      "        The axis along which to apply the accumulation; default is zero.\n",
      "    dtype : data-type code, optional\n",
      "        The data-type used to represent the intermediate results. Defaults\n",
      "        to the data-type of the output array if such is provided, or the\n",
      "        the data-type of the input array if no output array is provided.\n",
      "    out : ndarray, None, or tuple of ndarray and None, optional\n",
      "        A location into which the result is stored. If not provided or None,\n",
      "        a freshly-allocated array is returned. For consistency with\n",
      "        ``ufunc.__call__``, if given as a keyword, this may be wrapped in a\n",
      "        1-element tuple.\n",
      "    \n",
      "        .. versionchanged:: 1.13.0\n",
      "           Tuples are allowed for keyword argument.\n",
      "    \n",
      "    Returns\n",
      "    -------\n",
      "    r : ndarray\n",
      "        The accumulated values. If `out` was supplied, `r` is a reference to\n",
      "        `out`.\n",
      "    \n",
      "    Examples\n",
      "    --------\n",
      "    1-D array examples:\n",
      "    \n",
      "    >>> np.add.accumulate([2, 3, 5])\n",
      "    array([ 2,  5, 10])\n",
      "    >>> np.multiply.accumulate([2, 3, 5])\n",
      "    array([ 2,  6, 30])\n",
      "    \n",
      "    2-D array examples:\n",
      "    \n",
      "    >>> I = np.eye(2)\n",
      "    >>> I\n",
      "    array([[1.,  0.],\n",
      "           [0.,  1.]])\n",
      "    \n",
      "    Accumulate along axis 0 (rows), down columns:\n",
      "    \n",
      "    >>> np.add.accumulate(I, 0)\n",
      "    array([[1.,  0.],\n",
      "           [1.,  1.]])\n",
      "    >>> np.add.accumulate(I) # no axis specified = axis zero\n",
      "    array([[1.,  0.],\n",
      "           [1.,  1.]])\n",
      "    \n",
      "    Accumulate along axis 1 (columns), through rows:\n",
      "    \n",
      "    >>> np.add.accumulate(I, 1)\n",
      "    array([[1.,  1.],\n",
      "           [0.,  1.]])\n",
      "\n"
     ]
    }
   ],
   "source": [
    "help(np.add.accumulate)"
   ]
  },
  {
   "cell_type": "code",
   "execution_count": 4,
   "id": "12e8494b",
   "metadata": {},
   "outputs": [
    {
     "data": {
      "text/plain": [
       "'1-D array examples:\\n    \\n    >>> np.add.accumulate([2, 3, 5])\\n    array([ 2,  5, 10])\\n    >>> np.multiply.accumulate([2, 3, 5])\\n    array([ 2,  6, 30])\\n    \\n    2-D array examples:\\n    \\n    >>> I = np.eye(2)\\n    >>> I\\n    array([[1.,  0.],\\n           [0.,  1.]])\\n    \\n    Accumulate along axis 0 (rows), down columns:\\n    \\n    >>> np.add.accumulate(I, 0)\\n    array([[1.,  0.],\\n           [1.,  1.]])\\n    >>> np.add.accumulate(I) # no axis specified = axis zero\\n    array([[1.,  0.],\\n           [1.,  1.]])\\n    \\n    Accumulate along axis 1 (columns), through rows:\\n    \\n    >>> np.add.accumulate(I, 1)\\n    array([[1.,  1.],\\n           [0.,  1.]])'"
      ]
     },
     "execution_count": 4,
     "metadata": {},
     "output_type": "execute_result"
    }
   ],
   "source": [
    "#np.add.accumulate example\n",
    "\n",
    "'''1-D array examples:\n",
    "    \n",
    "    >>> np.add.accumulate([2, 3, 5])\n",
    "    array([ 2,  5, 10])\n",
    "    >>> np.multiply.accumulate([2, 3, 5])\n",
    "    array([ 2,  6, 30])\n",
    "    \n",
    "    2-D array examples:\n",
    "    \n",
    "    >>> I = np.eye(2)\n",
    "    >>> I\n",
    "    array([[1.,  0.],\n",
    "           [0.,  1.]])\n",
    "    \n",
    "    Accumulate along axis 0 (rows), down columns:\n",
    "    \n",
    "    >>> np.add.accumulate(I, 0)\n",
    "    array([[1.,  0.],\n",
    "           [1.,  1.]])\n",
    "    >>> np.add.accumulate(I) # no axis specified = axis zero\n",
    "    array([[1.,  0.],\n",
    "           [1.,  1.]])\n",
    "    \n",
    "    Accumulate along axis 1 (columns), through rows:\n",
    "    \n",
    "    >>> np.add.accumulate(I, 1)\n",
    "    array([[1.,  1.],\n",
    "           [0.,  1.]])'''"
   ]
  },
  {
   "cell_type": "markdown",
   "id": "26b6ed0c",
   "metadata": {},
   "source": [
    "### 3. Write a NumPy program to test whether none of the elements of a given array is zero"
   ]
  },
  {
   "cell_type": "code",
   "execution_count": 5,
   "id": "6e9290d5",
   "metadata": {},
   "outputs": [
    {
     "name": "stdout",
     "output_type": "stream",
     "text": [
      "True\n",
      "False\n"
     ]
    }
   ],
   "source": [
    "a=np.array([1,2,3])\n",
    "print(np.all(a))\n",
    "\n",
    "\n",
    "b=np.array([0,1,2])\n",
    "print(np.all(b))"
   ]
  },
  {
   "cell_type": "markdown",
   "id": "a77bc2da",
   "metadata": {},
   "source": [
    " ### 4.Write a NumPy program to test whether any of the elements of a given array is non-zero."
   ]
  },
  {
   "cell_type": "code",
   "execution_count": 6,
   "id": "5c7ae25c",
   "metadata": {},
   "outputs": [
    {
     "name": "stdout",
     "output_type": "stream",
     "text": [
      "True\n",
      "False\n"
     ]
    }
   ],
   "source": [
    "a=np.array([1,2,3])\n",
    "print(np.any(a))\n",
    "\n",
    "\n",
    "b=np.array([0,0,0,0])\n",
    "print(np.any(b))"
   ]
  },
  {
   "cell_type": "markdown",
   "id": "f473c52d",
   "metadata": {},
   "source": [
    "### 5.Write a NumPy program to test a given array element-wise for finiteness (not infinity or not a Number)."
   ]
  },
  {
   "cell_type": "code",
   "execution_count": 7,
   "id": "1b75e7a2",
   "metadata": {},
   "outputs": [
    {
     "data": {
      "text/plain": [
       "array([ True,  True, False, False])"
      ]
     },
     "execution_count": 7,
     "metadata": {},
     "output_type": "execute_result"
    }
   ],
   "source": [
    "a=np.array([1 , 10 , np.nan , np.inf])\n",
    "np.isfinite(a)"
   ]
  },
  {
   "cell_type": "markdown",
   "id": "42551fa0",
   "metadata": {},
   "source": [
    "### 6.  Write a NumPy program to test element-wise for positive or negative infinity."
   ]
  },
  {
   "cell_type": "code",
   "execution_count": 8,
   "id": "0ece463e",
   "metadata": {},
   "outputs": [
    {
     "data": {
      "text/plain": [
       "array([False, False,  True, False,  True])"
      ]
     },
     "execution_count": 8,
     "metadata": {},
     "output_type": "execute_result"
    }
   ],
   "source": [
    "a=np.array([1 , 10 , -np.inf , np.nan , np.inf])\n",
    "np.isinf(a)"
   ]
  },
  {
   "cell_type": "markdown",
   "id": "d9a4361e",
   "metadata": {},
   "source": [
    "### 7.  Write a NumPy program to test element-wise for NaN of a given array. "
   ]
  },
  {
   "cell_type": "code",
   "execution_count": 9,
   "id": "3c5c172b",
   "metadata": {},
   "outputs": [
    {
     "data": {
      "text/plain": [
       "array([False, False, False,  True, False])"
      ]
     },
     "execution_count": 9,
     "metadata": {},
     "output_type": "execute_result"
    }
   ],
   "source": [
    "a=np.array([1 , 10 , -np.inf , np.nan , np.inf])\n",
    "np.isnan(a)"
   ]
  },
  {
   "cell_type": "markdown",
   "id": "55eccb00",
   "metadata": {},
   "source": [
    "### 8.  Write a NumPy program to test element-wise for complex number, real number of a given array. Also test                    whether a given number is a scalar type or not."
   ]
  },
  {
   "cell_type": "code",
   "execution_count": 10,
   "id": "5e99301c",
   "metadata": {},
   "outputs": [
    {
     "name": "stdout",
     "output_type": "stream",
     "text": [
      "[ True  True False False]\n",
      "\n",
      "[False False  True  True]\n",
      "\n",
      "True\n",
      "\n",
      "False\n"
     ]
    }
   ],
   "source": [
    "a=np.array([1 , 10 , 6+5j , 9-7j])\n",
    "print(np.isreal(a))\n",
    "print()\n",
    "print(np.iscomplex(a))\n",
    "print()\n",
    "print(np.isscalar(3.1))\n",
    "print()\n",
    "print(np.isscalar([3.1]))"
   ]
  },
  {
   "cell_type": "markdown",
   "id": "cd3b8a0b",
   "metadata": {},
   "source": [
    "### 9. Write a NumPy program to test whether two arrays are element-wise equal within a tolerance"
   ]
  },
  {
   "cell_type": "code",
   "execution_count": 11,
   "id": "497213e1",
   "metadata": {},
   "outputs": [
    {
     "name": "stdout",
     "output_type": "stream",
     "text": [
      "Help on function allclose in module numpy:\n",
      "\n",
      "allclose(a, b, rtol=1e-05, atol=1e-08, equal_nan=False)\n",
      "    Returns True if two arrays are element-wise equal within a tolerance.\n",
      "    \n",
      "    The tolerance values are positive, typically very small numbers.  The\n",
      "    relative difference (`rtol` * abs(`b`)) and the absolute difference\n",
      "    `atol` are added together to compare against the absolute difference\n",
      "    between `a` and `b`.\n",
      "    \n",
      "    NaNs are treated as equal if they are in the same place and if\n",
      "    ``equal_nan=True``.  Infs are treated as equal if they are in the same\n",
      "    place and of the same sign in both arrays.\n",
      "    \n",
      "    Parameters\n",
      "    ----------\n",
      "    a, b : array_like\n",
      "        Input arrays to compare.\n",
      "    rtol : float\n",
      "        The relative tolerance parameter (see Notes).\n",
      "    atol : float\n",
      "        The absolute tolerance parameter (see Notes).\n",
      "    equal_nan : bool\n",
      "        Whether to compare NaN's as equal.  If True, NaN's in `a` will be\n",
      "        considered equal to NaN's in `b` in the output array.\n",
      "    \n",
      "        .. versionadded:: 1.10.0\n",
      "    \n",
      "    Returns\n",
      "    -------\n",
      "    allclose : bool\n",
      "        Returns True if the two arrays are equal within the given\n",
      "        tolerance; False otherwise.\n",
      "    \n",
      "    See Also\n",
      "    --------\n",
      "    isclose, all, any, equal\n",
      "    \n",
      "    Notes\n",
      "    -----\n",
      "    If the following equation is element-wise True, then allclose returns\n",
      "    True.\n",
      "    \n",
      "     absolute(`a` - `b`) <= (`atol` + `rtol` * absolute(`b`))\n",
      "    \n",
      "    The above equation is not symmetric in `a` and `b`, so that\n",
      "    ``allclose(a, b)`` might be different from ``allclose(b, a)`` in\n",
      "    some rare cases.\n",
      "    \n",
      "    The comparison of `a` and `b` uses standard broadcasting, which\n",
      "    means that `a` and `b` need not have the same shape in order for\n",
      "    ``allclose(a, b)`` to evaluate to True.  The same is true for\n",
      "    `equal` but not `array_equal`.\n",
      "    \n",
      "    `allclose` is not defined for non-numeric data types.\n",
      "    \n",
      "    Examples\n",
      "    --------\n",
      "    >>> np.allclose([1e10,1e-7], [1.00001e10,1e-8])\n",
      "    False\n",
      "    >>> np.allclose([1e10,1e-8], [1.00001e10,1e-9])\n",
      "    True\n",
      "    >>> np.allclose([1e10,1e-8], [1.0001e10,1e-9])\n",
      "    False\n",
      "    >>> np.allclose([1.0, np.nan], [1.0, np.nan])\n",
      "    False\n",
      "    >>> np.allclose([1.0, np.nan], [1.0, np.nan], equal_nan=True)\n",
      "    True\n",
      "\n"
     ]
    }
   ],
   "source": [
    "help(np.allclose)"
   ]
  },
  {
   "cell_type": "code",
   "execution_count": 12,
   "id": "d0587500",
   "metadata": {},
   "outputs": [
    {
     "name": "stdout",
     "output_type": "stream",
     "text": [
      "1st Input array :  [5.000000e+05 1.000000e-07 4.000004e+06]\n",
      "2nd Input array :  [5.00001e+05 1.00000e-07 4.00000e+06]\n",
      "Are the two arrays are equal within the tolerance: \t True\n"
     ]
    }
   ],
   "source": [
    "a=np.array([5e5, 1e-7, 4.000004e6])\n",
    "print (\"1st Input array : \", a) \n",
    "  \n",
    "b=np.array([5.00001e5, 1e-7, 4e6])\n",
    "print (\"2nd Input array : \", b) \n",
    "  \n",
    "# setting the absolute and relative tolerance\n",
    "\n",
    "rtol = 1e-05\n",
    "atol = 1e-08\n",
    "  \n",
    "c=np.allclose(a , b, rtol, atol)\n",
    "print (\"Are the two arrays are equal within the tolerance: \\t\", c)"
   ]
  },
  {
   "cell_type": "markdown",
   "id": "87b11ef4",
   "metadata": {},
   "source": [
    "### 10. Write a NumPy program to create an element-wise comparison (greater, greater_equal, less and less_equal) of two given arrays."
   ]
  },
  {
   "cell_type": "code",
   "execution_count": 13,
   "id": "7da670ee",
   "metadata": {},
   "outputs": [
    {
     "name": "stdout",
     "output_type": "stream",
     "text": [
      "[False False  True False]\n",
      "\n",
      "[ True False  True False]\n",
      "\n",
      "[False  True False  True]\n",
      "\n",
      "[ True  True False  True]\n"
     ]
    }
   ],
   "source": [
    "a=np.array([1,2,3,4])\n",
    "\n",
    "b=np.array([1,4,2,6])\n",
    "\n",
    "print(np.greater(a,b))\n",
    "print()\n",
    "\n",
    "print(np.greater_equal(a,b))\n",
    "print()\n",
    "\n",
    "print(np.less(a,b))\n",
    "print()\n",
    "\n",
    "print(np.less_equal(a,b))"
   ]
  },
  {
   "cell_type": "markdown",
   "id": "044a7aa7",
   "metadata": {},
   "source": [
    "### 11. Write a NumPy program to create an array with the values 1, 7, 13, 105 and determine the size of the memory occupied by the array."
   ]
  },
  {
   "cell_type": "code",
   "execution_count": 14,
   "id": "12f0fbc9",
   "metadata": {},
   "outputs": [
    {
     "data": {
      "text/plain": [
       "16"
      ]
     },
     "execution_count": 14,
     "metadata": {},
     "output_type": "execute_result"
    }
   ],
   "source": [
    "a=np.array([1 , 7 , 13 , 105])\n",
    "a.nbytes"
   ]
  },
  {
   "cell_type": "markdown",
   "id": "5fbc2a7f",
   "metadata": {},
   "source": [
    "### 12. Write a NumPy program to generate a random number between 0 and 1."
   ]
  },
  {
   "cell_type": "code",
   "execution_count": 15,
   "id": "cfd0fd1e",
   "metadata": {},
   "outputs": [
    {
     "data": {
      "text/plain": [
       "array([-0.62549266])"
      ]
     },
     "execution_count": 15,
     "metadata": {},
     "output_type": "execute_result"
    }
   ],
   "source": [
    "np.random.normal(0,1,1)"
   ]
  },
  {
   "cell_type": "markdown",
   "id": "2c9153b4",
   "metadata": {},
   "source": [
    "### 13. Write a NumPy program to generate an array of 15 random numbers from a standard normal distribution."
   ]
  },
  {
   "cell_type": "code",
   "execution_count": 16,
   "id": "4bb97984",
   "metadata": {},
   "outputs": [
    {
     "data": {
      "text/plain": [
       "array([-1.23060554,  1.57976383, -2.02853684,  2.52420615,  0.45756379,\n",
       "       -1.24370186,  0.80103523,  0.68039116,  0.12372936,  0.01705392,\n",
       "       -1.12065661,  0.24223781, -0.10189299,  1.66083801,  0.95089678])"
      ]
     },
     "execution_count": 16,
     "metadata": {},
     "output_type": "execute_result"
    }
   ],
   "source": [
    "np.random.normal(0,1,15)"
   ]
  },
  {
   "cell_type": "markdown",
   "id": "4d8c6b82",
   "metadata": {},
   "source": [
    "### 14. Write a NumPy program to create a vector with values ranging from 15 to 55 and print all values except the first and last."
   ]
  },
  {
   "cell_type": "code",
   "execution_count": 17,
   "id": "b3ff3410",
   "metadata": {},
   "outputs": [
    {
     "data": {
      "text/plain": [
       "array([15, 16, 17, 18, 19, 20, 21, 22, 23, 24, 25, 26, 27, 28, 29, 30, 31,\n",
       "       32, 33, 34, 35, 36, 37, 38, 39, 40, 41, 42, 43, 44, 45, 46, 47, 48,\n",
       "       49, 50, 51, 52, 53, 54, 55])"
      ]
     },
     "execution_count": 17,
     "metadata": {},
     "output_type": "execute_result"
    }
   ],
   "source": [
    "a=np.arange(15,56)\n",
    "a"
   ]
  },
  {
   "cell_type": "code",
   "execution_count": 18,
   "id": "b1fa2a76",
   "metadata": {},
   "outputs": [
    {
     "name": "stdout",
     "output_type": "stream",
     "text": [
      "[16 17 18 19 20 21 22 23 24 25 26 27 28 29 30 31 32 33 34 35 36 37 38 39\n",
      " 40 41 42 43 44 45 46 47 48 49 50 51 52 53 54]\n"
     ]
    }
   ],
   "source": [
    "print(a[1:-1])"
   ]
  },
  {
   "cell_type": "markdown",
   "id": "f4abb263",
   "metadata": {},
   "source": [
    "### 15. Write a NumPy program to create a 3X4 array using and iterate over it."
   ]
  },
  {
   "cell_type": "code",
   "execution_count": 19,
   "id": "96dd5f65",
   "metadata": {},
   "outputs": [
    {
     "name": "stdout",
     "output_type": "stream",
     "text": [
      "[[ 1  2  3  4]\n",
      " [ 5  6  7  8]\n",
      " [ 9 10 11 12]]\n",
      "\n",
      "1 2 3 4 5 6 7 8 9 10 11 12 "
     ]
    }
   ],
   "source": [
    "a=np.arange(1,13).reshape(3,4)\n",
    "print(a)\n",
    "print()\n",
    "for i in np.nditer(a):\n",
    "    print(i , end =' ')"
   ]
  },
  {
   "cell_type": "markdown",
   "id": "3eb2217a",
   "metadata": {},
   "source": [
    "### 16. Write a NumPy program to swap rows and columns of a given array in reverse order"
   ]
  },
  {
   "cell_type": "code",
   "execution_count": 20,
   "id": "4097ce87",
   "metadata": {},
   "outputs": [
    {
     "name": "stdout",
     "output_type": "stream",
     "text": [
      "[[1 2 3]\n",
      " [4 5 6]\n",
      " [7 8 9]]\n",
      "\n",
      "[[9 8 7]\n",
      " [6 5 4]\n",
      " [3 2 1]]\n"
     ]
    }
   ],
   "source": [
    "a=np.arange(1,10).reshape(3,3)\n",
    "print(a)\n",
    "print()\n",
    "print(a[::-1 , ::-1])\n"
   ]
  },
  {
   "cell_type": "markdown",
   "id": "05ca947b",
   "metadata": {},
   "source": [
    "### 17. Write a NumPy program to create a 4x4 array, now create a new array from the said array swapping first and last, second and third columns"
   ]
  },
  {
   "cell_type": "code",
   "execution_count": 21,
   "id": "06c961ee",
   "metadata": {},
   "outputs": [
    {
     "name": "stdout",
     "output_type": "stream",
     "text": [
      "[[ 1  2  3  4]\n",
      " [ 5  6  7  8]\n",
      " [ 9 10 11 12]\n",
      " [13 14 15 16]]\n",
      "\n",
      "[[ 4  3  2  1]\n",
      " [ 8  7  6  5]\n",
      " [12 11 10  9]\n",
      " [16 15 14 13]]\n"
     ]
    }
   ],
   "source": [
    "a=np.arange(1,17).reshape(4 , 4)\n",
    "print(a)\n",
    "print()\n",
    "new_array=a[: , ::-1]    #   (::-1) used to reverse all the rows.\n",
    "print(new_array)"
   ]
  },
  {
   "cell_type": "markdown",
   "id": "3f138547",
   "metadata": {},
   "source": [
    "### 18. Write a NumPy program to sort a given array by row and column in ascending order."
   ]
  },
  {
   "cell_type": "code",
   "execution_count": 22,
   "id": "3f69a67f",
   "metadata": {},
   "outputs": [
    {
     "name": "stdout",
     "output_type": "stream",
     "text": [
      "[[7 5 9]\n",
      " [1 2 3]\n",
      " [6 4 8]]\n",
      "\n",
      "[[5 7 9]\n",
      " [1 2 3]\n",
      " [4 6 8]]\n",
      "\n",
      "[[1 2 3]\n",
      " [6 4 8]\n",
      " [7 5 9]]\n"
     ]
    }
   ],
   "source": [
    "a=np.array([[7,5,9],[1,2,3],[6,4,8]])\n",
    "print(a)\n",
    "print()\n",
    "print(np.sort(a , axis=1))    #sort all rows in ascending order\n",
    "print()\n",
    "print(np.sort(a , axis=0))    #sort all rows in ascending order"
   ]
  },
  {
   "cell_type": "markdown",
   "id": "0d9f0b9c",
   "metadata": {},
   "source": [
    "### 19. Write a NumPy program to create a new array of given shape (5,6) and type, filled with zeros.\n",
    "Given array:\n",
    "[[0 0 0 0 0 0]\n",
    "[0 0 0 0 0 0]\n",
    "[0 0 0 0 0 0]\n",
    "[0 0 0 0 0 0]\n",
    "[0 0 0 0 0 0]]\n",
    "New array:\n",
    "[[3 0 3 0 3 0]\n",
    "[7 0 7 0 7 0]\n",
    "[3 0 3 0 3 0]\n",
    "[7 0 7 0 7 0]\n",
    "[3 0 3 0 3 0]]\n"
   ]
  },
  {
   "cell_type": "code",
   "execution_count": 23,
   "id": "c3eb9426",
   "metadata": {},
   "outputs": [
    {
     "name": "stdout",
     "output_type": "stream",
     "text": [
      "[[0. 0. 0. 0. 0. 0.]\n",
      " [0. 0. 0. 0. 0. 0.]\n",
      " [0. 0. 0. 0. 0. 0.]\n",
      " [0. 0. 0. 0. 0. 0.]\n",
      " [0. 0. 0. 0. 0. 0.]]\n",
      "\n",
      "[[3. 0. 3. 0. 3. 0.]\n",
      " [7. 0. 7. 0. 7. 0.]\n",
      " [3. 0. 3. 0. 3. 0.]\n",
      " [7. 0. 7. 0. 7. 0.]\n",
      " [3. 0. 3. 0. 3. 0.]]\n"
     ]
    }
   ],
   "source": [
    "a=np.zeros((5,6))\n",
    "print(a)\n",
    "print()\n",
    "a[::2 , ::2]=3\n",
    "a[1::2 , ::2]=7\n",
    "print(a)"
   ]
  },
  {
   "cell_type": "markdown",
   "id": "ae336012",
   "metadata": {},
   "source": [
    "### 20. Write a NumPy program to create a 10x10 matrix, in which the elements on the borders will be equal to 1, and inside 0."
   ]
  },
  {
   "cell_type": "code",
   "execution_count": 24,
   "id": "dac58591",
   "metadata": {},
   "outputs": [
    {
     "name": "stdout",
     "output_type": "stream",
     "text": [
      "[[1. 1. 1. 1. 1. 1. 1. 1. 1. 1.]\n",
      " [1. 1. 1. 1. 1. 1. 1. 1. 1. 1.]\n",
      " [1. 1. 1. 1. 1. 1. 1. 1. 1. 1.]\n",
      " [1. 1. 1. 1. 1. 1. 1. 1. 1. 1.]\n",
      " [1. 1. 1. 1. 1. 1. 1. 1. 1. 1.]\n",
      " [1. 1. 1. 1. 1. 1. 1. 1. 1. 1.]\n",
      " [1. 1. 1. 1. 1. 1. 1. 1. 1. 1.]\n",
      " [1. 1. 1. 1. 1. 1. 1. 1. 1. 1.]\n",
      " [1. 1. 1. 1. 1. 1. 1. 1. 1. 1.]\n",
      " [1. 1. 1. 1. 1. 1. 1. 1. 1. 1.]]\n",
      "\n",
      "[[1. 1. 1. 1. 1. 1. 1. 1. 1. 1.]\n",
      " [1. 0. 0. 0. 0. 0. 0. 0. 0. 1.]\n",
      " [1. 0. 0. 0. 0. 0. 0. 0. 0. 1.]\n",
      " [1. 0. 0. 0. 0. 0. 0. 0. 0. 1.]\n",
      " [1. 0. 0. 0. 0. 0. 0. 0. 0. 1.]\n",
      " [1. 0. 0. 0. 0. 0. 0. 0. 0. 1.]\n",
      " [1. 0. 0. 0. 0. 0. 0. 0. 0. 1.]\n",
      " [1. 0. 0. 0. 0. 0. 0. 0. 0. 1.]\n",
      " [1. 0. 0. 0. 0. 0. 0. 0. 0. 1.]\n",
      " [1. 1. 1. 1. 1. 1. 1. 1. 1. 1.]]\n"
     ]
    }
   ],
   "source": [
    "a=np.ones((10,10))\n",
    "print(a)\n",
    "print()\n",
    "a[1:9:1 , 1:9:1]=0\n",
    "print(a)"
   ]
  },
  {
   "cell_type": "markdown",
   "id": "2d5d4c70",
   "metadata": {},
   "source": [
    "### 21. Write a NumPy program to create a 3x3 identity matrix, i.e. diagonal elements are 1, the rest are 0"
   ]
  },
  {
   "cell_type": "code",
   "execution_count": 25,
   "id": "c43014b6",
   "metadata": {},
   "outputs": [
    {
     "name": "stdout",
     "output_type": "stream",
     "text": [
      "[[1. 0. 0.]\n",
      " [0. 1. 0.]\n",
      " [0. 0. 1.]]\n"
     ]
    }
   ],
   "source": [
    "a=np.identity(3)\n",
    "print(a)"
   ]
  },
  {
   "cell_type": "markdown",
   "id": "ad910206",
   "metadata": {},
   "source": [
    "### 22. Write a NumPy program to find the number of rows and columns of a given matrix."
   ]
  },
  {
   "cell_type": "code",
   "execution_count": 26,
   "id": "adcec443",
   "metadata": {},
   "outputs": [
    {
     "name": "stdout",
     "output_type": "stream",
     "text": [
      "(3, 3)\n"
     ]
    }
   ],
   "source": [
    "a=np.identity(3)\n",
    "print(a.shape)"
   ]
  },
  {
   "cell_type": "markdown",
   "id": "83b4b1e9",
   "metadata": {},
   "source": [
    "### 23. Write a NumPy program to add a new row to an empty NumPy array."
   ]
  },
  {
   "cell_type": "code",
   "execution_count": 27,
   "id": "3ecce800",
   "metadata": {},
   "outputs": [
    {
     "name": "stdout",
     "output_type": "stream",
     "text": [
      "[]\n",
      "\n",
      "[[10. 20. 30.]\n",
      " [40. 50. 60.]]\n"
     ]
    }
   ],
   "source": [
    "a=np.empty((0,3))\n",
    "print(a)\n",
    "print()\n",
    "a=np.append(a , np.array([[10,20,30]]) , axis=0)\n",
    "a=np.append(a , np.array([[40,50,60]]) , axis=0)\n",
    "print(a)"
   ]
  },
  {
   "cell_type": "markdown",
   "id": "de8979c6",
   "metadata": {},
   "source": [
    "### 24. Write a NumPy program to add a border (filled with 0's) around an existing array."
   ]
  },
  {
   "cell_type": "code",
   "execution_count": 28,
   "id": "cbb617c6",
   "metadata": {
    "scrolled": true
   },
   "outputs": [
    {
     "name": "stdout",
     "output_type": "stream",
     "text": [
      "[[0. 0. 0. 0. 0.]\n",
      " [0. 0. 0. 0. 0.]\n",
      " [0. 0. 0. 0. 0.]\n",
      " [0. 0. 0. 0. 0.]\n",
      " [0. 0. 0. 0. 0.]]\n",
      "\n",
      "[[7 7 7]\n",
      " [7 7 7]\n",
      " [7 7 7]]\n",
      "\n",
      "[[0. 0. 0. 0. 0.]\n",
      " [0. 7. 7. 7. 0.]\n",
      " [0. 7. 7. 7. 0.]\n",
      " [0. 7. 7. 7. 0.]\n",
      " [0. 0. 0. 0. 0.]]\n"
     ]
    }
   ],
   "source": [
    "a=np.zeros((5,5))\n",
    "print(a)\n",
    "print()\n",
    "b=np.full((3,3),7)\n",
    "print(b)\n",
    "print()\n",
    "a[1:4 , 1:4]=b\n",
    "print(a)"
   ]
  },
  {
   "cell_type": "markdown",
   "id": "402485d3",
   "metadata": {},
   "source": [
    "### 25. Write a NumPy program to create a 8x8 matrix and fill it with a checkerboard pattern."
   ]
  },
  {
   "cell_type": "code",
   "execution_count": 29,
   "id": "c5f85e31",
   "metadata": {
    "scrolled": true
   },
   "outputs": [
    {
     "name": "stdout",
     "output_type": "stream",
     "text": [
      "[[0. 0. 0. 0. 0. 0. 0. 0.]\n",
      " [0. 0. 0. 0. 0. 0. 0. 0.]\n",
      " [0. 0. 0. 0. 0. 0. 0. 0.]\n",
      " [0. 0. 0. 0. 0. 0. 0. 0.]\n",
      " [0. 0. 0. 0. 0. 0. 0. 0.]\n",
      " [0. 0. 0. 0. 0. 0. 0. 0.]\n",
      " [0. 0. 0. 0. 0. 0. 0. 0.]\n",
      " [0. 0. 0. 0. 0. 0. 0. 0.]]\n",
      "\n",
      "[[0. 1. 0. 1. 0. 1. 0. 1.]\n",
      " [1. 0. 1. 0. 1. 0. 1. 0.]\n",
      " [0. 1. 0. 1. 0. 1. 0. 1.]\n",
      " [1. 0. 1. 0. 1. 0. 1. 0.]\n",
      " [0. 1. 0. 1. 0. 1. 0. 1.]\n",
      " [1. 0. 1. 0. 1. 0. 1. 0.]\n",
      " [0. 1. 0. 1. 0. 1. 0. 1.]\n",
      " [1. 0. 1. 0. 1. 0. 1. 0.]]\n"
     ]
    }
   ],
   "source": [
    "a=np.zeros((8,8))\n",
    "print(a)\n",
    "print()\n",
    "a[::2 , 1::2]=1\n",
    "a[1::2 , 0::2]=1\n",
    "print(a)"
   ]
  },
  {
   "cell_type": "markdown",
   "id": "523287d6",
   "metadata": {},
   "source": [
    "### 26. Write a NumPy program to append values to the end of an array."
   ]
  },
  {
   "cell_type": "code",
   "execution_count": 30,
   "id": "2de476fd",
   "metadata": {},
   "outputs": [
    {
     "name": "stdout",
     "output_type": "stream",
     "text": [
      "[10 20 30]\n",
      "[10 20 30 40 50 60 70 80 90]\n"
     ]
    }
   ],
   "source": [
    "b=np.array([10 , 20 , 30])\n",
    "print(b)\n",
    "b=np.append(b ,[[40 , 50 , 60] , [70 , 80 , 90]])\n",
    "print(b)"
   ]
  },
  {
   "cell_type": "markdown",
   "id": "793041b2",
   "metadata": {},
   "source": [
    "### 27. Write a NumPy program to find the real and imaginary parts of an array of complex numbers."
   ]
  },
  {
   "cell_type": "code",
   "execution_count": 31,
   "id": "be5bd697",
   "metadata": {},
   "outputs": [
    {
     "name": "stdout",
     "output_type": "stream",
     "text": [
      "[0. 4.]\n",
      "[7. 2.]\n"
     ]
    }
   ],
   "source": [
    "a=np.array([0+7j , 4+2j])\n",
    "print(a.real)\n",
    "print(a.imag)"
   ]
  },
  {
   "cell_type": "markdown",
   "id": "6662574e",
   "metadata": {},
   "source": [
    "### 28. Write a NumPy program to test whether each element of a 1-D array is also present in a second array."
   ]
  },
  {
   "cell_type": "code",
   "execution_count": 32,
   "id": "d0ef727c",
   "metadata": {},
   "outputs": [
    {
     "name": "stdout",
     "output_type": "stream",
     "text": [
      "[ True False False  True]\n"
     ]
    }
   ],
   "source": [
    "a=np.array([10 , 20 , 30 , 40])\n",
    "b=[10,40]\n",
    "c=np.in1d(a , b)\n",
    "print(c)"
   ]
  },
  {
   "cell_type": "markdown",
   "id": "98bdfd7b",
   "metadata": {},
   "source": [
    "### 29. Write a NumPy program to find common values between two arrays."
   ]
  },
  {
   "cell_type": "code",
   "execution_count": 33,
   "id": "0231ca62",
   "metadata": {},
   "outputs": [
    {
     "name": "stdout",
     "output_type": "stream",
     "text": [
      "[10 40]\n"
     ]
    }
   ],
   "source": [
    "a=np.array([10 , 20 , 30 , 40])\n",
    "b=[10,40]\n",
    "c=np.intersect1d(a , b)\n",
    "print(c)"
   ]
  },
  {
   "cell_type": "markdown",
   "id": "f8b8fed0",
   "metadata": {},
   "source": [
    "### 30. Write a NumPy program to get the unique elements of an array."
   ]
  },
  {
   "cell_type": "code",
   "execution_count": 34,
   "id": "3e055060",
   "metadata": {},
   "outputs": [
    {
     "name": "stdout",
     "output_type": "stream",
     "text": [
      "[10 20 30 40 50 80]\n"
     ]
    }
   ],
   "source": [
    "a=np.array([10 ,10 ,20 ,50 , 80 , 20 , 30 , 40])\n",
    "print(np.unique(a))"
   ]
  },
  {
   "cell_type": "markdown",
   "id": "49d09233",
   "metadata": {},
   "source": [
    "### 31. Write a NumPy program to test whether all elements in an array evaluate to True."
   ]
  },
  {
   "cell_type": "code",
   "execution_count": 35,
   "id": "34881bd5",
   "metadata": {},
   "outputs": [
    {
     "data": {
      "text/plain": [
       "True"
      ]
     },
     "execution_count": 35,
     "metadata": {},
     "output_type": "execute_result"
    }
   ],
   "source": [
    "a=np.array([10 , 20 , 30 , 40 , 0])\n",
    "np.any(a )"
   ]
  },
  {
   "cell_type": "markdown",
   "id": "07da20da",
   "metadata": {},
   "source": [
    "### 32. Write a NumPy program to construct an array by repeating array values."
   ]
  },
  {
   "cell_type": "code",
   "execution_count": 36,
   "id": "d2f5de9e",
   "metadata": {},
   "outputs": [
    {
     "data": {
      "text/plain": [
       "array([[10, 10, 20, 20, 30, 30, 40, 40,  0,  0]])"
      ]
     },
     "execution_count": 36,
     "metadata": {},
     "output_type": "execute_result"
    }
   ],
   "source": [
    "a=np.array([[10 , 20 , 30 , 40 , 0]])\n",
    "b=np.repeat(a , 2 , axis=1)\n",
    "b"
   ]
  },
  {
   "cell_type": "markdown",
   "id": "62b888bf",
   "metadata": {},
   "source": [
    "### 33. Write a NumPy program to construct an array by repeating."
   ]
  },
  {
   "cell_type": "code",
   "execution_count": 37,
   "id": "53a74071",
   "metadata": {},
   "outputs": [
    {
     "name": "stdout",
     "output_type": "stream",
     "text": [
      "[[10 20 30 40 10 20 30 40]]\n",
      "[[10 20 30 40 10 20 30 40 10 20 30 40]]\n"
     ]
    }
   ],
   "source": [
    "a=np.array([[10 , 20 , 30 , 40 ]])\n",
    "b=np.tile(a , 2)\n",
    "print(b)\n",
    "c=np.tile(a , 3)\n",
    "print(c)"
   ]
  },
  {
   "cell_type": "markdown",
   "id": "a798a5d2",
   "metadata": {},
   "source": [
    "### 34. Write a NumPy program to find the indices of the maximum and minimum values along the given axis of an array."
   ]
  },
  {
   "cell_type": "code",
   "execution_count": 38,
   "id": "ba140dc5",
   "metadata": {},
   "outputs": [
    {
     "name": "stdout",
     "output_type": "stream",
     "text": [
      "[[10 20 30 40]\n",
      " [ 6  2  4  3]]\n",
      "\n",
      "[0 1]\n",
      "\n",
      "[3 0]\n"
     ]
    }
   ],
   "source": [
    "a=np.array([[10 , 20 , 30 , 40 ],[6,2,4,3]])\n",
    "print(a)\n",
    "print()\n",
    "print(np.argmin(a , axis=1))\n",
    "print()\n",
    "print(np.argmax(a , axis=1))"
   ]
  },
  {
   "cell_type": "markdown",
   "id": "246e18e7",
   "metadata": {},
   "source": [
    "### 35. Write a NumPy program to get the values and indices of the elements that are bigger than 10 in a given array."
   ]
  },
  {
   "cell_type": "code",
   "execution_count": 39,
   "id": "92c6105c",
   "metadata": {},
   "outputs": [
    {
     "name": "stdout",
     "output_type": "stream",
     "text": [
      "[87 56 26]\n",
      "(array([2, 3, 5], dtype=int64),)\n"
     ]
    }
   ],
   "source": [
    "a=np.array([1,2,87,56,4,26])\n",
    "print(a[a>10])       #get the values\n",
    "print(np.nonzero(a>10))   #get the indexes"
   ]
  },
  {
   "cell_type": "markdown",
   "id": "7ee3a24a",
   "metadata": {},
   "source": [
    "### 36. Write a NumPy program to save a NumPy array to a text file"
   ]
  },
  {
   "cell_type": "code",
   "execution_count": 40,
   "id": "3626d796",
   "metadata": {},
   "outputs": [],
   "source": [
    "a=np.array([1.0,2.0,87.0,56.0,26.0])\n",
    "np.savetxt('text1.txt' , a , delimiter= ',')"
   ]
  },
  {
   "cell_type": "markdown",
   "id": "cf1ceeb7",
   "metadata": {},
   "source": [
    "### 37. Write a NumPy program to create a contiguous flattened array."
   ]
  },
  {
   "cell_type": "code",
   "execution_count": 41,
   "id": "1dce23a8",
   "metadata": {},
   "outputs": [
    {
     "data": {
      "text/plain": [
       "array([[ 1,  2, 87, 56,  4, 26],\n",
       "       [ 1,  2,  3,  4,  5,  6]])"
      ]
     },
     "execution_count": 41,
     "metadata": {},
     "output_type": "execute_result"
    }
   ],
   "source": [
    "a=np.array([[1,2,87,56,4,26],[1,2,3,4,5,6]])\n",
    "a"
   ]
  },
  {
   "cell_type": "code",
   "execution_count": 42,
   "id": "ca015768",
   "metadata": {},
   "outputs": [
    {
     "data": {
      "text/plain": [
       "array([ 1,  2, 87, 56,  4, 26,  1,  2,  3,  4,  5,  6])"
      ]
     },
     "execution_count": 42,
     "metadata": {},
     "output_type": "execute_result"
    }
   ],
   "source": [
    "a.ravel()"
   ]
  },
  {
   "cell_type": "markdown",
   "id": "832a6e6a",
   "metadata": {},
   "source": [
    "### 38. Write a NumPy program to concatenate element-wise two arrays of string."
   ]
  },
  {
   "cell_type": "code",
   "execution_count": 43,
   "id": "710f2580",
   "metadata": {},
   "outputs": [
    {
     "name": "stdout",
     "output_type": "stream",
     "text": [
      "['Python Java' 'C++ C']\n"
     ]
    }
   ],
   "source": [
    "arr1=np.array(['Python' , 'C++'])\n",
    "arr2=np.array([' Java' , ' C'])\n",
    "print(np.char.add(arr1, arr2))"
   ]
  },
  {
   "cell_type": "markdown",
   "id": "d0e0dc6f",
   "metadata": {},
   "source": [
    "### 39. Write a NumPy program to repeat all the elements three times of a given array of string "
   ]
  },
  {
   "cell_type": "code",
   "execution_count": 44,
   "id": "31da659c",
   "metadata": {},
   "outputs": [
    {
     "name": "stdout",
     "output_type": "stream",
     "text": [
      "['PythonPythonPython' 'C++C++C++']\n"
     ]
    }
   ],
   "source": [
    "arr1=np.array(['Python' , 'C++'])\n",
    "print(np.char.multiply(arr1 , 3))"
   ]
  },
  {
   "cell_type": "markdown",
   "id": "e7d64180",
   "metadata": {},
   "source": [
    "### 40. Write a NumPy program to make the length of each element 15 of a given array and the string centered / left-justified / right-justified with paddings of _."
   ]
  },
  {
   "cell_type": "code",
   "execution_count": 45,
   "id": "39a4b7a5",
   "metadata": {},
   "outputs": [
    {
     "name": "stdout",
     "output_type": "stream",
     "text": [
      "['_____Python____' '______C++______' '______Java_____' '_______C_______']\n",
      "['Python_________' 'C++____________' 'Java___________' 'C______________']\n",
      "['_________Python' '____________C++' '___________Java' '______________C']\n"
     ]
    }
   ],
   "source": [
    "arr1=np.array(['Python' , 'C++' , 'Java' , 'C'])\n",
    "print(np.char.center(arr1 , 15 , fillchar='_'))\n",
    "print(np.char.ljust(arr1 , 15 , fillchar='_'))\n",
    "print(np.char.rjust(arr1 , 15 , fillchar='_'))"
   ]
  },
  {
   "cell_type": "markdown",
   "id": "1a6d62ef",
   "metadata": {},
   "source": [
    "### 41. Write a NumPy program to insert a space between characters of all the elements of a given array."
   ]
  },
  {
   "cell_type": "code",
   "execution_count": 46,
   "id": "638dd936",
   "metadata": {},
   "outputs": [
    {
     "data": {
      "text/plain": [
       "array(['P y t h o n', 'C + +'], dtype='<U11')"
      ]
     },
     "execution_count": 46,
     "metadata": {},
     "output_type": "execute_result"
    }
   ],
   "source": [
    "arr1=np.array(['Python' , 'C++'])\n",
    "np.char.join(' ' , arr1)"
   ]
  },
  {
   "cell_type": "markdown",
   "id": "cda3efa0",
   "metadata": {},
   "source": [
    "### 42. Write a NumPy program to encode all the elements of a given array in cp500 and decode it again."
   ]
  },
  {
   "cell_type": "code",
   "execution_count": 47,
   "id": "917bc740",
   "metadata": {},
   "outputs": [
    {
     "name": "stdout",
     "output_type": "stream",
     "text": [
      "[b'\\xd7\\xa8\\xa3\\x88\\x96\\x95' b'\\xc3NN']\n",
      "['Python' 'C++']\n"
     ]
    }
   ],
   "source": [
    "arr1=np.array(['Python' , 'C++'])\n",
    "a=np.char.encode(arr1 , 'cp500')\n",
    "print(a)\n",
    "print(np.char.decode(a, 'cp500'))"
   ]
  },
  {
   "cell_type": "markdown",
   "id": "35e9a009",
   "metadata": {},
   "source": [
    "### 43.  Write a NumPy program to remove the leading and trailing whitespaces of all the elements of a given array."
   ]
  },
  {
   "cell_type": "code",
   "execution_count": 48,
   "id": "1af3a17b",
   "metadata": {},
   "outputs": [
    {
     "name": "stdout",
     "output_type": "stream",
     "text": [
      "['Python' 'C++']\n"
     ]
    }
   ],
   "source": [
    "arr1=np.array([' Python ' , ' C++ '])\n",
    "print(np.char.strip(arr1))"
   ]
  },
  {
   "cell_type": "code",
   "execution_count": 49,
   "id": "ed345621",
   "metadata": {},
   "outputs": [
    {
     "name": "stdout",
     "output_type": "stream",
     "text": [
      "['Python' 'C++']\n"
     ]
    }
   ],
   "source": [
    "### Left strip\n",
    "arr1=np.array([' Python' , ' C++'])\n",
    "print(np.char.lstrip(arr1))"
   ]
  },
  {
   "cell_type": "code",
   "execution_count": 50,
   "id": "06e2cd5b",
   "metadata": {},
   "outputs": [
    {
     "name": "stdout",
     "output_type": "stream",
     "text": [
      "[' Python' ' C++']\n"
     ]
    }
   ],
   "source": [
    "### Right strip\n",
    "arr1=np.array([' Python ' , ' C++ '])\n",
    "print(np.char.rstrip(arr1))"
   ]
  },
  {
   "cell_type": "markdown",
   "id": "c1dc385c",
   "metadata": {},
   "source": [
    "### 44. Write a NumPy program to split the element of a given array with spaces."
   ]
  },
  {
   "cell_type": "code",
   "execution_count": 51,
   "id": "b3f24a25",
   "metadata": {},
   "outputs": [
    {
     "name": "stdout",
     "output_type": "stream",
     "text": [
      "[list(['Python', 'C++', 'Java'])]\n"
     ]
    }
   ],
   "source": [
    "arr1=np.array(['Python C++ Java'] )\n",
    "print(np.char.split(arr1))\n"
   ]
  },
  {
   "cell_type": "markdown",
   "id": "d6e2205b",
   "metadata": {},
   "source": [
    "### 45. Write a NumPy program to split the element of a given array to multiple lines."
   ]
  },
  {
   "cell_type": "code",
   "execution_count": 52,
   "id": "44ef7e80",
   "metadata": {},
   "outputs": [
    {
     "name": "stdout",
     "output_type": "stream",
     "text": [
      "[list(['Python\\\\Exercises , C++ , Java'])]\n"
     ]
    }
   ],
   "source": [
    "arr1=np.array(['Python\\Exercises , C++ , Java'] )\n",
    "print(np.char.splitlines(arr1))"
   ]
  },
  {
   "cell_type": "markdown",
   "id": "a11ab70d",
   "metadata": {},
   "source": [
    "### 46. Write a NumPy program to make all the elements of a given string to a numeric string of 5 digits with zeros on its left."
   ]
  },
  {
   "cell_type": "code",
   "execution_count": 53,
   "id": "b2fbae65",
   "metadata": {},
   "outputs": [
    {
     "data": {
      "text/plain": [
       "array(['00002', '00004', '00006', '00026'], dtype='<U5')"
      ]
     },
     "execution_count": 53,
     "metadata": {},
     "output_type": "execute_result"
    }
   ],
   "source": [
    "a=np.array(['2' ,'4' ,'6' ,'26'])\n",
    "np.char.zfill(a ,5)"
   ]
  },
  {
   "cell_type": "markdown",
   "id": "81af6c0e",
   "metadata": {},
   "source": [
    "### 47. Write a NumPy program to replace \"PHP\" with \"Python\" in the element of a given array."
   ]
  },
  {
   "cell_type": "code",
   "execution_count": 54,
   "id": "815fe03b",
   "metadata": {},
   "outputs": [
    {
     "name": "stdout",
     "output_type": "stream",
     "text": [
      "['Python Exercises, Practice, Solution']\n"
     ]
    }
   ],
   "source": [
    "a=np.array(['PHP Exercises, Practice, Solution'])\n",
    "print(np.char.replace(a , 'PHP' , 'Python'))"
   ]
  },
  {
   "cell_type": "code",
   "execution_count": 55,
   "id": "1dce3b51",
   "metadata": {
    "scrolled": true
   },
   "outputs": [
    {
     "name": "stdout",
     "output_type": "stream",
     "text": [
      "Greater: [False False False False False]\n",
      "\n",
      "Equal: [ True False False  True  True]\n",
      "\n",
      "Less: [False  True  True False False]\n",
      "\n",
      "Greater_equal: [ True False False  True  True]\n",
      "\n",
      "Less_equal: [ True  True  True  True  True]\n"
     ]
    }
   ],
   "source": [
    "a=np.array(['Hello' , 'PHP' , 'JS' , 'examples' , 'html'])\n",
    "b=np.array(['Hello' , 'php' , 'Java' , 'examples' , 'html'])\n",
    "print('Greater:' ,np.char.greater(a , b))\n",
    "print()\n",
    "print('Equal:' ,np.char.equal(a , b))\n",
    "print()\n",
    "print('Less:' ,np.char.less(a , b))\n",
    "print()\n",
    "print('Greater_equal:' ,np.char.greater_equal(a , b))\n",
    "print()\n",
    "print('Less_equal:' ,np.char.less_equal(a , b))\n"
   ]
  },
  {
   "cell_type": "markdown",
   "id": "df4937c1",
   "metadata": {},
   "source": [
    "### 48. Write a NumPy program to count the number of \"P\" in a given array, element-wise."
   ]
  },
  {
   "cell_type": "code",
   "execution_count": 56,
   "id": "fef4b9bc",
   "metadata": {},
   "outputs": [
    {
     "name": "stdout",
     "output_type": "stream",
     "text": [
      "[1 2 0 0 0]\n"
     ]
    }
   ],
   "source": [
    "a=np.array(['Python', 'PHP', 'JS', 'examples', 'html'])\n",
    "print(np.char.count(a , 'P'))"
   ]
  },
  {
   "cell_type": "markdown",
   "id": "b2a7fc9c",
   "metadata": {},
   "source": [
    "### 49. Write a NumPy program to count the lowest index of \"P\" in a given array, element-wise"
   ]
  },
  {
   "cell_type": "code",
   "execution_count": 57,
   "id": "fbf96a2c",
   "metadata": {},
   "outputs": [
    {
     "name": "stdout",
     "output_type": "stream",
     "text": [
      "[ 0  0 -1  4 -1]\n"
     ]
    }
   ],
   "source": [
    "a=np.array(['Python', 'PHP', 'JS', 'examPles', 'html'])\n",
    "print(np.char.find(a , 'P'))"
   ]
  },
  {
   "cell_type": "markdown",
   "id": "a8becb45",
   "metadata": {},
   "source": [
    "### 50. Write a NumPy program to check whether each element of a given array is composed of digits only, lower case letters only and upper case letters only."
   ]
  },
  {
   "cell_type": "code",
   "execution_count": 58,
   "id": "b870417e",
   "metadata": {},
   "outputs": [
    {
     "name": "stdout",
     "output_type": "stream",
     "text": [
      "[False False False  True False]\n",
      "\n",
      "[False  True  True False False]\n",
      "\n",
      "[False False False False  True]\n"
     ]
    }
   ],
   "source": [
    "a=np.array(['Python', 'PHP', 'JS', 'examples', '5'])\n",
    "print(np.char.islower(a))\n",
    "print()\n",
    "print(np.char.isupper(a))\n",
    "print()\n",
    "print(np.char.isdigit(a))"
   ]
  },
  {
   "cell_type": "markdown",
   "id": "6e667e00",
   "metadata": {},
   "source": [
    "### 51. Write a NumPy program to check whether each element of a given array starts with \"P\"."
   ]
  },
  {
   "cell_type": "code",
   "execution_count": 59,
   "id": "01591d86",
   "metadata": {},
   "outputs": [
    {
     "name": "stdout",
     "output_type": "stream",
     "text": [
      "[ True  True False False  True]\n"
     ]
    }
   ],
   "source": [
    "a=np.array(['Python', 'PHP', 'JS', 'examples', 'P5'])\n",
    "print(np.char.startswith(a , 'P'))"
   ]
  },
  {
   "cell_type": "markdown",
   "id": "9ad5d319",
   "metadata": {},
   "source": [
    "### 52. Write a NumPy program to add two zeros to the beginning of each element of a given array of string values."
   ]
  },
  {
   "cell_type": "code",
   "execution_count": 60,
   "id": "113cbe94",
   "metadata": {},
   "outputs": [
    {
     "data": {
      "text/plain": [
       "array(['002.04', '004.11', '006.02', '0026.11'], dtype='<U7')"
      ]
     },
     "execution_count": 60,
     "metadata": {},
     "output_type": "execute_result"
    }
   ],
   "source": [
    "a=np.array(['2.04' ,'4.11' ,'6.02' ,'26.11'])\n",
    "np.char.add('00' ,a)"
   ]
  },
  {
   "cell_type": "markdown",
   "id": "fb6f6cc1",
   "metadata": {},
   "source": [
    "### 53. Write a NumPy program to replace a specific character with another in a given array of string values."
   ]
  },
  {
   "cell_type": "code",
   "execution_count": 61,
   "id": "fc73145d",
   "metadata": {},
   "outputs": [
    {
     "name": "stdout",
     "output_type": "stream",
     "text": [
      "[['Python_NumPy_Exercises']\n",
      " ['_Python_']]\n",
      "\n",
      "[['Python==NumPy==Exercises']\n",
      " ['==Python==']]\n"
     ]
    }
   ],
   "source": [
    "a=np.array([['Python-NumPy-Exercises'], ['-Python-']])\n",
    "print(np.char.replace(a , '-' , '_'))\n",
    "print()\n",
    "print(np.char.replace(a , '-' , '=='))"
   ]
  },
  {
   "cell_type": "markdown",
   "id": "ea83b92a",
   "metadata": {},
   "source": [
    "### 54. Write a NumPy program to count a given word in each row of a given array of string values."
   ]
  },
  {
   "cell_type": "code",
   "execution_count": 62,
   "id": "e846944d",
   "metadata": {},
   "outputs": [
    {
     "name": "stdout",
     "output_type": "stream",
     "text": [
      "[['Python' 'NumPy' 'Exercises']\n",
      " ['Python' 'Pandas' 'Exercises']\n",
      " ['Python' 'Machine learning' 'Python']]\n"
     ]
    },
    {
     "data": {
      "text/plain": [
       "array([[1, 0, 0],\n",
       "       [1, 0, 0],\n",
       "       [1, 0, 1]])"
      ]
     },
     "execution_count": 62,
     "metadata": {},
     "output_type": "execute_result"
    }
   ],
   "source": [
    "a=np.array([['Python', 'NumPy', 'Exercises'], ['Python', 'Pandas', 'Exercises'], ['Python', 'Machine learning', 'Python']])\n",
    "print(a)\n",
    "np.char.count(a , 'Python')"
   ]
  },
  {
   "cell_type": "markdown",
   "id": "87b9df78",
   "metadata": {},
   "source": [
    "### 55. Write a NumPy program to split a given text into lines and split the single line into array values."
   ]
  },
  {
   "cell_type": "code",
   "execution_count": 63,
   "id": "79dbb10d",
   "metadata": {},
   "outputs": [
    {
     "name": "stdout",
     "output_type": "stream",
     "text": [
      "[['01' 'V' 'Debby' 'Pramod']\n",
      " ['02' 'V' 'Artemiy' 'Ellie']\n",
      " ['03' 'V' 'Baptist' 'Kamal']\n",
      " ['04' 'V' 'Lavanya' 'Davide']\n",
      " ['05' 'V' 'Fulton' 'Antwan']\n",
      " ['06' 'V' 'Euanthe' 'Sandeep']\n",
      " ['07' 'V' 'Endzela' 'Sanda']\n",
      " ['08' 'V' 'Victoire' 'Waman']\n",
      " ['09' 'V' 'Briar' 'Nur']\n",
      " ['10' 'V' 'Rose' 'Lykos']]\n"
     ]
    }
   ],
   "source": [
    "a='''01 V Debby Pramod\n",
    "02 V Artemiy Ellie\n",
    "03 V Baptist Kamal\n",
    "04 V Lavanya Davide\n",
    "05 V Fulton Antwan\n",
    "06 V Euanthe Sandeep\n",
    "07 V Endzela Sanda\n",
    "08 V Victoire Waman\n",
    "09 V Briar Nur\n",
    "10 V Rose Lykos\n",
    "'''\n",
    "text_lines=a.splitlines()\n",
    "text_lines=[text.split() for text in text_lines]\n",
    "result=np.array(text_lines)\n",
    "print(result)"
   ]
  },
  {
   "cell_type": "markdown",
   "id": "d3a389c7",
   "metadata": {},
   "source": [
    "### 56. Write a NumPy program to display all the dates for the month of March, 2017."
   ]
  },
  {
   "cell_type": "code",
   "execution_count": 64,
   "id": "ee7157cd",
   "metadata": {},
   "outputs": [
    {
     "name": "stdout",
     "output_type": "stream",
     "text": [
      "['2017-03-01' '2017-03-02' '2017-03-03' '2017-03-04' '2017-03-05'\n",
      " '2017-03-06' '2017-03-07' '2017-03-08' '2017-03-09' '2017-03-10'\n",
      " '2017-03-11' '2017-03-12' '2017-03-13' '2017-03-14' '2017-03-15'\n",
      " '2017-03-16' '2017-03-17' '2017-03-18' '2017-03-19' '2017-03-20'\n",
      " '2017-03-21' '2017-03-22' '2017-03-23' '2017-03-24' '2017-03-25'\n",
      " '2017-03-26' '2017-03-27' '2017-03-28' '2017-03-29' '2017-03-30'\n",
      " '2017-03-31']\n"
     ]
    }
   ],
   "source": [
    "print(np.arange('2017-03' , '2017-04' , dtype='datetime64[D]'))"
   ]
  },
  {
   "cell_type": "markdown",
   "id": "d339f4dc",
   "metadata": {},
   "source": [
    "### 57. Write a NumPy program to get the dates of yesterday, today and tomorrow."
   ]
  },
  {
   "cell_type": "code",
   "execution_count": 65,
   "id": "b8f9e89e",
   "metadata": {},
   "outputs": [
    {
     "name": "stdout",
     "output_type": "stream",
     "text": [
      "Yesterday: 2021-10-09\n",
      "Today: 2021-10-10\n",
      "Tomorrow: 2021-10-11\n"
     ]
    }
   ],
   "source": [
    "print('Yesterday:',np.datetime64('today' ,'D') - np.timedelta64(1 , 'D'))\n",
    "print('Today:',np.datetime64('today' ,'D'))\n",
    "print('Tomorrow:',np.datetime64('today' ,'D') + np.timedelta64(1 , 'D'))"
   ]
  },
  {
   "cell_type": "markdown",
   "id": "33d0c6ff",
   "metadata": {},
   "source": [
    "### 58. Write a NumPy program to count the number of days of specific month."
   ]
  },
  {
   "cell_type": "code",
   "execution_count": 66,
   "id": "d1e310e9",
   "metadata": {},
   "outputs": [
    {
     "name": "stdout",
     "output_type": "stream",
     "text": [
      "March: 31 days\n",
      "February: 28 days\n"
     ]
    }
   ],
   "source": [
    "print('March:', np.datetime64('2017-04-01') - np.datetime64('2017-03-01'))\n",
    "print('February:', np.datetime64('2017-03-01') - np.datetime64('2017-02-01'))"
   ]
  },
  {
   "cell_type": "markdown",
   "id": "c05e70c1",
   "metadata": {},
   "source": [
    "## https://numpy.org/doc/stable/reference/generated/numpy.busday_offset.html"
   ]
  },
  {
   "cell_type": "markdown",
   "id": "59828232",
   "metadata": {},
   "source": [
    "### 59. Write a NumPy program to find the first Monday in May 2017."
   ]
  },
  {
   "cell_type": "code",
   "execution_count": 67,
   "id": "8d838bcc",
   "metadata": {},
   "outputs": [
    {
     "name": "stdout",
     "output_type": "stream",
     "text": [
      "2017-05-01\n"
     ]
    }
   ],
   "source": [
    "print(np.busday_offset('2017-05', 0, roll='forward', weekmask='Mon'))"
   ]
  },
  {
   "cell_type": "markdown",
   "id": "11966fc0",
   "metadata": {},
   "source": [
    "### 60. Write a NumPy program to find the number of weekdays in March 2017"
   ]
  },
  {
   "cell_type": "code",
   "execution_count": 68,
   "id": "35db0398",
   "metadata": {
    "scrolled": true
   },
   "outputs": [
    {
     "name": "stdout",
     "output_type": "stream",
     "text": [
      "23\n"
     ]
    }
   ],
   "source": [
    "print(np.busday_count('2017-03' , '2017-04'))"
   ]
  },
  {
   "cell_type": "markdown",
   "id": "4b523247",
   "metadata": {},
   "source": [
    "### 61. Write a NumPy program to get the minimum and maximum value of a given array along the second axis."
   ]
  },
  {
   "cell_type": "code",
   "execution_count": 69,
   "id": "34fb521a",
   "metadata": {},
   "outputs": [
    {
     "name": "stdout",
     "output_type": "stream",
     "text": [
      "[[1 2 3]\n",
      " [0 7 2]]\n",
      "[3 7]\n",
      "[0 2 2]\n"
     ]
    }
   ],
   "source": [
    "a=np.array([[1,2,3],[0,7,2]])\n",
    "print(a)\n",
    "print(np.max(a , axis=1))\n",
    "print(np.min(a , axis=0))"
   ]
  },
  {
   "cell_type": "markdown",
   "id": "b2a98737",
   "metadata": {},
   "source": [
    "### 62. Write a NumPy program to compute the weighted of a given array."
   ]
  },
  {
   "cell_type": "code",
   "execution_count": 70,
   "id": "22d5a7f6",
   "metadata": {},
   "outputs": [
    {
     "name": "stdout",
     "output_type": "stream",
     "text": [
      "2.6666666666666665\n"
     ]
    }
   ],
   "source": [
    "a=np.arange(5)\n",
    "weights=np.arange(1,6)\n",
    "print(np.average(a , weights=weights))"
   ]
  },
  {
   "cell_type": "markdown",
   "id": "ae7add11",
   "metadata": {},
   "source": [
    "### 63. Write a NumPy program to compute the covariance matrix of two given arrays."
   ]
  },
  {
   "cell_type": "code",
   "execution_count": 71,
   "id": "18239905",
   "metadata": {},
   "outputs": [
    {
     "data": {
      "text/plain": [
       "array([[1., 1.],\n",
       "       [1., 1.]])"
      ]
     },
     "execution_count": 71,
     "metadata": {},
     "output_type": "execute_result"
    }
   ],
   "source": [
    "a=np.array([1,2,3])\n",
    "b=np.array([4,5,6])\n",
    "np.cov(a,b)"
   ]
  },
  {
   "cell_type": "markdown",
   "id": "fcb2f364",
   "metadata": {},
   "source": [
    "### 64. Write a NumPy program to compute cross-correlation of two given arrays"
   ]
  },
  {
   "cell_type": "code",
   "execution_count": 72,
   "id": "b62f19b0",
   "metadata": {},
   "outputs": [
    {
     "data": {
      "text/plain": [
       "array([[2.33333333, 2.16666667],\n",
       "       [2.16666667, 2.33333333]])"
      ]
     },
     "execution_count": 72,
     "metadata": {},
     "output_type": "execute_result"
    }
   ],
   "source": [
    "x = np.array([0, 1, 3])\n",
    "y = np.array([2, 4, 5])\n",
    "np.cov(x,y)"
   ]
  },
  {
   "cell_type": "markdown",
   "id": "9298dd97",
   "metadata": {},
   "source": [
    "### 65. Write a Python program to count number of occurrences of each value in a given array of non-negative integers."
   ]
  },
  {
   "cell_type": "code",
   "execution_count": 73,
   "id": "773c7eae",
   "metadata": {},
   "outputs": [
    {
     "name": "stdout",
     "output_type": "stream",
     "text": [
      "[2 1 2 2 1 1 0 0 0 1]\n"
     ]
    }
   ],
   "source": [
    "a=np.array([0,1,2,3,4,5,2,3,0,9])\n",
    "print(np.bincount(a))"
   ]
  },
  {
   "cell_type": "markdown",
   "id": "967f5462",
   "metadata": {},
   "source": [
    "### 66. Write a NumPy program to compute logarithm of the sum of exponentiations of the inputs, sum of exponentiations of the inputs in base-2."
   ]
  },
  {
   "cell_type": "code",
   "execution_count": 74,
   "id": "2d82ad6b",
   "metadata": {},
   "outputs": [
    {
     "name": "stdout",
     "output_type": "stream",
     "text": [
      "-113.87649168120691\n",
      "-113.59955522772194\n"
     ]
    }
   ],
   "source": [
    "l1 = np.log(1e-50)\n",
    "l2 = np.log(2.5e-50)\n",
    "print(np.logaddexp(l1 , l2))\n",
    "print(np.logaddexp2(l1 , l2))"
   ]
  },
  {
   "cell_type": "markdown",
   "id": "f16d0780",
   "metadata": {},
   "source": [
    "### 67. Write a NumPy program to get true division of the element-wise array inputs"
   ]
  },
  {
   "cell_type": "code",
   "execution_count": 75,
   "id": "4174d2a9",
   "metadata": {},
   "outputs": [
    {
     "name": "stdout",
     "output_type": "stream",
     "text": [
      "[0.         0.33333333 0.66666667 1.         1.33333333 1.66666667\n",
      " 0.66666667 1.         0.         3.        ]\n"
     ]
    }
   ],
   "source": [
    "a=np.array([0,1,2,3,4,5,2,3,0,9])\n",
    "print(np.true_divide(a , 3))"
   ]
  },
  {
   "cell_type": "markdown",
   "id": "764d1d6a",
   "metadata": {},
   "source": [
    "### 68. Write a NumPy program to get the powers of an array values element-wise."
   ]
  },
  {
   "cell_type": "code",
   "execution_count": 76,
   "id": "5cff5ff2",
   "metadata": {},
   "outputs": [
    {
     "name": "stdout",
     "output_type": "stream",
     "text": [
      "[ 0  1  4  9 16 25  4  9  0 81]\n"
     ]
    }
   ],
   "source": [
    "a=np.array([0,1,2,3,4,5,2,3,0,9])\n",
    "print(a**2)"
   ]
  },
  {
   "cell_type": "markdown",
   "id": "face82f4",
   "metadata": {},
   "source": [
    "### 69. Write a NumPy program to calculate the absolute value element-wise."
   ]
  },
  {
   "cell_type": "code",
   "execution_count": 77,
   "id": "6861bce2",
   "metadata": {},
   "outputs": [
    {
     "name": "stdout",
     "output_type": "stream",
     "text": [
      "[0.  1.2 2.  3.  4.8 9.7]\n"
     ]
    }
   ],
   "source": [
    "a=np.array([0.0 , -1.2 , 2.0 , 3.0 , -4.8 , 9.7])\n",
    "print(np.abs(a))"
   ]
  },
  {
   "cell_type": "markdown",
   "id": "d950c64f",
   "metadata": {},
   "source": [
    "### 70. Write a NumPy program to round array elements to the given number of decimals."
   ]
  },
  {
   "cell_type": "code",
   "execution_count": 78,
   "id": "0ec3c891",
   "metadata": {},
   "outputs": [
    {
     "name": "stdout",
     "output_type": "stream",
     "text": [
      "[ 0.  -1.3  2.   3.8 -4.8  9.8]\n"
     ]
    }
   ],
   "source": [
    "a=np.array([0.01 , -1.26 , 2.01 , 3.78 , -4.81 , 9.79])\n",
    "print(np.round(a , 1))"
   ]
  },
  {
   "cell_type": "markdown",
   "id": "f816afb9",
   "metadata": {},
   "source": [
    "### 71. Write a NumPy program to round elements of the array to the nearest integer."
   ]
  },
  {
   "cell_type": "code",
   "execution_count": 79,
   "id": "7cd92652",
   "metadata": {},
   "outputs": [
    {
     "name": "stdout",
     "output_type": "stream",
     "text": [
      "[ 0. -1.  2.  4. -5. 10.]\n"
     ]
    }
   ],
   "source": [
    "a=np.array([0.01 , -1.26 , 2.01 , 3.78 , -4.81 , 9.79])\n",
    "print(np.rint(a))"
   ]
  },
  {
   "cell_type": "markdown",
   "id": "5b68f366",
   "metadata": {},
   "source": [
    "### 72. Write a NumPy program to get the floor, ceiling and truncated values of the elements of a numpy array."
   ]
  },
  {
   "cell_type": "code",
   "execution_count": 80,
   "id": "47c13ea3",
   "metadata": {},
   "outputs": [
    {
     "name": "stdout",
     "output_type": "stream",
     "text": [
      "[ 0. -2.  2.  3. -5.  9.]\n",
      "\n",
      "[ 1. -1.  3.  4. -4. 10.]\n",
      "\n",
      "[ 0. -1.  2.  3. -4.  9.]\n"
     ]
    }
   ],
   "source": [
    "a=np.array([0.01 , -1.26 , 2.01 , 3.78 , -4.81 , 9.79])\n",
    "print(np.floor(a))\n",
    "print()\n",
    "print(np.ceil(a))\n",
    "print()\n",
    "print(np.trunc(a))"
   ]
  },
  {
   "cell_type": "markdown",
   "id": "6861fa85",
   "metadata": {},
   "source": [
    "### 73. Write a NumPy program to multiply a matrix by another matrix of complex numbers and create a new matrix of complex numbers."
   ]
  },
  {
   "cell_type": "code",
   "execution_count": 81,
   "id": "347a49d1",
   "metadata": {},
   "outputs": [
    {
     "data": {
      "text/plain": [
       "array([[[-49.   +0.j , -63.   +7.j ,  -4.9 +63.j ],\n",
       "        [-63.   +7.j , -80.  +18.j ,   2.7 +81.7j],\n",
       "        [ -4.9 +63.j ,   2.7 +81.7j,  80.51+12.6j]]])"
      ]
     },
     "execution_count": 81,
     "metadata": {},
     "output_type": "execute_result"
    }
   ],
   "source": [
    "a=np.array([0+7j , 1+9j , 9+0.7j])\n",
    "b=np.array([[[0+7j] , [1+9j] , [9+0.7j]]])\n",
    "a*b"
   ]
  },
  {
   "cell_type": "markdown",
   "id": "bbb57084",
   "metadata": {},
   "source": [
    "### 75. Write a NumPy program to generate inner, outer, and cross products of matrices and vectors."
   ]
  },
  {
   "cell_type": "code",
   "execution_count": 82,
   "id": "f5765e2e",
   "metadata": {},
   "outputs": [
    {
     "name": "stdout",
     "output_type": "stream",
     "text": [
      "32\n",
      "\n",
      "[[ 4  5  6]\n",
      " [ 8 10 12]\n",
      " [12 15 18]]\n",
      "\n",
      "[-3  6 -3]\n"
     ]
    }
   ],
   "source": [
    "x = np.array([1, 2, 3])\n",
    "y = np.array([4, 5, 6])\n",
    "print(np.inner(x , y))     #multiply each element index-wise and add at the end.\n",
    "print()\n",
    "print(np.outer(x , y))     # 1*4,1*5,1*6; 2*4,2*5,2*6; 3*4,3*5,3*6\n",
    "print()\n",
    "print(np.cross(x , y))     # 5*1-4*2 ; 4*3-6*1 ; 6*2-5*3"
   ]
  },
  {
   "cell_type": "markdown",
   "id": "bf2d18c9",
   "metadata": {},
   "source": [
    "### 76. Write a NumPy program to generate a matrix product of two arrays."
   ]
  },
  {
   "cell_type": "code",
   "execution_count": 83,
   "id": "033e2721",
   "metadata": {},
   "outputs": [
    {
     "name": "stdout",
     "output_type": "stream",
     "text": [
      "[[1 0]\n",
      " [1 1]]\n",
      "\n",
      "[[3 1]\n",
      " [2 2]]\n",
      "\n",
      "[[3 1]\n",
      " [5 3]]\n",
      "\n",
      "[[3 1]\n",
      " [5 3]]\n"
     ]
    }
   ],
   "source": [
    "a = np.array([[1, 0], [1, 1]])\n",
    "print(a)\n",
    "print()\n",
    "b = np.array([[3, 1], [2, 2]])\n",
    "print(b)\n",
    "print()\n",
    "print(np.matmul(a , b))    #Dot product of a and b i.e matrix multiplication\n",
    "print()\n",
    "print(a @ b)         #Dot product of a and b i.e matrix multiplication"
   ]
  },
  {
   "cell_type": "markdown",
   "id": "c0c78444",
   "metadata": {},
   "source": [
    "### 77. Write a NumPy program to find the roots of the following polynomials."
   ]
  },
  {
   "cell_type": "code",
   "execution_count": 84,
   "id": "a9221728",
   "metadata": {},
   "outputs": [
    {
     "data": {
      "text/plain": [
       "array([1.+6.68896751e-09j, 1.-6.68896751e-09j])"
      ]
     },
     "execution_count": 84,
     "metadata": {},
     "output_type": "execute_result"
    }
   ],
   "source": [
    "a=[1, -2 , 1]\n",
    "np.roots(a)"
   ]
  },
  {
   "cell_type": "markdown",
   "id": "2cd9d458",
   "metadata": {},
   "source": [
    "### 78. Write a NumPy program to compute the following polynomial values."
   ]
  },
  {
   "cell_type": "code",
   "execution_count": 85,
   "id": "4d4a8081",
   "metadata": {},
   "outputs": [
    {
     "data": {
      "text/plain": [
       "1"
      ]
     },
     "execution_count": 85,
     "metadata": {},
     "output_type": "execute_result"
    }
   ],
   "source": [
    "a=[1, -2 , 1]\n",
    "np.polyval(a ,2)"
   ]
  },
  {
   "cell_type": "markdown",
   "id": "8dac2841",
   "metadata": {},
   "source": [
    "### 79. Write a NumPy program to add one polynomial to another"
   ]
  },
  {
   "cell_type": "code",
   "execution_count": 86,
   "id": "20d06d0a",
   "metadata": {},
   "outputs": [
    {
     "data": {
      "text/plain": [
       "array([ 3, -6,  4])"
      ]
     },
     "execution_count": 86,
     "metadata": {},
     "output_type": "execute_result"
    }
   ],
   "source": [
    "a=[1, -2 , 1]\n",
    "b=[2, -4, 3]\n",
    "np.polyadd(a , b)"
   ]
  },
  {
   "cell_type": "markdown",
   "id": "c6c2ad3b",
   "metadata": {},
   "source": [
    "### 80. Write a NumPy program to calculate mean across dimension, in a 2D numpy array."
   ]
  },
  {
   "cell_type": "code",
   "execution_count": 87,
   "id": "63c995b3",
   "metadata": {},
   "outputs": [
    {
     "name": "stdout",
     "output_type": "stream",
     "text": [
      "15.0\n",
      "20.0\n"
     ]
    }
   ],
   "source": [
    "a=np.array([[10,20],[30,10]])\n",
    "print(np.mean(a[0]))\n",
    "print(np.mean(a[1]))"
   ]
  },
  {
   "cell_type": "markdown",
   "id": "7e583869",
   "metadata": {},
   "source": [
    "### 81. Write a NumPy program to create a random array with 1000 elements and compute the average, variance, standard deviation of the array elements."
   ]
  },
  {
   "cell_type": "code",
   "execution_count": 88,
   "id": "73b53909",
   "metadata": {},
   "outputs": [
    {
     "data": {
      "text/plain": [
       "array([8.42393708e-01, 4.98723150e-01, 6.67940505e-01, 3.36626258e-01,\n",
       "       2.02068823e-01, 1.94339773e-02, 9.47335961e-01, 5.90846949e-01,\n",
       "       4.78092165e-01, 9.72426330e-01, 6.95340555e-01, 3.34901397e-01,\n",
       "       7.19691312e-02, 7.99954747e-03, 2.75674481e-01, 3.64819435e-01,\n",
       "       4.93347940e-01, 1.56825377e-01, 6.85130393e-01, 5.07389256e-01,\n",
       "       1.61427029e-01, 7.18960793e-01, 8.79841308e-01, 2.64092662e-01,\n",
       "       6.68235983e-01, 3.59268756e-01, 7.14648018e-02, 1.74906166e-01,\n",
       "       7.05581930e-01, 3.62100747e-01, 3.27863517e-01, 5.09682453e-02,\n",
       "       3.16874955e-01, 3.22751391e-01, 9.58278816e-01, 5.69553936e-01,\n",
       "       2.55826574e-01, 2.72935234e-01, 5.33977848e-01, 8.13421286e-01,\n",
       "       3.91729151e-01, 3.94746069e-01, 8.24280993e-01, 4.58313349e-01,\n",
       "       9.55787011e-01, 8.95647953e-01, 1.51804246e-01, 6.92858840e-01,\n",
       "       2.97079235e-01, 8.84757998e-01, 4.96196320e-01, 9.32500507e-01,\n",
       "       1.76024880e-01, 5.02882963e-01, 7.13538513e-01, 4.66456059e-01,\n",
       "       9.18025067e-04, 4.39586045e-01, 2.39372191e-01, 5.86942159e-01,\n",
       "       9.81686804e-01, 1.72916586e-01, 7.71649106e-01, 4.77173333e-01,\n",
       "       4.38891183e-01, 1.89244304e-01, 9.15769929e-01, 8.00235559e-01,\n",
       "       2.80004186e-01, 6.03987010e-01, 3.94901282e-01, 8.32761695e-01,\n",
       "       7.84645971e-02, 1.02886205e-01, 3.73850291e-01, 4.82697714e-01,\n",
       "       9.50735667e-01, 9.53286315e-01, 3.27327867e-01, 2.06810205e-01,\n",
       "       8.58715237e-01, 2.84981712e-01, 9.70994698e-02, 5.76393480e-01,\n",
       "       4.60919909e-01, 2.31895460e-01, 8.63567542e-01, 2.26673935e-02,\n",
       "       9.71451245e-01, 8.89639804e-01, 5.42903498e-01, 4.82630948e-01,\n",
       "       5.54486510e-01, 3.41657869e-01, 2.55464755e-01, 9.09264531e-01,\n",
       "       7.92085154e-01, 8.53823528e-01, 9.13153323e-02, 8.45585957e-01,\n",
       "       3.35563135e-01, 4.09900652e-01, 8.63332998e-01, 3.73617563e-02,\n",
       "       4.66346437e-01, 8.82545212e-02, 2.09935790e-01, 9.96348278e-01,\n",
       "       6.84367009e-01, 9.54513742e-01, 6.76928608e-01, 9.52156842e-01,\n",
       "       3.19166954e-01, 6.46667666e-01, 3.07326858e-01, 2.56886264e-01,\n",
       "       9.69358641e-01, 1.90159291e-01, 8.67021716e-01, 9.00597910e-01,\n",
       "       1.05835264e-01, 5.75983103e-01, 5.94825384e-01, 3.32992525e-01,\n",
       "       6.88026467e-01, 5.18465528e-02, 7.70771623e-01, 1.67422108e-01,\n",
       "       5.49066512e-01, 5.05266093e-01, 3.50693515e-01, 4.06090931e-01,\n",
       "       1.28755003e-01, 1.55144681e-01, 4.16851393e-01, 7.54899171e-01,\n",
       "       2.62010456e-01, 4.30943561e-01, 1.46888691e-01, 6.81874918e-01,\n",
       "       6.77147917e-01, 1.65510442e-01, 2.42944584e-01, 4.56579299e-02,\n",
       "       2.38890223e-02, 3.76385450e-01, 9.56883910e-01, 7.89056891e-02,\n",
       "       9.64849015e-01, 3.43537661e-01, 1.39600579e-01, 5.79507313e-01,\n",
       "       1.42222384e-01, 2.29532499e-01, 6.18842652e-01, 2.07575568e-01,\n",
       "       9.00782906e-01, 4.98185829e-01, 6.54514682e-01, 6.14382207e-01,\n",
       "       6.77649086e-01, 9.00163763e-01, 8.97755632e-02, 7.96488956e-01,\n",
       "       6.10931813e-02, 5.32788566e-01, 5.83240665e-01, 7.44989720e-01,\n",
       "       9.06090312e-02, 1.76420280e-01, 6.82559398e-01, 4.69791949e-01,\n",
       "       7.73546360e-01, 2.87356396e-01, 8.62501594e-01, 6.43895968e-01,\n",
       "       4.35830686e-01, 7.99930275e-01, 1.93980203e-01, 4.56677194e-01,\n",
       "       9.10004366e-02, 2.00931621e-01, 2.38513977e-01, 4.79938812e-01,\n",
       "       3.12071751e-01, 5.63679070e-01, 8.64120964e-02, 8.65941088e-01,\n",
       "       2.57102065e-01, 5.78843591e-01, 5.37231423e-01, 7.92660809e-01,\n",
       "       7.06488100e-01, 8.97108261e-01, 9.75660972e-01, 1.06977926e-01,\n",
       "       1.55391509e-01, 3.42789363e-02, 6.89480976e-01, 1.07042189e-01,\n",
       "       8.82459238e-01, 3.93471461e-01, 2.08449269e-02, 7.17688515e-01,\n",
       "       1.50373826e-01, 7.00360029e-01, 2.97880535e-01, 8.48092383e-01,\n",
       "       4.34963957e-01, 5.58171288e-01, 9.35962057e-02, 8.05075274e-01,\n",
       "       1.69067658e-02, 5.41210877e-01, 7.39866484e-01, 5.90561368e-01,\n",
       "       9.20246007e-01, 9.74558021e-01, 1.97066090e-01, 6.40182650e-01,\n",
       "       5.46310853e-01, 7.73435803e-01, 8.51393511e-01, 6.67627331e-01,\n",
       "       2.68222939e-01, 8.26934684e-01, 2.97775189e-01, 4.44759308e-01,\n",
       "       5.05391109e-01, 7.58430965e-01, 5.32734195e-01, 2.30313506e-01,\n",
       "       4.33856453e-01, 9.10200116e-01, 4.28819148e-01, 4.50998703e-01,\n",
       "       4.82888552e-01, 4.60580527e-02, 8.08727381e-01, 7.07222738e-01,\n",
       "       7.58496670e-02, 8.97007257e-01, 3.92346184e-02, 3.96046417e-02,\n",
       "       2.66569765e-01, 5.73196621e-01, 7.05331989e-01, 2.14479588e-01,\n",
       "       8.00472296e-01, 9.88235042e-01, 3.00020137e-01, 7.04170323e-02,\n",
       "       6.80119305e-01, 5.67281413e-01, 7.81461824e-01, 1.14448354e-01,\n",
       "       6.98261745e-01, 3.51225365e-01, 5.80432197e-01, 2.47129424e-01,\n",
       "       5.95306532e-01, 6.17829933e-01, 6.39670035e-01, 3.16021999e-01,\n",
       "       4.67501372e-01, 6.29050774e-01, 9.04290643e-01, 9.93472204e-01,\n",
       "       3.32117150e-01, 7.60876343e-01, 2.97857889e-01, 6.98121596e-01,\n",
       "       9.54785669e-01, 2.31224127e-01, 8.98985352e-01, 5.79692397e-01,\n",
       "       5.78956220e-01, 6.28267503e-01, 5.70324215e-01, 1.33976298e-02,\n",
       "       4.70299068e-01, 8.61493610e-01, 8.60151961e-01, 6.02137772e-01,\n",
       "       5.08586441e-01, 2.81061002e-01, 6.69506276e-01, 5.22029216e-01,\n",
       "       9.79979621e-01, 5.38786372e-01, 1.20739599e-01, 5.98696418e-01,\n",
       "       7.46294120e-01, 1.24556418e-01, 3.31255376e-01, 6.99192783e-01,\n",
       "       4.34403842e-02, 6.76015267e-01, 3.24432923e-01, 3.12266561e-01,\n",
       "       7.87332791e-01, 3.67537730e-01, 1.99554145e-01, 8.66256196e-01,\n",
       "       7.61989983e-01, 6.06617788e-01, 2.73900681e-01, 5.26102573e-01,\n",
       "       1.34219364e-01, 9.99269648e-01, 2.92084151e-01, 4.55101961e-01,\n",
       "       4.51823186e-01, 8.03342806e-01, 7.62615540e-01, 1.36560566e-02,\n",
       "       9.56357083e-01, 1.86452009e-01, 3.50414954e-01, 9.30505626e-01,\n",
       "       9.79631053e-01, 2.19477718e-01, 7.17555572e-01, 1.62567365e-01,\n",
       "       9.22112108e-02, 3.62472133e-01, 6.95049876e-02, 8.05311045e-01,\n",
       "       9.32601789e-01, 5.49485981e-02, 9.58918703e-01, 8.28822833e-01,\n",
       "       3.82689947e-01, 4.55486820e-01, 9.19120598e-01, 1.21458682e-01,\n",
       "       4.97079760e-01, 9.69436079e-01, 5.48370820e-01, 4.02042418e-01,\n",
       "       7.51552364e-01, 2.61933073e-01, 4.98141203e-01, 2.19155790e-03,\n",
       "       8.74272405e-01, 8.77275891e-01, 4.61724341e-01, 6.72158356e-01,\n",
       "       8.69060442e-01, 4.15930106e-01, 9.93684337e-01, 4.76686493e-01,\n",
       "       6.73038126e-01, 8.77876920e-01, 3.97011616e-01, 8.23182742e-01,\n",
       "       1.84203640e-01, 3.25399977e-01, 6.95691006e-01, 7.24485549e-01,\n",
       "       1.33560651e-01, 3.55824430e-01, 5.69710995e-01, 5.28945412e-01,\n",
       "       8.36776627e-01, 5.04330459e-01, 8.40073730e-01, 3.33437923e-01,\n",
       "       7.55238098e-01, 2.97455787e-01, 9.67653938e-01, 8.35502884e-01,\n",
       "       2.92269903e-01, 5.66829156e-01, 6.44038331e-01, 5.29881051e-01,\n",
       "       2.81233387e-02, 6.17977257e-01, 5.05558591e-01, 7.78317995e-01,\n",
       "       8.07171519e-01, 1.04771049e-01, 3.98463387e-01, 9.48639932e-01,\n",
       "       3.74449125e-01, 2.06929185e-01, 9.20451562e-01, 9.08395896e-01,\n",
       "       1.72662914e-01, 2.50399082e-01, 5.48690992e-01, 1.71110521e-02,\n",
       "       5.25552209e-01, 7.56516082e-01, 5.34646887e-01, 4.05347581e-01,\n",
       "       5.87594245e-02, 5.09091402e-01, 4.28666734e-02, 8.01942580e-01,\n",
       "       8.04817074e-01, 4.64882352e-01, 2.36418432e-01, 4.24765289e-01,\n",
       "       3.80273320e-01, 1.02924655e-03, 9.75250342e-01, 2.37003126e-03,\n",
       "       1.96307038e-02, 4.18032908e-01, 3.77600748e-01, 5.81805052e-01,\n",
       "       7.04694484e-01, 8.59922824e-01, 7.32317009e-01, 7.80556091e-01,\n",
       "       4.30901727e-02, 1.18743909e-01, 5.87532724e-01, 8.81977064e-01,\n",
       "       4.77462678e-01, 9.60020860e-01, 1.35202211e-01, 4.36413895e-01,\n",
       "       2.28064394e-01, 6.08429597e-01, 5.86326810e-01, 9.49379653e-01,\n",
       "       5.34574197e-01, 9.58439898e-01, 6.15231238e-01, 6.40502560e-01,\n",
       "       2.43998490e-01, 8.25524289e-01, 4.36299960e-02, 9.25896789e-01,\n",
       "       1.89529874e-01, 9.34701014e-01, 1.96398192e-01, 4.80047082e-01,\n",
       "       4.20421531e-01, 8.73877084e-01, 3.38419663e-01, 5.29808351e-01,\n",
       "       1.04846228e-01, 8.88010201e-01, 1.63326826e-02, 2.93519886e-01,\n",
       "       5.14946405e-01, 4.15597328e-03, 2.72526319e-01, 5.47065957e-01,\n",
       "       2.93601760e-01, 5.77219395e-02, 3.72524608e-01, 1.69492009e-01,\n",
       "       2.54013572e-01, 3.28166494e-01, 3.95260808e-02, 2.24144184e-01,\n",
       "       7.83366487e-01, 1.66672014e-01, 2.21387366e-01, 3.07291415e-01,\n",
       "       7.86904384e-01, 9.93075907e-01, 7.92414919e-01, 5.71406234e-01,\n",
       "       8.89068494e-01, 6.79251458e-01, 9.18930342e-01, 5.36325711e-01,\n",
       "       4.15114314e-01, 9.84413253e-01, 2.56731608e-01, 8.81568906e-01,\n",
       "       7.29873632e-01, 4.96453766e-01, 8.24598275e-01, 8.47811755e-01,\n",
       "       2.04337088e-01, 5.36313809e-01, 8.82532080e-01, 6.14850285e-01,\n",
       "       8.02777644e-01, 7.06950299e-01, 7.34456455e-01, 1.36725337e-01,\n",
       "       8.74255347e-01, 7.61526953e-01, 7.84967460e-01, 5.06315112e-01,\n",
       "       3.08579366e-01, 6.57312913e-01, 7.07614922e-01, 1.85477505e-02,\n",
       "       6.08861258e-01, 9.50359314e-01, 3.13936345e-03, 8.13619013e-01,\n",
       "       5.70308475e-01, 4.03460768e-02, 1.68767701e-01, 5.20569188e-01,\n",
       "       3.79502035e-01, 8.90967086e-01, 8.58785975e-01, 4.11064540e-01,\n",
       "       8.26355257e-01, 4.21820384e-01, 2.49757629e-01, 9.11663082e-01,\n",
       "       1.59844821e-01, 4.57436994e-01, 3.54316752e-01, 8.97045781e-01,\n",
       "       6.51301744e-02, 2.55306243e-01, 4.70670551e-01, 7.06826230e-01,\n",
       "       2.13259243e-01, 7.37655006e-01, 9.61224573e-01, 9.49129612e-01,\n",
       "       1.16008169e-01, 7.49677637e-01, 6.38908718e-01, 2.19579791e-01,\n",
       "       7.46558567e-01, 2.21716914e-01, 2.46156675e-01, 5.50830310e-01,\n",
       "       8.14094513e-01, 5.52282350e-01, 6.61730560e-01, 3.25669324e-01,\n",
       "       5.91541499e-01, 8.00444942e-01, 8.54047840e-02, 2.00635144e-02,\n",
       "       4.28547519e-02, 1.02570115e-01, 6.37933954e-01, 2.12326773e-02,\n",
       "       9.18215476e-02, 5.22266370e-01, 2.19480581e-01, 7.21752036e-01,\n",
       "       3.38212723e-01, 7.70418852e-01, 7.07338959e-03, 7.20983577e-01,\n",
       "       7.29317139e-02, 3.02424419e-01, 2.75548519e-01, 3.44530965e-01,\n",
       "       8.84888106e-01, 1.39931662e-01, 2.16361423e-01, 2.45082411e-01,\n",
       "       4.17872701e-02, 2.24339481e-01, 5.37643846e-02, 3.44436706e-01,\n",
       "       4.25255837e-01, 6.08364114e-01, 2.52309482e-01, 8.72647525e-01,\n",
       "       9.38818162e-01, 7.14506543e-01, 3.23975420e-01, 5.52929747e-01,\n",
       "       6.15038681e-01, 5.74295547e-01, 9.64895692e-01, 7.03971881e-01,\n",
       "       2.08385331e-01, 1.60985611e-01, 5.10830222e-01, 2.23884475e-01,\n",
       "       7.67497029e-02, 2.15620297e-01, 2.77883782e-01, 1.19712477e-02,\n",
       "       7.32579374e-02, 7.91230844e-01, 8.16192572e-01, 3.11261695e-01,\n",
       "       9.83392215e-01, 9.61290753e-02, 7.27075027e-01, 9.91660859e-01,\n",
       "       7.17473584e-03, 6.19889468e-01, 3.78841207e-01, 7.64591417e-01,\n",
       "       8.61275666e-01, 3.20071778e-01, 2.90066941e-03, 6.38779337e-01,\n",
       "       8.24097300e-01, 2.02491040e-01, 3.07442313e-01, 8.24926714e-01,\n",
       "       7.09634350e-01, 2.48556035e-01, 8.42272124e-01, 4.94437398e-01,\n",
       "       1.47480789e-01, 5.09482103e-01, 7.48553379e-01, 5.31840219e-01,\n",
       "       1.22751674e-01, 1.76495434e-01, 5.23112890e-01, 3.68830488e-01,\n",
       "       1.29195881e-01, 9.85942911e-02, 7.65604737e-01, 9.17339230e-01,\n",
       "       3.38890980e-01, 9.66471824e-01, 1.60748655e-01, 6.50263026e-01,\n",
       "       4.43260725e-02, 7.13300850e-01, 4.36701849e-01, 3.39864978e-01,\n",
       "       7.15546223e-01, 7.16971353e-01, 1.91548575e-02, 3.83907674e-01,\n",
       "       3.99189595e-01, 3.57677631e-01, 4.00662656e-01, 9.22222222e-01,\n",
       "       1.49325217e-01, 4.58238321e-01, 8.10562941e-01, 7.81442115e-01,\n",
       "       3.24366632e-01, 3.50673542e-01, 7.89258882e-01, 4.16292617e-01,\n",
       "       8.25299894e-01, 4.55504713e-01, 3.44055093e-01, 9.95329677e-01,\n",
       "       9.25162680e-01, 8.43677689e-01, 4.34813963e-01, 6.72288193e-01,\n",
       "       4.97604638e-01, 4.48018146e-01, 6.94066134e-01, 1.95549279e-01,\n",
       "       2.84267516e-01, 6.11833673e-01, 3.32798626e-01, 4.08993342e-01,\n",
       "       2.78606247e-01, 5.88627367e-01, 6.63663554e-01, 5.94242091e-01,\n",
       "       7.79996549e-01, 6.31968323e-02, 6.55950638e-01, 6.38685046e-01,\n",
       "       7.09903250e-01, 7.67002100e-01, 7.30152273e-01, 9.01002825e-01,\n",
       "       4.08542026e-01, 4.83510426e-01, 1.31081816e-01, 5.95095042e-01,\n",
       "       2.91695732e-02, 6.55741261e-01, 5.39884644e-01, 2.06339522e-01,\n",
       "       3.38000779e-01, 2.66548553e-01, 6.42911853e-01, 3.23596312e-01,\n",
       "       8.29046023e-01, 1.75092224e-01, 3.11479290e-01, 2.51985039e-01,\n",
       "       6.46517485e-01, 5.68588533e-01, 3.93344491e-01, 9.90101590e-01,\n",
       "       7.50557631e-01, 8.75941013e-01, 5.81735139e-01, 8.80694703e-01,\n",
       "       3.60538151e-01, 9.09621981e-01, 6.80456191e-01, 3.16081576e-01,\n",
       "       6.47493631e-01, 8.05785203e-01, 3.62024753e-01, 2.27018523e-01,\n",
       "       9.84131257e-01, 6.56375337e-01, 7.49839922e-02, 1.29345842e-01,\n",
       "       1.94386063e-01, 8.51842890e-01, 1.51245956e-01, 9.40506879e-01,\n",
       "       2.19998562e-01, 4.50101188e-01, 4.64641976e-01, 1.37648607e-03,\n",
       "       5.88769070e-01, 6.47620507e-01, 3.60714518e-01, 8.13632591e-01,\n",
       "       5.28750590e-01, 2.94825888e-01, 9.56000870e-03, 8.03036673e-01,\n",
       "       4.23424946e-01, 6.12140748e-01, 7.91351194e-01, 5.66523054e-01,\n",
       "       6.07728588e-01, 6.29725066e-01, 1.92215916e-01, 4.59285080e-01,\n",
       "       2.88425633e-01, 7.21902985e-01, 7.21420593e-01, 5.26588046e-02,\n",
       "       4.52983663e-01, 9.79295421e-01, 4.82612571e-01, 5.48803097e-01,\n",
       "       4.69093620e-01, 5.76064005e-02, 1.31049008e-02, 5.31600588e-01,\n",
       "       4.73568301e-03, 1.71669279e-01, 2.33399447e-01, 1.09811587e-01,\n",
       "       1.42718420e-01, 9.74145209e-01, 8.66987490e-01, 7.26866251e-01,\n",
       "       8.18242270e-01, 1.47642292e-01, 2.62172999e-01, 2.42836464e-01,\n",
       "       8.94546730e-02, 8.00603578e-01, 7.91629380e-01, 8.08435602e-01,\n",
       "       6.83043939e-01, 5.71985604e-01, 9.92098177e-01, 6.07623376e-01,\n",
       "       2.94210450e-01, 8.26813986e-01, 4.37659264e-01, 3.06112618e-01,\n",
       "       1.23858107e-01, 5.46592619e-01, 4.19169165e-02, 9.46684126e-01,\n",
       "       4.33168267e-01, 5.78242527e-01, 5.09088326e-01, 8.35679956e-01,\n",
       "       4.36423457e-01, 8.77997205e-01, 3.12983533e-01, 2.55738308e-01,\n",
       "       8.08396232e-01, 6.50240009e-01, 5.55020904e-01, 1.37022443e-01,\n",
       "       1.91143779e-01, 8.93652080e-01, 3.63530864e-01, 7.27893955e-01,\n",
       "       1.64794239e-01, 9.06199237e-01, 1.00486026e-01, 3.85961117e-01,\n",
       "       1.27873273e-01, 7.48424010e-01, 3.86400226e-01, 7.39935655e-01,\n",
       "       2.88444968e-01, 8.77408459e-01, 4.09452687e-01, 7.56272882e-01,\n",
       "       1.10789324e-01, 9.03794035e-01, 9.63598955e-01, 4.78530672e-02,\n",
       "       9.24334998e-01, 8.29410652e-01, 1.03610009e-01, 3.79322737e-05,\n",
       "       1.53102405e-01, 4.90157027e-01, 7.62019378e-01, 3.12454746e-01,\n",
       "       2.97430031e-02, 4.41806275e-01, 1.30647789e-01, 9.65641536e-01,\n",
       "       8.52260296e-01, 8.59149281e-01, 9.26201679e-01, 7.89362313e-01,\n",
       "       8.77657659e-01, 3.86292348e-01, 7.77249546e-01, 9.89906181e-01,\n",
       "       8.46968399e-01, 9.91639936e-02, 1.66720235e-01, 7.39085406e-01,\n",
       "       8.96998095e-01, 4.16964065e-01, 6.37352507e-01, 8.77123777e-02,\n",
       "       2.62944342e-01, 7.21801999e-01, 9.15901338e-01, 6.43690151e-01,\n",
       "       9.34392761e-01, 2.70542088e-01, 7.13378864e-01, 6.17624095e-01,\n",
       "       5.92343509e-01, 7.43664574e-01, 4.37673646e-01, 8.58432854e-01,\n",
       "       9.54173789e-01, 4.24476556e-01, 3.89646892e-01, 7.37090048e-01,\n",
       "       4.56718193e-01, 8.48539112e-02, 9.51155296e-02, 6.23849049e-01,\n",
       "       7.30981168e-01, 4.65678901e-01, 7.93188853e-01, 9.86441600e-02,\n",
       "       3.70757703e-01, 6.13962478e-01, 1.26441653e-01, 1.64320185e-01,\n",
       "       2.03155922e-01, 6.48357835e-01, 7.11912750e-01, 3.38726574e-01,\n",
       "       4.82598354e-01, 2.25288009e-01, 8.29431784e-01, 7.03628021e-02,\n",
       "       8.67772574e-01, 5.06419119e-01, 3.47712776e-01, 4.68334620e-02,\n",
       "       9.86286041e-01, 5.76011370e-02, 9.92233423e-01, 9.73731245e-01,\n",
       "       9.38938591e-02, 5.40747991e-01, 7.55577438e-01, 4.91604834e-01,\n",
       "       9.31840783e-01, 9.68473401e-01, 4.78186906e-01, 4.03184504e-01,\n",
       "       7.58546990e-01, 9.05665806e-02, 7.30850377e-01, 1.38701576e-01,\n",
       "       9.22749418e-01, 8.82898549e-01, 1.72719143e-01, 4.69231437e-01,\n",
       "       3.44859582e-02, 7.15518320e-01, 1.36970298e-01, 5.84080813e-01,\n",
       "       2.46444078e-01, 3.69023748e-01, 4.87583667e-01, 3.88213681e-01,\n",
       "       9.42450982e-01, 4.37038415e-02, 4.15014809e-02, 6.85957451e-01,\n",
       "       6.25824576e-01, 5.57125897e-01, 6.41504664e-01, 1.91928375e-02,\n",
       "       1.76009382e-01, 2.09206553e-01, 7.93582387e-01, 6.69700546e-01,\n",
       "       1.57667447e-01, 9.85788177e-01, 2.42547230e-01, 3.15322923e-01,\n",
       "       6.04788080e-01, 6.48371311e-02, 7.58628909e-01, 5.64111993e-01,\n",
       "       6.23999242e-01, 2.41534605e-01, 6.51689101e-01, 1.64596705e-01,\n",
       "       7.85047039e-01, 1.94242585e-01, 2.06127624e-01, 7.79983556e-01,\n",
       "       5.57749678e-01, 2.65890473e-01, 5.14220658e-01, 2.67429130e-01,\n",
       "       7.38242119e-01, 8.45318532e-01, 1.83933161e-01, 6.66116101e-01,\n",
       "       3.79408600e-01, 6.11452822e-02, 9.55684610e-01, 9.40423301e-01,\n",
       "       3.15613211e-01, 5.76157317e-01, 1.75553629e-01, 7.32328223e-01,\n",
       "       1.89730285e-01, 7.25614122e-01, 9.56416362e-01, 6.12032259e-01,\n",
       "       1.83519123e-01, 3.75798146e-01, 8.61251706e-01, 3.17004551e-01,\n",
       "       9.49776280e-01, 4.02164142e-01, 6.09861290e-01, 9.57912008e-01,\n",
       "       5.95056532e-01, 7.26470110e-01, 4.58275654e-01, 6.42521645e-01,\n",
       "       8.69450208e-01, 7.68937868e-01, 2.92015438e-01, 1.46381788e-01,\n",
       "       6.19039344e-01, 5.22492380e-01, 5.47694446e-01, 8.78005578e-01,\n",
       "       1.69163870e-01, 4.92624713e-01, 4.04260700e-01, 8.60486006e-01,\n",
       "       6.14856446e-01, 6.10121783e-01, 4.60294678e-01, 8.20607354e-01,\n",
       "       1.89152107e-01, 4.11731155e-01, 3.63567393e-01, 1.97923153e-01,\n",
       "       9.12423124e-01, 3.12633175e-01, 8.48123273e-01, 5.91636034e-01,\n",
       "       1.19414643e-01, 5.06267904e-01, 8.80089842e-01, 4.58647945e-01,\n",
       "       9.39573110e-01, 6.68940501e-01, 5.40556727e-01, 3.47089795e-01,\n",
       "       8.39359698e-01, 8.22639876e-01, 7.59455260e-01, 9.30562746e-01,\n",
       "       7.85191702e-01, 5.94421960e-01, 9.50660658e-01, 7.57689184e-01])"
      ]
     },
     "execution_count": 88,
     "metadata": {},
     "output_type": "execute_result"
    }
   ],
   "source": [
    "a=np.random.rand(1000)\n",
    "a"
   ]
  },
  {
   "cell_type": "code",
   "execution_count": 89,
   "id": "0df05a60",
   "metadata": {},
   "outputs": [
    {
     "data": {
      "text/plain": [
       "0.5056193047735461"
      ]
     },
     "execution_count": 89,
     "metadata": {},
     "output_type": "execute_result"
    }
   ],
   "source": [
    "np.average(a)   #   or np.mean(a)"
   ]
  },
  {
   "cell_type": "code",
   "execution_count": 90,
   "id": "e0f69ec0",
   "metadata": {},
   "outputs": [
    {
     "data": {
      "text/plain": [
       "0.2901950050274002"
      ]
     },
     "execution_count": 90,
     "metadata": {},
     "output_type": "execute_result"
    }
   ],
   "source": [
    "np.std(a)"
   ]
  },
  {
   "cell_type": "code",
   "execution_count": 91,
   "id": "2661f8ee",
   "metadata": {},
   "outputs": [
    {
     "data": {
      "text/plain": [
       "0.08421314094285282"
      ]
     },
     "execution_count": 91,
     "metadata": {},
     "output_type": "execute_result"
    }
   ],
   "source": [
    "np.var(a)"
   ]
  },
  {
   "cell_type": "markdown",
   "id": "35441eab",
   "metadata": {},
   "source": [
    "### 82. Write a NumPy program to compute the trigonometric sine, cos and tan array of angles given in degrees."
   ]
  },
  {
   "cell_type": "code",
   "execution_count": 92,
   "id": "00489f28",
   "metadata": {},
   "outputs": [
    {
     "name": "stdout",
     "output_type": "stream",
     "text": [
      "[ 0. 30. 45. 60. 90.]\n",
      "[0.         0.5        0.70710678 0.8660254  1.        ]\n",
      "[1.00000000e+00 8.66025404e-01 7.07106781e-01 5.00000000e-01\n",
      " 6.12323400e-17]\n",
      "[0.00000000e+00 5.77350269e-01 1.00000000e+00 1.73205081e+00\n",
      " 1.63312394e+16]\n"
     ]
    }
   ],
   "source": [
    "a=np.array([0., 30., 45., 60., 90.])\n",
    "print(a)\n",
    "print(np.sin(a*np.pi/180))\n",
    "print(np.cos(a*np.pi/180))\n",
    "print(np.tan(a*np.pi/180))"
   ]
  },
  {
   "cell_type": "markdown",
   "id": "7d2b135a",
   "metadata": {},
   "source": [
    "### 83. Write a NumPy program to calculate inverse sine, inverse cosine, and inverse tangent for all elements in a given array."
   ]
  },
  {
   "cell_type": "code",
   "execution_count": 93,
   "id": "ac1c7b61",
   "metadata": {},
   "outputs": [
    {
     "name": "stdout",
     "output_type": "stream",
     "text": [
      "[-1.57079633  0.          1.57079633]\n",
      "[3.14159265 1.57079633 0.        ]\n",
      "[-0.78539816  0.          0.78539816]\n"
     ]
    }
   ],
   "source": [
    "a=np.array([-1, 0 , 1])\n",
    "print(np.arcsin(a))\n",
    "print(np.arccos(a))\n",
    "print(np.arctan(a))"
   ]
  },
  {
   "cell_type": "markdown",
   "id": "de0bbeb0",
   "metadata": {},
   "source": [
    "### 84. Write a NumPy program to convert angles from radians to degrees for all elements in a given array"
   ]
  },
  {
   "cell_type": "code",
   "execution_count": 94,
   "id": "4c7f463d",
   "metadata": {},
   "outputs": [
    {
     "name": "stdout",
     "output_type": "stream",
     "text": [
      "[-180.  -90.   90.  180.]\n"
     ]
    }
   ],
   "source": [
    "a=np.array([-np.pi, -np.pi/2, np.pi/2, np.pi])\n",
    "b=np.degrees(a)\n",
    "c=np.rad2deg(a)\n",
    "assert np.array_equiv(b , c)\n",
    "print(b)"
   ]
  },
  {
   "cell_type": "markdown",
   "id": "c31cf928",
   "metadata": {},
   "source": [
    "### 85. Write a NumPy program to convert angles from degrees to radians for all elements in a given array."
   ]
  },
  {
   "cell_type": "code",
   "execution_count": 95,
   "id": "a46db221",
   "metadata": {},
   "outputs": [
    {
     "name": "stdout",
     "output_type": "stream",
     "text": [
      "[-3.14159265 -1.57079633  1.57079633  3.14159265]\n"
     ]
    }
   ],
   "source": [
    "a=np.array([-180.,  -90.,   90.,  180.])\n",
    "b=np.radians(a)\n",
    "c=np.deg2rad(a)\n",
    "assert np.array_equiv(b , c)\n",
    "print(b)"
   ]
  },
  {
   "cell_type": "markdown",
   "id": "a53d6a60",
   "metadata": {},
   "source": [
    "### 86. Write a NumPy program to calculate cumulative sum of the elements along a given axis, product of the elements along a given axis, sum over rows for each of the 3 columns and sum over columns for each of the 2 rows of a given 3x3 array."
   ]
  },
  {
   "cell_type": "code",
   "execution_count": 96,
   "id": "c718d022",
   "metadata": {},
   "outputs": [
    {
     "name": "stdout",
     "output_type": "stream",
     "text": [
      "[[1 2 3]\n",
      " [3 6 9]]\n",
      "\n",
      "[ 1  3  6  9 15 24]\n",
      "\n",
      "[[ 1  2  3]\n",
      " [ 4  8 12]]\n",
      "\n",
      "[[ 1  3  6]\n",
      " [ 3  9 18]]\n",
      "\n",
      "[  1   2   6  18 108 972]\n"
     ]
    },
    {
     "data": {
      "text/plain": [
       "array([[1, 1],\n",
       "       [3, 3]])"
      ]
     },
     "execution_count": 96,
     "metadata": {},
     "output_type": "execute_result"
    }
   ],
   "source": [
    "x = np.array([[1,2,3],[3,6,9]])\n",
    "print(x)\n",
    "print()\n",
    "print(np.cumsum(x))\n",
    "print()\n",
    "print(np.cumsum(x , axis=0))    #vertically\n",
    "print()\n",
    "print(np.cumsum(x , axis=1))    #horizontally\n",
    "print()\n",
    "print(np.cumprod(x))    #product\n",
    "np.diff(x)  # difference between neighboring elements"
   ]
  },
  {
   "cell_type": "markdown",
   "id": "be65b837",
   "metadata": {},
   "source": [
    "### 87. Write a NumPy program to calculate the difference between neighboring elements, element-wise of a given array"
   ]
  },
  {
   "cell_type": "code",
   "execution_count": 97,
   "id": "dc681869",
   "metadata": {},
   "outputs": [
    {
     "data": {
      "text/plain": [
       "array([30., 15., 15., 30.])"
      ]
     },
     "execution_count": 97,
     "metadata": {},
     "output_type": "execute_result"
    }
   ],
   "source": [
    "a=np.array([0., 30., 45., 60., 90.])\n",
    "np.diff(a)"
   ]
  },
  {
   "cell_type": "markdown",
   "id": "5798b420",
   "metadata": {},
   "source": [
    "### 88. Write a NumPy program to calculate the difference between neighboring elements, element-wise, and prepend [0, 0] and append[200] to a given array."
   ]
  },
  {
   "cell_type": "code",
   "execution_count": 98,
   "id": "f1cefd3f",
   "metadata": {},
   "outputs": [
    {
     "name": "stdout",
     "output_type": "stream",
     "text": [
      "[  0   0   2   2   2  -7 200]\n"
     ]
    }
   ],
   "source": [
    "a=np.array([1, 3, 5, 7, 0])\n",
    "b=np.ediff1d(a , to_begin=[0,0] , to_end=200)\n",
    "print(b)"
   ]
  },
  {
   "cell_type": "markdown",
   "id": "f5b5a9ec",
   "metadata": {},
   "source": [
    "### 89. Write a NumPy program to compute e^x, element-wise of a given array."
   ]
  },
  {
   "cell_type": "code",
   "execution_count": 99,
   "id": "3e707c16",
   "metadata": {},
   "outputs": [
    {
     "name": "stdout",
     "output_type": "stream",
     "text": [
      "[2.71828183e+00 2.00855369e+01 1.48413159e+02 1.09663316e+03\n",
      " 1.00000000e+00]\n"
     ]
    }
   ],
   "source": [
    "a=np.array([1, 3, 5, 7, 0])\n",
    "print(np.exp(a))"
   ]
  },
  {
   "cell_type": "markdown",
   "id": "92824010",
   "metadata": {},
   "source": [
    "### 90. Write a NumPy program to calculate exp(x) - 1 for all elements in a given array"
   ]
  },
  {
   "cell_type": "code",
   "execution_count": 100,
   "id": "344b9e09",
   "metadata": {},
   "outputs": [
    {
     "name": "stdout",
     "output_type": "stream",
     "text": [
      "[ 1.71828183  6.3890561  19.08553692 53.59815003]\n"
     ]
    }
   ],
   "source": [
    "a=np.array([1, 2 , 3 , 4])\n",
    "print(np.exp(a)-1)"
   ]
  },
  {
   "cell_type": "markdown",
   "id": "df6891c3",
   "metadata": {},
   "source": [
    "### 91. Write a NumPy program to calculate 2^p for all elements in a given array."
   ]
  },
  {
   "cell_type": "code",
   "execution_count": 101,
   "id": "11da3b9e",
   "metadata": {},
   "outputs": [
    {
     "name": "stdout",
     "output_type": "stream",
     "text": [
      "[ 2  4  8 16 64]\n"
     ]
    }
   ],
   "source": [
    "a=np.array([1, 2 , 3 , 4 , 6])\n",
    "print(2**a)"
   ]
  },
  {
   "cell_type": "markdown",
   "id": "d81272a3",
   "metadata": {},
   "source": [
    "### 92. Write a NumPy program to compute natural, base 10, and base 2 logarithms for all elements in a given array."
   ]
  },
  {
   "cell_type": "code",
   "execution_count": 102,
   "id": "ff114722",
   "metadata": {},
   "outputs": [
    {
     "name": "stdout",
     "output_type": "stream",
     "text": [
      "[0.         0.69314718 1.09861229 1.38629436 1.60943791]\n",
      "[0.         0.30103    0.47712125 0.60205999 0.69897   ]\n",
      "[0.         1.         1.5849625  2.         2.32192809]\n"
     ]
    }
   ],
   "source": [
    "a=np.array([1, 2 , 3 , 4 , 5])\n",
    "print(np.log(a))\n",
    "print(np.log10(a))\n",
    "print(np.log2(a))"
   ]
  },
  {
   "cell_type": "markdown",
   "id": "e3cab7f1",
   "metadata": {},
   "source": [
    "### 93. Write a NumPy program to check element-wise True/False of a given array where signbit is set."
   ]
  },
  {
   "cell_type": "code",
   "execution_count": 103,
   "id": "863dc760",
   "metadata": {},
   "outputs": [
    {
     "name": "stdout",
     "output_type": "stream",
     "text": [
      "[ True  True False False False False False False]\n"
     ]
    }
   ],
   "source": [
    "a=np.array([-4, -3, 0 ,1, 2 , 3 , 4 , 5])\n",
    "b=np.signbit(a)\n",
    "c=a < 0\n",
    "assert np.array_equiv(b,c)\n",
    "print(c)"
   ]
  },
  {
   "cell_type": "markdown",
   "id": "ac7ceec9",
   "metadata": {},
   "source": [
    "### 94. Write a NumPy program to change the sign of a given array to that of a given array, element-wise."
   ]
  },
  {
   "cell_type": "code",
   "execution_count": 104,
   "id": "4d07a05c",
   "metadata": {},
   "outputs": [
    {
     "name": "stdout",
     "output_type": "stream",
     "text": [
      "[-4. -3. -0. -1. -2. -3. -4. -5.]\n"
     ]
    }
   ],
   "source": [
    "a = np.array([-4, -3, 0 ,1, 2 , 3 , 4 , 5])\n",
    "b = -2.1\n",
    "print(np.copysign(a , b))"
   ]
  },
  {
   "cell_type": "markdown",
   "id": "12447426",
   "metadata": {},
   "source": [
    "### 95. Write a NumPy program to compute numerical negative value for all elements in a given array.\n",
    "\n"
   ]
  },
  {
   "cell_type": "code",
   "execution_count": 105,
   "id": "eaa73c61",
   "metadata": {},
   "outputs": [
    {
     "name": "stdout",
     "output_type": "stream",
     "text": [
      "[ 4  3  0 -1 -2 -3 -4 -5]\n"
     ]
    }
   ],
   "source": [
    "a = np.array([-4, -3, 0 ,1, 2 , 3 , 4 , 5])\n",
    "print(np.negative(a))"
   ]
  },
  {
   "cell_type": "markdown",
   "id": "c601d6be",
   "metadata": {},
   "source": [
    "### 96. Write a NumPy program to compute the reciprocal for all elements in a given array."
   ]
  },
  {
   "cell_type": "code",
   "execution_count": 106,
   "id": "6e1d3d1e",
   "metadata": {},
   "outputs": [
    {
     "name": "stdout",
     "output_type": "stream",
     "text": [
      "[1.  0.5 5.  2.5]\n"
     ]
    }
   ],
   "source": [
    "a = np.array([1.0 , 2.0 , 0.2 , 0.4])\n",
    "b = np.reciprocal(a)\n",
    "c = 1/a\n",
    "assert np.array_equal(b , c)\n",
    "print(c)"
   ]
  },
  {
   "cell_type": "markdown",
   "id": "95a15f29",
   "metadata": {},
   "source": [
    "### 97. Write a NumPy program to compute x^y, element-wise where x, y are two given arrays"
   ]
  },
  {
   "cell_type": "code",
   "execution_count": 107,
   "id": "e898df1d",
   "metadata": {},
   "outputs": [
    {
     "name": "stdout",
     "output_type": "stream",
     "text": [
      "[[1 2]\n",
      " [4 3]]\n",
      "\n",
      "[[2 2]\n",
      " [3 4]]\n",
      "\n",
      "[[ 1  4]\n",
      " [64 81]]\n"
     ]
    }
   ],
   "source": [
    "a=np.array([[1,2],[4,3]])\n",
    "print(a)\n",
    "print()\n",
    "b=np.array([[2,2],[3,4]])\n",
    "print(b)\n",
    "print()\n",
    "print(a**b)"
   ]
  },
  {
   "cell_type": "markdown",
   "id": "06eba4f9",
   "metadata": {},
   "source": [
    "### 98. Write a NumPy program to sort a given array of shape 2 along the first axis, last axis and on flattened array."
   ]
  },
  {
   "cell_type": "code",
   "execution_count": 108,
   "id": "bd8bbe11",
   "metadata": {},
   "outputs": [
    {
     "name": "stdout",
     "output_type": "stream",
     "text": [
      "[[1 4]\n",
      " [3 2]]\n",
      "\n",
      "[[1 2]\n",
      " [3 4]]\n",
      "\n",
      "[[1 4]\n",
      " [2 3]]\n",
      "\n",
      "[1 2 3 4]\n"
     ]
    }
   ],
   "source": [
    "a=np.array([[1,4],[3,2]])\n",
    "print(a)\n",
    "print()\n",
    "print(np.sort(a , axis=0))\n",
    "print()\n",
    "print(np.sort(a , axis=1))\n",
    "print()\n",
    "print(np.sort(a , axis =None))"
   ]
  },
  {
   "cell_type": "markdown",
   "id": "d0eb0900",
   "metadata": {},
   "source": [
    "### 99. Write a NumPy program to create a structured array from given student name, height, class and their data types. Now sort the array on height.\n",
    "\n"
   ]
  },
  {
   "cell_type": "code",
   "execution_count": 109,
   "id": "a95eb2e8",
   "metadata": {},
   "outputs": [
    {
     "name": "stdout",
     "output_type": "stream",
     "text": [
      "[(b'Pit', 5, 40.11) (b'Paul', 5, 42.1 ) (b'James', 5, 48.5 )\n",
      " (b'Nail', 6, 52.5 )]\n"
     ]
    }
   ],
   "source": [
    "data_type = [('name', 'S15'), ('class', int), ('height', float)]\n",
    "students_details = [('James', 5, 48.5), ('Nail', 6, 52.5),('Paul', 5, 42.10), ('Pit', 5, 40.11)]\n",
    "a=np.array(students_details , dtype = data_type)\n",
    "b=np.sort(a , order='height')\n",
    "print(b)"
   ]
  },
  {
   "cell_type": "markdown",
   "id": "e6151af3",
   "metadata": {},
   "source": [
    "### 100. Write a NumPy program to sort an given array by the nth column."
   ]
  },
  {
   "cell_type": "code",
   "execution_count": 110,
   "id": "8bc68e84",
   "metadata": {},
   "outputs": [
    {
     "name": "stdout",
     "output_type": "stream",
     "text": [
      "[[4 2]\n",
      " [1 3]]\n"
     ]
    }
   ],
   "source": [
    "a=np.array([[1,3],[4,2]])\n",
    "print(a[a[:,1].argsort()])"
   ]
  },
  {
   "cell_type": "markdown",
   "id": "cbd8845b",
   "metadata": {},
   "source": [
    "### 101. Write a NumPy program to sort the specified number of elements from beginning of a given array.\n",
    "\n"
   ]
  },
  {
   "cell_type": "code",
   "execution_count": 111,
   "id": "772f3eb8",
   "metadata": {},
   "outputs": [
    {
     "name": "stdout",
     "output_type": "stream",
     "text": [
      "[0.37559439 0.90887889 0.14122896 0.96788624 0.7770672  0.60779548\n",
      " 0.13139868 0.17517117 0.75836557 0.16478771]\n",
      "\n",
      "[0.13139868 0.14122896 0.16478771 0.17517117 0.37559439 0.60779548\n",
      " 0.7770672  0.96788624 0.75836557 0.90887889]\n"
     ]
    }
   ],
   "source": [
    "a=np.random.rand(10)\n",
    "print(a)\n",
    "print()\n",
    "print(a[np.argpartition(a , range(5))])    # 5-> number of elements to be sorted."
   ]
  },
  {
   "cell_type": "markdown",
   "id": "e86cb5e7",
   "metadata": {},
   "source": [
    "### 102. Write a NumPy program to partition a given array in a specified position and move all the smaller elements values to the left of the partition, and the remaining values to the right , in arbitrary order (based on random choice).\n",
    "\n"
   ]
  },
  {
   "cell_type": "code",
   "execution_count": 112,
   "id": "995c7a4d",
   "metadata": {},
   "outputs": [
    {
     "data": {
      "text/plain": [
       "array([-4,  1,  5, 20, 30, 31, 60, 40])"
      ]
     },
     "execution_count": 112,
     "metadata": {},
     "output_type": "execute_result"
    }
   ],
   "source": [
    "a=np.array([1 , 20 , 30 , 5 , -4 , 40, 60 ,31 ])  #first sort the array,then select the index of specific position,then perform np.partition()\n",
    "np.partition(a , 4)"
   ]
  },
  {
   "cell_type": "code",
   "execution_count": 113,
   "id": "69cb2a86",
   "metadata": {},
   "outputs": [
    {
     "name": "stdout",
     "output_type": "stream",
     "text": [
      "[-11  30  20   5  40  50  60  70]\n"
     ]
    }
   ],
   "source": [
    "nums = np.array([70, 5, 20, 30, -11, 60, 50, 40])\n",
    "print(np.partition(nums, 5))"
   ]
  },
  {
   "cell_type": "markdown",
   "id": "c0b8302b",
   "metadata": {},
   "source": [
    "### 103. Write a NumPy program to sort a given complex array using the real part first, then the imaginary part"
   ]
  },
  {
   "cell_type": "code",
   "execution_count": 114,
   "id": "8f7393cc",
   "metadata": {},
   "outputs": [
    {
     "data": {
      "text/plain": [
       "array([1.+2.j, 3.-2.j, 3.-1.j, 3.+5.j, 4.-3.j])"
      ]
     },
     "execution_count": 114,
     "metadata": {},
     "output_type": "execute_result"
    }
   ],
   "source": [
    "a=np.array([1 + 2j, 3 - 1j, 3 - 2j, 4 - 3j, 3 + 5j])\n",
    "np.sort_complex(a)"
   ]
  },
  {
   "cell_type": "markdown",
   "id": "dfa70fc5",
   "metadata": {},
   "source": [
    "### 104. Write a NumPy program to get the indices of the sorted elements of a given array."
   ]
  },
  {
   "cell_type": "code",
   "execution_count": 115,
   "id": "ee7fdf7c",
   "metadata": {},
   "outputs": [
    {
     "data": {
      "text/plain": [
       "array([4, 0, 3, 1, 2, 7, 5, 6], dtype=int64)"
      ]
     },
     "execution_count": 115,
     "metadata": {},
     "output_type": "execute_result"
    }
   ],
   "source": [
    "a=np.array([1 , 20 , 30 , 5 , -4 , 40, 60 ,31 ])\n",
    "np.argsort(a)"
   ]
  },
  {
   "cell_type": "markdown",
   "id": "4ac64b26",
   "metadata": {},
   "source": [
    "### 105. Write a NumPy program to sort the student id with increasing height of the students from given students id and height. Print the integer indices that describes the sort order by multiple columns and the sorted data."
   ]
  },
  {
   "cell_type": "code",
   "execution_count": 116,
   "id": "630162ce",
   "metadata": {},
   "outputs": [
    {
     "name": "stdout",
     "output_type": "stream",
     "text": [
      "[4 0 5 3 6 1 2]\n",
      "1682 38.0\n",
      "1023 40.0\n",
      "5241 40.0\n",
      "1671 41.0\n",
      "4532 42.0\n",
      "5202 42.0\n",
      "6230 45.0\n"
     ]
    }
   ],
   "source": [
    "ids = np.array([1023, 5202, 6230, 1671, 1682, 5241, 4532])\n",
    "height = np.array([40., 42., 45., 41., 38., 40., 42.0])\n",
    "indices=np.lexsort((ids , height))\n",
    "print(indices)\n",
    "for i in indices:\n",
    "    print(ids[i] , height[i])"
   ]
  },
  {
   "cell_type": "markdown",
   "id": "c2fd48ee",
   "metadata": {},
   "source": [
    "### 106. Write a NumPy program to generate five random numbers from the normal distribution."
   ]
  },
  {
   "cell_type": "code",
   "execution_count": 117,
   "id": "8bccd877",
   "metadata": {},
   "outputs": [
    {
     "data": {
      "text/plain": [
       "array([-0.41229351,  0.77593116,  1.35497472, -0.54058351, -0.78234529])"
      ]
     },
     "execution_count": 117,
     "metadata": {},
     "output_type": "execute_result"
    }
   ],
   "source": [
    "np.random.normal(size = 5)"
   ]
  },
  {
   "cell_type": "markdown",
   "id": "fade0b4d",
   "metadata": {},
   "source": [
    "### 107. Write a NumPy program to generate six random integers between 10 and 30."
   ]
  },
  {
   "cell_type": "code",
   "execution_count": 118,
   "id": "62c9775f",
   "metadata": {},
   "outputs": [
    {
     "data": {
      "text/plain": [
       "array([22, 23, 19, 14, 28, 25])"
      ]
     },
     "execution_count": 118,
     "metadata": {},
     "output_type": "execute_result"
    }
   ],
   "source": [
    "np.random.randint(low = 10 , high = 30 , size = 6)"
   ]
  },
  {
   "cell_type": "markdown",
   "id": "44037963",
   "metadata": {},
   "source": [
    "### 108. Write a NumPy program to create a 3x3x3 array with random values."
   ]
  },
  {
   "cell_type": "code",
   "execution_count": 119,
   "id": "49454efc",
   "metadata": {},
   "outputs": [
    {
     "data": {
      "text/plain": [
       "array([[[0.45711057, 0.34589147, 0.9471594 ],\n",
       "        [0.85796316, 0.0897076 , 0.64722998],\n",
       "        [0.98810277, 0.86108451, 0.85434449]],\n",
       "\n",
       "       [[0.27251933, 0.86356721, 0.51517678],\n",
       "        [0.59195886, 0.17388205, 0.63515255],\n",
       "        [0.44233124, 0.43808216, 0.39213525]],\n",
       "\n",
       "       [[0.18664026, 0.39047689, 0.93561346],\n",
       "        [0.65741268, 0.28085345, 0.56823291],\n",
       "        [0.26631383, 0.26031487, 0.68959727]]])"
      ]
     },
     "execution_count": 119,
     "metadata": {},
     "output_type": "execute_result"
    }
   ],
   "source": [
    "np.random.rand(3,3,3)"
   ]
  },
  {
   "cell_type": "markdown",
   "id": "fa55f576",
   "metadata": {},
   "source": [
    "### 109. Write a NumPy program to create a 5x5 array with random values and find the minimum and maximum values."
   ]
  },
  {
   "cell_type": "code",
   "execution_count": 120,
   "id": "52882731",
   "metadata": {},
   "outputs": [
    {
     "name": "stdout",
     "output_type": "stream",
     "text": [
      "[[0.65931515 0.55976167 0.26553322 0.73763154 0.79589576]\n",
      " [0.09328358 0.15438563 0.91438495 0.68272168 0.17389721]\n",
      " [0.44522156 0.54478967 0.99184939 0.9231757  0.62804825]\n",
      " [0.64860732 0.59291532 0.83934535 0.90400826 0.44762696]\n",
      " [0.30146674 0.11062052 0.31263334 0.03832792 0.42039252]]\n",
      "Maximum: 0.991849390578653\n",
      "Minimun: 0.03832791550388892\n"
     ]
    }
   ],
   "source": [
    "a=np.random.rand(5,5)\n",
    "print(a)\n",
    "print('Maximum:',np.max(a))\n",
    "print('Minimun:',np.min(a))"
   ]
  },
  {
   "cell_type": "markdown",
   "id": "aae890df",
   "metadata": {},
   "source": [
    "### 110. Write a NumPy program to create a random 10x4 array and extract the first five rows of the array and store them into a variable."
   ]
  },
  {
   "cell_type": "code",
   "execution_count": 121,
   "id": "6fd9e541",
   "metadata": {},
   "outputs": [
    {
     "name": "stdout",
     "output_type": "stream",
     "text": [
      "[[0.87867169 0.65276085 0.98648305 0.983974  ]\n",
      " [0.75453798 0.87262663 0.04631584 0.45283524]\n",
      " [0.75205558 0.83546905 0.46585299 0.59682932]\n",
      " [0.75091716 0.44831015 0.37904603 0.78556383]\n",
      " [0.90902019 0.2749382  0.7610326  0.65077776]\n",
      " [0.50042693 0.55182356 0.62308025 0.62888236]\n",
      " [0.8634138  0.02854153 0.98989178 0.146241  ]\n",
      " [0.80368178 0.66461384 0.86584718 0.90762831]\n",
      " [0.91928457 0.65132841 0.58399117 0.80749712]\n",
      " [0.90447913 0.70610983 0.28106291 0.31625825]]\n",
      "\n",
      "\n",
      "[[0.87867169 0.65276085 0.98648305 0.983974  ]\n",
      " [0.75453798 0.87262663 0.04631584 0.45283524]\n",
      " [0.75205558 0.83546905 0.46585299 0.59682932]\n",
      " [0.75091716 0.44831015 0.37904603 0.78556383]\n",
      " [0.90902019 0.2749382  0.7610326  0.65077776]]\n"
     ]
    }
   ],
   "source": [
    "a=np.random.rand(10,4)\n",
    "print(a)\n",
    "print()\n",
    "print()\n",
    "b=a[0:5,0:5]\n",
    "print(b)"
   ]
  },
  {
   "cell_type": "markdown",
   "id": "0c0d044a",
   "metadata": {},
   "source": [
    "### 111. Write a NumPy program to shuffle numbers between 0 and 10 (inclusive)."
   ]
  },
  {
   "cell_type": "code",
   "execution_count": 122,
   "id": "eb342713",
   "metadata": {},
   "outputs": [
    {
     "name": "stdout",
     "output_type": "stream",
     "text": [
      "[ 0  1  2  3  4  5  6  7  8  9 10]\n",
      "[ 7 10  5  2  3  0  1  4  6  8  9]\n"
     ]
    }
   ],
   "source": [
    "a=np.arange(11)\n",
    "print(a)\n",
    "np.random.shuffle(a)\n",
    "print(a)"
   ]
  },
  {
   "cell_type": "markdown",
   "id": "2ed3f931",
   "metadata": {},
   "source": [
    "### 112. Write a NumPy program to find the nearest value from a given value in an array."
   ]
  },
  {
   "cell_type": "code",
   "execution_count": 123,
   "id": "78144e1f",
   "metadata": {},
   "outputs": [
    {
     "name": "stdout",
     "output_type": "stream",
     "text": [
      "[6.66864201 7.99477327 3.51229291 6.47580642 9.52331191]\n",
      "\n",
      "3.51229291126086\n"
     ]
    }
   ],
   "source": [
    "a=np.random.uniform(1,12,5)   # 1->low , 12->high , 5->no. of elements\n",
    "print(a)\n",
    "print()\n",
    "n=4\n",
    "b=a.flat[np.abs(a-n).argmin()]\n",
    "print(b)"
   ]
  },
  {
   "cell_type": "code",
   "execution_count": 124,
   "id": "01b6c996",
   "metadata": {},
   "outputs": [
    {
     "data": {
      "text/plain": [
       "array([[[0.11666458, 0.50668798, 0.37311623, 0.61791855, 0.3546753 ],\n",
       "        [0.33073724, 0.49995387, 0.9354365 , 0.71324421, 0.46915921],\n",
       "        [0.20150199, 0.05745982, 0.88099292, 0.93499081, 0.43454154]]])"
      ]
     },
     "execution_count": 124,
     "metadata": {},
     "output_type": "execute_result"
    }
   ],
   "source": [
    "np.random.rand(1,3,5)        #creates matrix of specified dimensions"
   ]
  },
  {
   "cell_type": "markdown",
   "id": "9b45a0fd",
   "metadata": {},
   "source": [
    "### 113. Write a NumPy program to check two random arrays are equal or not."
   ]
  },
  {
   "cell_type": "code",
   "execution_count": 125,
   "id": "2643d935",
   "metadata": {},
   "outputs": [
    {
     "name": "stdout",
     "output_type": "stream",
     "text": [
      "[1 0 0 0 0 0]\n",
      "\n",
      "[0 0 1 1 0 0]\n",
      "\n"
     ]
    },
    {
     "data": {
      "text/plain": [
       "False"
      ]
     },
     "execution_count": 125,
     "metadata": {},
     "output_type": "execute_result"
    }
   ],
   "source": [
    "a=np.random.randint(0,2,6)\n",
    "print(a)\n",
    "print()\n",
    "b=np.random.randint(0,2,6)\n",
    "print(b)\n",
    "print()\n",
    "np.allclose(a,b)"
   ]
  },
  {
   "cell_type": "markdown",
   "id": "f464a488",
   "metadata": {},
   "source": [
    "### 114. Write a NumPy program to create random vector of size 15 and replace the maximum value by -1.\n",
    "\n"
   ]
  },
  {
   "cell_type": "code",
   "execution_count": 126,
   "id": "e0fca299",
   "metadata": {},
   "outputs": [
    {
     "name": "stdout",
     "output_type": "stream",
     "text": [
      "[0.33728484 0.63156403 0.8406541  0.57367575 0.37684275 0.76203112\n",
      " 0.68949338 0.14186978 0.91108943 0.72984643 0.10057111 0.25485387\n",
      " 0.82982429 0.3418398  0.24849938]\n",
      "\n",
      "Maximum value: 0.911089427323247\n",
      "\n",
      "[ 0.33728484  0.63156403  0.8406541   0.57367575  0.37684275  0.76203112\n",
      "  0.68949338  0.14186978 -1.          0.72984643  0.10057111  0.25485387\n",
      "  0.82982429  0.3418398   0.24849938]\n"
     ]
    }
   ],
   "source": [
    "a=np.random.rand(15)\n",
    "print(a)\n",
    "print()\n",
    "b=np.max(a)\n",
    "print('Maximum value:',b)\n",
    "print()\n",
    "a[np.argmax(a)]=-1\n",
    "print(a)"
   ]
  },
  {
   "cell_type": "markdown",
   "id": "171faa54",
   "metadata": {},
   "source": [
    "### 115. Write a NumPy program to find the most frequent value in an array.\n",
    "\n"
   ]
  },
  {
   "cell_type": "code",
   "execution_count": 127,
   "id": "970aa571",
   "metadata": {},
   "outputs": [
    {
     "name": "stdout",
     "output_type": "stream",
     "text": [
      "[5 5 1 5 2 3 5 2 1 3 2 4 5 5 4 3 5 2 3 3]\n"
     ]
    },
    {
     "data": {
      "text/plain": [
       "5"
      ]
     },
     "execution_count": 127,
     "metadata": {},
     "output_type": "execute_result"
    }
   ],
   "source": [
    "a=np.random.randint(1,6,20)\n",
    "print(a)\n",
    "np.bincount(a).argmax()"
   ]
  },
  {
   "cell_type": "markdown",
   "id": "7b68fc7d",
   "metadata": {},
   "source": [
    "### 116. Write a NumPy program to find the closest value (to a given scalar) in an array.\n",
    "\n"
   ]
  },
  {
   "cell_type": "code",
   "execution_count": 128,
   "id": "3a5d71a1",
   "metadata": {},
   "outputs": [
    {
     "name": "stdout",
     "output_type": "stream",
     "text": [
      "[ 0  1  2  3  4  5  6  7  8  9 10 11 12 13 14 15 16 17 18 19 20 21 22 23\n",
      " 24 25 26 27 28 29 30 31 32 33 34 35 36 37 38 39 40 41 42 43 44 45 46 47\n",
      " 48 49]\n",
      "\n",
      "1.9145742123554688\n",
      "\n",
      "Closest value: 2\n"
     ]
    }
   ],
   "source": [
    "a=np.arange(50)\n",
    "print(a)\n",
    "print()\n",
    "b=np.random.uniform(0,50)\n",
    "print(b)\n",
    "print()\n",
    "c=(np.abs(a-b)).argmin()\n",
    "print('Closest value:',c)"
   ]
  },
  {
   "cell_type": "markdown",
   "id": "23c560c9",
   "metadata": {},
   "source": [
    "### 117. Write a NumPy program to create a three-dimension array with shape (300,400,5) and set to a variable. Fill the array elements with values using unsigned integer (0 to 255).\n",
    "\n"
   ]
  },
  {
   "cell_type": "code",
   "execution_count": 129,
   "id": "0006e6ea",
   "metadata": {},
   "outputs": [
    {
     "name": "stdout",
     "output_type": "stream",
     "text": [
      "[[[215  42 224 219  43]\n",
      "  [166  69  15 133 255]\n",
      "  [105  95  54  37 201]\n",
      "  ...\n",
      "  [240  22  66 232 132]\n",
      "  [ 13  85  53 220 170]\n",
      "  [249  62 221 146  69]]\n",
      "\n",
      " [[ 73  79 148 132 164]\n",
      "  [  3  93  98 138 200]\n",
      "  [174  34  31 208 130]\n",
      "  ...\n",
      "  [ 15 252  41  64  39]\n",
      "  [188 216 223 124  27]\n",
      "  [ 85 112 240 116 231]]\n",
      "\n",
      " [[227  50 243  20 171]\n",
      "  [ 12  66 108 102  63]\n",
      "  [107  54   0   0 173]\n",
      "  ...\n",
      "  [215  46  57  99 151]\n",
      "  [243 199  31  28 179]\n",
      "  [143   7  30 175 190]]\n",
      "\n",
      " ...\n",
      "\n",
      " [[214  64  64 212  62]\n",
      "  [140  44 217  17 164]\n",
      "  [226 146 247  53 199]\n",
      "  ...\n",
      "  [189  68  49 117  63]\n",
      "  [ 14  17 109  82  92]\n",
      "  [155 221 135 184 231]]\n",
      "\n",
      " [[132 194 160 136 102]\n",
      "  [132 244 230 117 181]\n",
      "  [146 245  21 164  29]\n",
      "  ...\n",
      "  [125 240 243 190 240]\n",
      "  [137  41 157 117 155]\n",
      "  [ 20  92  72 182  41]]\n",
      "\n",
      " [[120  45 198 218 190]\n",
      "  [ 42 150 190 103 106]\n",
      "  [164  71 220 114  59]\n",
      "  ...\n",
      "  [143  20 219 154  85]\n",
      "  [219 190 170 227 246]\n",
      "  [ 39  14 127 230 158]]]\n"
     ]
    }
   ],
   "source": [
    "np.random.seed(32)  # Seed function is used to save the state of a random function, \n",
    "                    # so that it can generate same random numbers on multiple executions of the code.\n",
    "                    # The seed value is the previous value number generated by the generator. \n",
    "                    # For the first time when there is no previous value, it uses current system time.\n",
    "a=np.random.randint(low=0 , high=256 , size=(300,400,5), dtype=np.uint8)\n",
    "print(a)"
   ]
  },
  {
   "cell_type": "markdown",
   "id": "2f468044",
   "metadata": {},
   "source": [
    "### 118. Write a NumPy program to compute the sum of the diagonal element of a given array.\n",
    "\n"
   ]
  },
  {
   "cell_type": "code",
   "execution_count": 130,
   "id": "64e11db3",
   "metadata": {},
   "outputs": [
    {
     "name": "stdout",
     "output_type": "stream",
     "text": [
      "[[8 4 7]\n",
      " [7 4 3]\n",
      " [3 2 5]]\n",
      "\n",
      "Sum of the diagonal element: 17\n"
     ]
    }
   ],
   "source": [
    "a=np.random.randint(10,size=(3,3))\n",
    "print(a)\n",
    "print()\n",
    "print('Sum of the diagonal element:',np.trace(a))"
   ]
  },
  {
   "cell_type": "markdown",
   "id": "11f7e1d5",
   "metadata": {},
   "source": [
    "### 119.  Write a NumPy program to concatenate two 2-dimensional arrays"
   ]
  },
  {
   "cell_type": "code",
   "execution_count": 131,
   "id": "5e7bd28f",
   "metadata": {},
   "outputs": [
    {
     "data": {
      "text/plain": [
       "array([[ 0,  1,  3,  0,  2,  4],\n",
       "       [ 5,  7,  9,  6,  8, 10]])"
      ]
     },
     "execution_count": 131,
     "metadata": {},
     "output_type": "execute_result"
    }
   ],
   "source": [
    "a = np.array([[0, 1, 3], [5, 7, 9]])\n",
    "b = np.array([[0, 2, 4], [6, 8, 10]])\n",
    "c=np.concatenate((a,b),axis=1)\n",
    "c"
   ]
  },
  {
   "cell_type": "markdown",
   "id": "99ea0de3",
   "metadata": {},
   "source": [
    "### 120. Write a NumPy program to convert 1-D arrays as columns into a 2-D array."
   ]
  },
  {
   "cell_type": "code",
   "execution_count": 132,
   "id": "9fb3a687",
   "metadata": {},
   "outputs": [
    {
     "data": {
      "text/plain": [
       "array([[10, 40],\n",
       "       [20, 50],\n",
       "       [30, 60]])"
      ]
     },
     "execution_count": 132,
     "metadata": {},
     "output_type": "execute_result"
    }
   ],
   "source": [
    "a=np.array([10 , 20 , 30])\n",
    "b=np.array([40 , 50 , 60])\n",
    "c=np.column_stack((a , b))\n",
    "c"
   ]
  },
  {
   "cell_type": "markdown",
   "id": "f63062d2",
   "metadata": {},
   "source": [
    "### 121. Write a NumPy program to convert (in sequence depth wise (along third axis)) two 1-D arrays into a 2-D array.\n"
   ]
  },
  {
   "cell_type": "code",
   "execution_count": 133,
   "id": "6e9ef986",
   "metadata": {},
   "outputs": [
    {
     "data": {
      "text/plain": [
       "array([[[10, 40]],\n",
       "\n",
       "       [[20, 50]],\n",
       "\n",
       "       [[30, 60]]])"
      ]
     },
     "execution_count": 133,
     "metadata": {},
     "output_type": "execute_result"
    }
   ],
   "source": [
    "a = np.array([[10],[20],[30]])\n",
    "b = np.array([[40],[50],[60]])\n",
    "np.dstack((a , b))"
   ]
  },
  {
   "cell_type": "markdown",
   "id": "43d8516e",
   "metadata": {},
   "source": [
    "### 122. Write a Numpy program to split an array of 14 elements into 3 arrays, each of which has 2, 4, and 8 elements in the original order.\n"
   ]
  },
  {
   "cell_type": "code",
   "execution_count": 134,
   "id": "30a991b6",
   "metadata": {},
   "outputs": [
    {
     "data": {
      "text/plain": [
       "[array([1, 2]), array([3, 4, 5, 6]), array([ 7,  8,  9, 10, 11, 12, 13, 14])]"
      ]
     },
     "execution_count": 134,
     "metadata": {},
     "output_type": "execute_result"
    }
   ],
   "source": [
    "a=np.arange(1,15)\n",
    "np.split(a,[2,6])"
   ]
  },
  {
   "cell_type": "markdown",
   "id": "ac4b35a6",
   "metadata": {},
   "source": [
    "### 123. Write a NumPy program to create an array of 4,5 shape and swap column1 with column4."
   ]
  },
  {
   "cell_type": "code",
   "execution_count": 135,
   "id": "cd9332a0",
   "metadata": {},
   "outputs": [
    {
     "name": "stdout",
     "output_type": "stream",
     "text": [
      "[[ 0  1  2  3]\n",
      " [ 4  5  6  7]\n",
      " [ 8  9 10 11]\n",
      " [12 13 14 15]]\n",
      "[[ 3  1  2  0]\n",
      " [ 7  5  6  4]\n",
      " [11  9 10  8]\n",
      " [15 13 14 12]]\n"
     ]
    }
   ],
   "source": [
    "a=np.arange(16).reshape(4,4)\n",
    "print(a)\n",
    "\n",
    "# a[: , ::-1]      # swap column 1 and 4 , 2 and 3\n",
    "\n",
    "a[: , [0,3]] = a[: , [3,0]]    #swap column 1 and 4\n",
    "print(a)"
   ]
  }
 ],
 "metadata": {
  "kernelspec": {
   "display_name": "Python 3",
   "language": "python",
   "name": "python3"
  },
  "language_info": {
   "codemirror_mode": {
    "name": "ipython",
    "version": 3
   },
   "file_extension": ".py",
   "mimetype": "text/x-python",
   "name": "python",
   "nbconvert_exporter": "python",
   "pygments_lexer": "ipython3",
   "version": "3.8.8"
  }
 },
 "nbformat": 4,
 "nbformat_minor": 5
}
