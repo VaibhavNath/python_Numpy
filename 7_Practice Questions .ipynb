{
 "cells": [
  {
   "cell_type": "markdown",
   "id": "d05369ec",
   "metadata": {},
   "source": [
    "### 1. Write a NumPy program to get the numpy version and show numpy build configuration."
   ]
  },
  {
   "cell_type": "code",
   "execution_count": 1,
   "id": "3cf62a49",
   "metadata": {},
   "outputs": [
    {
     "name": "stdout",
     "output_type": "stream",
     "text": [
      "1.20.1\n",
      "blas_mkl_info:\n",
      "    libraries = ['mkl_rt']\n",
      "    library_dirs = ['C:/Users/ACER/anaconda3\\\\Library\\\\lib']\n",
      "    define_macros = [('SCIPY_MKL_H', None), ('HAVE_CBLAS', None)]\n",
      "    include_dirs = ['C:/Users/ACER/anaconda3\\\\Library\\\\include']\n",
      "blas_opt_info:\n",
      "    libraries = ['mkl_rt']\n",
      "    library_dirs = ['C:/Users/ACER/anaconda3\\\\Library\\\\lib']\n",
      "    define_macros = [('SCIPY_MKL_H', None), ('HAVE_CBLAS', None)]\n",
      "    include_dirs = ['C:/Users/ACER/anaconda3\\\\Library\\\\include']\n",
      "lapack_mkl_info:\n",
      "    libraries = ['mkl_rt']\n",
      "    library_dirs = ['C:/Users/ACER/anaconda3\\\\Library\\\\lib']\n",
      "    define_macros = [('SCIPY_MKL_H', None), ('HAVE_CBLAS', None)]\n",
      "    include_dirs = ['C:/Users/ACER/anaconda3\\\\Library\\\\include']\n",
      "lapack_opt_info:\n",
      "    libraries = ['mkl_rt']\n",
      "    library_dirs = ['C:/Users/ACER/anaconda3\\\\Library\\\\lib']\n",
      "    define_macros = [('SCIPY_MKL_H', None), ('HAVE_CBLAS', None)]\n",
      "    include_dirs = ['C:/Users/ACER/anaconda3\\\\Library\\\\include']\n",
      "None\n"
     ]
    }
   ],
   "source": [
    "import numpy as np\n",
    "print(np.__version__)\n",
    "print(np.show_config())"
   ]
  },
  {
   "cell_type": "markdown",
   "id": "55b1801b",
   "metadata": {},
   "source": [
    "### 2. Write a NumPy program to  get help on the add function"
   ]
  },
  {
   "cell_type": "code",
   "execution_count": 8,
   "id": "e209b7e5",
   "metadata": {},
   "outputs": [
    {
     "name": "stdout",
     "output_type": "stream",
     "text": [
      "Help on ufunc object:\n",
      "\n",
      "add = class ufunc(builtins.object)\n",
      " |  Functions that operate element by element on whole arrays.\n",
      " |  \n",
      " |  To see the documentation for a specific ufunc, use `info`.  For\n",
      " |  example, ``np.info(np.sin)``.  Because ufuncs are written in C\n",
      " |  (for speed) and linked into Python with NumPy's ufunc facility,\n",
      " |  Python's help() function finds this page whenever help() is called\n",
      " |  on a ufunc.\n",
      " |  \n",
      " |  A detailed explanation of ufuncs can be found in the docs for :ref:`ufuncs`.\n",
      " |  \n",
      " |  **Calling ufuncs:** ``op(*x[, out], where=True, **kwargs)``\n",
      " |  \n",
      " |  Apply `op` to the arguments `*x` elementwise, broadcasting the arguments.\n",
      " |  \n",
      " |  The broadcasting rules are:\n",
      " |  \n",
      " |  * Dimensions of length 1 may be prepended to either array.\n",
      " |  * Arrays may be repeated along dimensions of length 1.\n",
      " |  \n",
      " |  Parameters\n",
      " |  ----------\n",
      " |  *x : array_like\n",
      " |      Input arrays.\n",
      " |  out : ndarray, None, or tuple of ndarray and None, optional\n",
      " |      Alternate array object(s) in which to put the result; if provided, it\n",
      " |      must have a shape that the inputs broadcast to. A tuple of arrays\n",
      " |      (possible only as a keyword argument) must have length equal to the\n",
      " |      number of outputs; use None for uninitialized outputs to be\n",
      " |      allocated by the ufunc.\n",
      " |  where : array_like, optional\n",
      " |      This condition is broadcast over the input. At locations where the\n",
      " |      condition is True, the `out` array will be set to the ufunc result.\n",
      " |      Elsewhere, the `out` array will retain its original value.\n",
      " |      Note that if an uninitialized `out` array is created via the default\n",
      " |      ``out=None``, locations within it where the condition is False will\n",
      " |      remain uninitialized.\n",
      " |  **kwargs\n",
      " |      For other keyword-only arguments, see the :ref:`ufunc docs <ufuncs.kwargs>`.\n",
      " |  \n",
      " |  Returns\n",
      " |  -------\n",
      " |  r : ndarray or tuple of ndarray\n",
      " |      `r` will have the shape that the arrays in `x` broadcast to; if `out` is\n",
      " |      provided, it will be returned. If not, `r` will be allocated and\n",
      " |      may contain uninitialized values. If the function has more than one\n",
      " |      output, then the result will be a tuple of arrays.\n",
      " |  \n",
      " |  Methods defined here:\n",
      " |  \n",
      " |  __call__(self, /, *args, **kwargs)\n",
      " |      Call self as a function.\n",
      " |  \n",
      " |  __repr__(self, /)\n",
      " |      Return repr(self).\n",
      " |  \n",
      " |  __str__(self, /)\n",
      " |      Return str(self).\n",
      " |  \n",
      " |  accumulate(...)\n",
      " |      accumulate(array, axis=0, dtype=None, out=None)\n",
      " |      \n",
      " |      Accumulate the result of applying the operator to all elements.\n",
      " |      \n",
      " |      For a one-dimensional array, accumulate produces results equivalent to::\n",
      " |      \n",
      " |        r = np.empty(len(A))\n",
      " |        t = op.identity        # op = the ufunc being applied to A's  elements\n",
      " |        for i in range(len(A)):\n",
      " |            t = op(t, A[i])\n",
      " |            r[i] = t\n",
      " |        return r\n",
      " |      \n",
      " |      For example, add.accumulate() is equivalent to np.cumsum().\n",
      " |      \n",
      " |      For a multi-dimensional array, accumulate is applied along only one\n",
      " |      axis (axis zero by default; see Examples below) so repeated use is\n",
      " |      necessary if one wants to accumulate over multiple axes.\n",
      " |      \n",
      " |      Parameters\n",
      " |      ----------\n",
      " |      array : array_like\n",
      " |          The array to act on.\n",
      " |      axis : int, optional\n",
      " |          The axis along which to apply the accumulation; default is zero.\n",
      " |      dtype : data-type code, optional\n",
      " |          The data-type used to represent the intermediate results. Defaults\n",
      " |          to the data-type of the output array if such is provided, or the\n",
      " |          the data-type of the input array if no output array is provided.\n",
      " |      out : ndarray, None, or tuple of ndarray and None, optional\n",
      " |          A location into which the result is stored. If not provided or None,\n",
      " |          a freshly-allocated array is returned. For consistency with\n",
      " |          ``ufunc.__call__``, if given as a keyword, this may be wrapped in a\n",
      " |          1-element tuple.\n",
      " |      \n",
      " |          .. versionchanged:: 1.13.0\n",
      " |             Tuples are allowed for keyword argument.\n",
      " |      \n",
      " |      Returns\n",
      " |      -------\n",
      " |      r : ndarray\n",
      " |          The accumulated values. If `out` was supplied, `r` is a reference to\n",
      " |          `out`.\n",
      " |      \n",
      " |      Examples\n",
      " |      --------\n",
      " |      1-D array examples:\n",
      " |      \n",
      " |      >>> np.add.accumulate([2, 3, 5])\n",
      " |      array([ 2,  5, 10])\n",
      " |      >>> np.multiply.accumulate([2, 3, 5])\n",
      " |      array([ 2,  6, 30])\n",
      " |      \n",
      " |      2-D array examples:\n",
      " |      \n",
      " |      >>> I = np.eye(2)\n",
      " |      >>> I\n",
      " |      array([[1.,  0.],\n",
      " |             [0.,  1.]])\n",
      " |      \n",
      " |      Accumulate along axis 0 (rows), down columns:\n",
      " |      \n",
      " |      >>> np.add.accumulate(I, 0)\n",
      " |      array([[1.,  0.],\n",
      " |             [1.,  1.]])\n",
      " |      >>> np.add.accumulate(I) # no axis specified = axis zero\n",
      " |      array([[1.,  0.],\n",
      " |             [1.,  1.]])\n",
      " |      \n",
      " |      Accumulate along axis 1 (columns), through rows:\n",
      " |      \n",
      " |      >>> np.add.accumulate(I, 1)\n",
      " |      array([[1.,  1.],\n",
      " |             [0.,  1.]])\n",
      " |  \n",
      " |  at(...)\n",
      " |      at(a, indices, b=None, /)\n",
      " |      \n",
      " |      Performs unbuffered in place operation on operand 'a' for elements\n",
      " |      specified by 'indices'. For addition ufunc, this method is equivalent to\n",
      " |      ``a[indices] += b``, except that results are accumulated for elements that\n",
      " |      are indexed more than once. For example, ``a[[0,0]] += 1`` will only\n",
      " |      increment the first element once because of buffering, whereas\n",
      " |      ``add.at(a, [0,0], 1)`` will increment the first element twice.\n",
      " |      \n",
      " |      .. versionadded:: 1.8.0\n",
      " |      \n",
      " |      Parameters\n",
      " |      ----------\n",
      " |      a : array_like\n",
      " |          The array to perform in place operation on.\n",
      " |      indices : array_like or tuple\n",
      " |          Array like index object or slice object for indexing into first\n",
      " |          operand. If first operand has multiple dimensions, indices can be a\n",
      " |          tuple of array like index objects or slice objects.\n",
      " |      b : array_like\n",
      " |          Second operand for ufuncs requiring two operands. Operand must be\n",
      " |          broadcastable over first operand after indexing or slicing.\n",
      " |      \n",
      " |      Examples\n",
      " |      --------\n",
      " |      Set items 0 and 1 to their negative values:\n",
      " |      \n",
      " |      >>> a = np.array([1, 2, 3, 4])\n",
      " |      >>> np.negative.at(a, [0, 1])\n",
      " |      >>> a\n",
      " |      array([-1, -2,  3,  4])\n",
      " |      \n",
      " |      Increment items 0 and 1, and increment item 2 twice:\n",
      " |      \n",
      " |      >>> a = np.array([1, 2, 3, 4])\n",
      " |      >>> np.add.at(a, [0, 1, 2, 2], 1)\n",
      " |      >>> a\n",
      " |      array([2, 3, 5, 4])\n",
      " |      \n",
      " |      Add items 0 and 1 in first array to second array,\n",
      " |      and store results in first array:\n",
      " |      \n",
      " |      >>> a = np.array([1, 2, 3, 4])\n",
      " |      >>> b = np.array([1, 2])\n",
      " |      >>> np.add.at(a, [0, 1], b)\n",
      " |      >>> a\n",
      " |      array([2, 4, 3, 4])\n",
      " |  \n",
      " |  outer(...)\n",
      " |      outer(A, B, /, **kwargs)\n",
      " |      \n",
      " |      Apply the ufunc `op` to all pairs (a, b) with a in `A` and b in `B`.\n",
      " |      \n",
      " |      Let ``M = A.ndim``, ``N = B.ndim``. Then the result, `C`, of\n",
      " |      ``op.outer(A, B)`` is an array of dimension M + N such that:\n",
      " |      \n",
      " |      .. math:: C[i_0, ..., i_{M-1}, j_0, ..., j_{N-1}] =\n",
      " |         op(A[i_0, ..., i_{M-1}], B[j_0, ..., j_{N-1}])\n",
      " |      \n",
      " |      For `A` and `B` one-dimensional, this is equivalent to::\n",
      " |      \n",
      " |        r = empty(len(A),len(B))\n",
      " |        for i in range(len(A)):\n",
      " |            for j in range(len(B)):\n",
      " |                r[i,j] = op(A[i], B[j]) # op = ufunc in question\n",
      " |      \n",
      " |      Parameters\n",
      " |      ----------\n",
      " |      A : array_like\n",
      " |          First array\n",
      " |      B : array_like\n",
      " |          Second array\n",
      " |      kwargs : any\n",
      " |          Arguments to pass on to the ufunc. Typically `dtype` or `out`.\n",
      " |      \n",
      " |      Returns\n",
      " |      -------\n",
      " |      r : ndarray\n",
      " |          Output array\n",
      " |      \n",
      " |      See Also\n",
      " |      --------\n",
      " |      numpy.outer : A less powerful version of ``np.multiply.outer``\n",
      " |                    that `ravel`\\ s all inputs to 1D. This exists\n",
      " |                    primarily for compatibility with old code.\n",
      " |      \n",
      " |      tensordot : ``np.tensordot(a, b, axes=((), ()))`` and\n",
      " |                  ``np.multiply.outer(a, b)`` behave same for all\n",
      " |                  dimensions of a and b.\n",
      " |      \n",
      " |      Examples\n",
      " |      --------\n",
      " |      >>> np.multiply.outer([1, 2, 3], [4, 5, 6])\n",
      " |      array([[ 4,  5,  6],\n",
      " |             [ 8, 10, 12],\n",
      " |             [12, 15, 18]])\n",
      " |      \n",
      " |      A multi-dimensional example:\n",
      " |      \n",
      " |      >>> A = np.array([[1, 2, 3], [4, 5, 6]])\n",
      " |      >>> A.shape\n",
      " |      (2, 3)\n",
      " |      >>> B = np.array([[1, 2, 3, 4]])\n",
      " |      >>> B.shape\n",
      " |      (1, 4)\n",
      " |      >>> C = np.multiply.outer(A, B)\n",
      " |      >>> C.shape; C\n",
      " |      (2, 3, 1, 4)\n",
      " |      array([[[[ 1,  2,  3,  4]],\n",
      " |              [[ 2,  4,  6,  8]],\n",
      " |              [[ 3,  6,  9, 12]]],\n",
      " |             [[[ 4,  8, 12, 16]],\n",
      " |              [[ 5, 10, 15, 20]],\n",
      " |              [[ 6, 12, 18, 24]]]])\n",
      " |  \n",
      " |  reduce(...)\n",
      " |      reduce(array, axis=0, dtype=None, out=None, keepdims=False, initial=<no value>, where=True)\n",
      " |      \n",
      " |      Reduces `array`'s dimension by one, by applying ufunc along one axis.\n",
      " |      \n",
      " |      Let :math:`array.shape = (N_0, ..., N_i, ..., N_{M-1})`.  Then\n",
      " |      :math:`ufunc.reduce(array, axis=i)[k_0, ..,k_{i-1}, k_{i+1}, .., k_{M-1}]` =\n",
      " |      the result of iterating `j` over :math:`range(N_i)`, cumulatively applying\n",
      " |      ufunc to each :math:`array[k_0, ..,k_{i-1}, j, k_{i+1}, .., k_{M-1}]`.\n",
      " |      For a one-dimensional array, reduce produces results equivalent to:\n",
      " |      ::\n",
      " |      \n",
      " |       r = op.identity # op = ufunc\n",
      " |       for i in range(len(A)):\n",
      " |         r = op(r, A[i])\n",
      " |       return r\n",
      " |      \n",
      " |      For example, add.reduce() is equivalent to sum().\n",
      " |      \n",
      " |      Parameters\n",
      " |      ----------\n",
      " |      array : array_like\n",
      " |          The array to act on.\n",
      " |      axis : None or int or tuple of ints, optional\n",
      " |          Axis or axes along which a reduction is performed.\n",
      " |          The default (`axis` = 0) is perform a reduction over the first\n",
      " |          dimension of the input array. `axis` may be negative, in\n",
      " |          which case it counts from the last to the first axis.\n",
      " |      \n",
      " |          .. versionadded:: 1.7.0\n",
      " |      \n",
      " |          If this is None, a reduction is performed over all the axes.\n",
      " |          If this is a tuple of ints, a reduction is performed on multiple\n",
      " |          axes, instead of a single axis or all the axes as before.\n",
      " |      \n",
      " |          For operations which are either not commutative or not associative,\n",
      " |          doing a reduction over multiple axes is not well-defined. The\n",
      " |          ufuncs do not currently raise an exception in this case, but will\n",
      " |          likely do so in the future.\n",
      " |      dtype : data-type code, optional\n",
      " |          The type used to represent the intermediate results. Defaults\n",
      " |          to the data-type of the output array if this is provided, or\n",
      " |          the data-type of the input array if no output array is provided.\n",
      " |      out : ndarray, None, or tuple of ndarray and None, optional\n",
      " |          A location into which the result is stored. If not provided or None,\n",
      " |          a freshly-allocated array is returned. For consistency with\n",
      " |          ``ufunc.__call__``, if given as a keyword, this may be wrapped in a\n",
      " |          1-element tuple.\n",
      " |      \n",
      " |          .. versionchanged:: 1.13.0\n",
      " |             Tuples are allowed for keyword argument.\n",
      " |      keepdims : bool, optional\n",
      " |          If this is set to True, the axes which are reduced are left\n",
      " |          in the result as dimensions with size one. With this option,\n",
      " |          the result will broadcast correctly against the original `array`.\n",
      " |      \n",
      " |          .. versionadded:: 1.7.0\n",
      " |      initial : scalar, optional\n",
      " |          The value with which to start the reduction.\n",
      " |          If the ufunc has no identity or the dtype is object, this defaults\n",
      " |          to None - otherwise it defaults to ufunc.identity.\n",
      " |          If ``None`` is given, the first element of the reduction is used,\n",
      " |          and an error is thrown if the reduction is empty.\n",
      " |      \n",
      " |          .. versionadded:: 1.15.0\n",
      " |      \n",
      " |      where : array_like of bool, optional\n",
      " |          A boolean array which is broadcasted to match the dimensions\n",
      " |          of `array`, and selects elements to include in the reduction. Note\n",
      " |          that for ufuncs like ``minimum`` that do not have an identity\n",
      " |          defined, one has to pass in also ``initial``.\n",
      " |      \n",
      " |          .. versionadded:: 1.17.0\n",
      " |      \n",
      " |      Returns\n",
      " |      -------\n",
      " |      r : ndarray\n",
      " |          The reduced array. If `out` was supplied, `r` is a reference to it.\n",
      " |      \n",
      " |      Examples\n",
      " |      --------\n",
      " |      >>> np.multiply.reduce([2,3,5])\n",
      " |      30\n",
      " |      \n",
      " |      A multi-dimensional array example:\n",
      " |      \n",
      " |      >>> X = np.arange(8).reshape((2,2,2))\n",
      " |      >>> X\n",
      " |      array([[[0, 1],\n",
      " |              [2, 3]],\n",
      " |             [[4, 5],\n",
      " |              [6, 7]]])\n",
      " |      >>> np.add.reduce(X, 0)\n",
      " |      array([[ 4,  6],\n",
      " |             [ 8, 10]])\n",
      " |      >>> np.add.reduce(X) # confirm: default axis value is 0\n",
      " |      array([[ 4,  6],\n",
      " |             [ 8, 10]])\n",
      " |      >>> np.add.reduce(X, 1)\n",
      " |      array([[ 2,  4],\n",
      " |             [10, 12]])\n",
      " |      >>> np.add.reduce(X, 2)\n",
      " |      array([[ 1,  5],\n",
      " |             [ 9, 13]])\n",
      " |      \n",
      " |      You can use the ``initial`` keyword argument to initialize the reduction\n",
      " |      with a different value, and ``where`` to select specific elements to include:\n",
      " |      \n",
      " |      >>> np.add.reduce([10], initial=5)\n",
      " |      15\n",
      " |      >>> np.add.reduce(np.ones((2, 2, 2)), axis=(0, 2), initial=10)\n",
      " |      array([14., 14.])\n",
      " |      >>> a = np.array([10., np.nan, 10])\n",
      " |      >>> np.add.reduce(a, where=~np.isnan(a))\n",
      " |      20.0\n",
      " |      \n",
      " |      Allows reductions of empty arrays where they would normally fail, i.e.\n",
      " |      for ufuncs without an identity.\n",
      " |      \n",
      " |      >>> np.minimum.reduce([], initial=np.inf)\n",
      " |      inf\n",
      " |      >>> np.minimum.reduce([[1., 2.], [3., 4.]], initial=10., where=[True, False])\n",
      " |      array([ 1., 10.])\n",
      " |      >>> np.minimum.reduce([])\n",
      " |      Traceback (most recent call last):\n",
      " |          ...\n",
      " |      ValueError: zero-size array to reduction operation minimum which has no identity\n",
      " |  \n",
      " |  reduceat(...)\n",
      " |      reduceat(array, indices, axis=0, dtype=None, out=None)\n",
      " |      \n",
      " |      Performs a (local) reduce with specified slices over a single axis.\n",
      " |      \n",
      " |      For i in ``range(len(indices))``, `reduceat` computes\n",
      " |      ``ufunc.reduce(array[indices[i]:indices[i+1]])``, which becomes the i-th\n",
      " |      generalized \"row\" parallel to `axis` in the final result (i.e., in a\n",
      " |      2-D array, for example, if `axis = 0`, it becomes the i-th row, but if\n",
      " |      `axis = 1`, it becomes the i-th column).  There are three exceptions to this:\n",
      " |      \n",
      " |      * when ``i = len(indices) - 1`` (so for the last index),\n",
      " |        ``indices[i+1] = array.shape[axis]``.\n",
      " |      * if ``indices[i] >= indices[i + 1]``, the i-th generalized \"row\" is\n",
      " |        simply ``array[indices[i]]``.\n",
      " |      * if ``indices[i] >= len(array)`` or ``indices[i] < 0``, an error is raised.\n",
      " |      \n",
      " |      The shape of the output depends on the size of `indices`, and may be\n",
      " |      larger than `array` (this happens if ``len(indices) > array.shape[axis]``).\n",
      " |      \n",
      " |      Parameters\n",
      " |      ----------\n",
      " |      array : array_like\n",
      " |          The array to act on.\n",
      " |      indices : array_like\n",
      " |          Paired indices, comma separated (not colon), specifying slices to\n",
      " |          reduce.\n",
      " |      axis : int, optional\n",
      " |          The axis along which to apply the reduceat.\n",
      " |      dtype : data-type code, optional\n",
      " |          The type used to represent the intermediate results. Defaults\n",
      " |          to the data type of the output array if this is provided, or\n",
      " |          the data type of the input array if no output array is provided.\n",
      " |      out : ndarray, None, or tuple of ndarray and None, optional\n",
      " |          A location into which the result is stored. If not provided or None,\n",
      " |          a freshly-allocated array is returned. For consistency with\n",
      " |          ``ufunc.__call__``, if given as a keyword, this may be wrapped in a\n",
      " |          1-element tuple.\n",
      " |      \n",
      " |          .. versionchanged:: 1.13.0\n",
      " |             Tuples are allowed for keyword argument.\n",
      " |      \n",
      " |      Returns\n",
      " |      -------\n",
      " |      r : ndarray\n",
      " |          The reduced values. If `out` was supplied, `r` is a reference to\n",
      " |          `out`.\n",
      " |      \n",
      " |      Notes\n",
      " |      -----\n",
      " |      A descriptive example:\n",
      " |      \n",
      " |      If `array` is 1-D, the function `ufunc.accumulate(array)` is the same as\n",
      " |      ``ufunc.reduceat(array, indices)[::2]`` where `indices` is\n",
      " |      ``range(len(array) - 1)`` with a zero placed\n",
      " |      in every other element:\n",
      " |      ``indices = zeros(2 * len(array) - 1)``,\n",
      " |      ``indices[1::2] = range(1, len(array))``.\n",
      " |      \n",
      " |      Don't be fooled by this attribute's name: `reduceat(array)` is not\n",
      " |      necessarily smaller than `array`.\n",
      " |      \n",
      " |      Examples\n",
      " |      --------\n",
      " |      To take the running sum of four successive values:\n",
      " |      \n",
      " |      >>> np.add.reduceat(np.arange(8),[0,4, 1,5, 2,6, 3,7])[::2]\n",
      " |      array([ 6, 10, 14, 18])\n",
      " |      \n",
      " |      A 2-D example:\n",
      " |      \n",
      " |      >>> x = np.linspace(0, 15, 16).reshape(4,4)\n",
      " |      >>> x\n",
      " |      array([[ 0.,   1.,   2.,   3.],\n",
      " |             [ 4.,   5.,   6.,   7.],\n",
      " |             [ 8.,   9.,  10.,  11.],\n",
      " |             [12.,  13.,  14.,  15.]])\n",
      " |      \n",
      " |      ::\n",
      " |      \n",
      " |       # reduce such that the result has the following five rows:\n",
      " |       # [row1 + row2 + row3]\n",
      " |       # [row4]\n",
      " |       # [row2]\n",
      " |       # [row3]\n",
      " |       # [row1 + row2 + row3 + row4]\n",
      " |      \n",
      " |      >>> np.add.reduceat(x, [0, 3, 1, 2, 0])\n",
      " |      array([[12.,  15.,  18.,  21.],\n",
      " |             [12.,  13.,  14.,  15.],\n",
      " |             [ 4.,   5.,   6.,   7.],\n",
      " |             [ 8.,   9.,  10.,  11.],\n",
      " |             [24.,  28.,  32.,  36.]])\n",
      " |      \n",
      " |      ::\n",
      " |      \n",
      " |       # reduce such that result has the following two columns:\n",
      " |       # [col1 * col2 * col3, col4]\n",
      " |      \n",
      " |      >>> np.multiply.reduceat(x, [0, 3], 1)\n",
      " |      array([[   0.,     3.],\n",
      " |             [ 120.,     7.],\n",
      " |             [ 720.,    11.],\n",
      " |             [2184.,    15.]])\n",
      " |  \n",
      " |  ----------------------------------------------------------------------\n",
      " |  Data descriptors defined here:\n",
      " |  \n",
      " |  identity\n",
      " |      The identity value.\n",
      " |      \n",
      " |      Data attribute containing the identity element for the ufunc, if it has one.\n",
      " |      If it does not, the attribute value is None.\n",
      " |      \n",
      " |      Examples\n",
      " |      --------\n",
      " |      >>> np.add.identity\n",
      " |      0\n",
      " |      >>> np.multiply.identity\n",
      " |      1\n",
      " |      >>> np.power.identity\n",
      " |      1\n",
      " |      >>> print(np.exp.identity)\n",
      " |      None\n",
      " |  \n",
      " |  nargs\n",
      " |      The number of arguments.\n",
      " |      \n",
      " |      Data attribute containing the number of arguments the ufunc takes, including\n",
      " |      optional ones.\n",
      " |      \n",
      " |      Notes\n",
      " |      -----\n",
      " |      Typically this value will be one more than what you might expect because all\n",
      " |      ufuncs take  the optional \"out\" argument.\n",
      " |      \n",
      " |      Examples\n",
      " |      --------\n",
      " |      >>> np.add.nargs\n",
      " |      3\n",
      " |      >>> np.multiply.nargs\n",
      " |      3\n",
      " |      >>> np.power.nargs\n",
      " |      3\n",
      " |      >>> np.exp.nargs\n",
      " |      2\n",
      " |  \n",
      " |  nin\n",
      " |      The number of inputs.\n",
      " |      \n",
      " |      Data attribute containing the number of arguments the ufunc treats as input.\n",
      " |      \n",
      " |      Examples\n",
      " |      --------\n",
      " |      >>> np.add.nin\n",
      " |      2\n",
      " |      >>> np.multiply.nin\n",
      " |      2\n",
      " |      >>> np.power.nin\n",
      " |      2\n",
      " |      >>> np.exp.nin\n",
      " |      1\n",
      " |  \n",
      " |  nout\n",
      " |      The number of outputs.\n",
      " |      \n",
      " |      Data attribute containing the number of arguments the ufunc treats as output.\n",
      " |      \n",
      " |      Notes\n",
      " |      -----\n",
      " |      Since all ufuncs can take output arguments, this will always be (at least) 1.\n",
      " |      \n",
      " |      Examples\n",
      " |      --------\n",
      " |      >>> np.add.nout\n",
      " |      1\n",
      " |      >>> np.multiply.nout\n",
      " |      1\n",
      " |      >>> np.power.nout\n",
      " |      1\n",
      " |      >>> np.exp.nout\n",
      " |      1\n",
      " |  \n",
      " |  ntypes\n",
      " |      The number of types.\n",
      " |      \n",
      " |      The number of numerical NumPy types - of which there are 18 total - on which\n",
      " |      the ufunc can operate.\n",
      " |      \n",
      " |      See Also\n",
      " |      --------\n",
      " |      numpy.ufunc.types\n",
      " |      \n",
      " |      Examples\n",
      " |      --------\n",
      " |      >>> np.add.ntypes\n",
      " |      18\n",
      " |      >>> np.multiply.ntypes\n",
      " |      18\n",
      " |      >>> np.power.ntypes\n",
      " |      17\n",
      " |      >>> np.exp.ntypes\n",
      " |      7\n",
      " |      >>> np.remainder.ntypes\n",
      " |      14\n",
      " |  \n",
      " |  signature\n",
      " |      Definition of the core elements a generalized ufunc operates on.\n",
      " |      \n",
      " |      The signature determines how the dimensions of each input/output array\n",
      " |      are split into core and loop dimensions:\n",
      " |      \n",
      " |      1. Each dimension in the signature is matched to a dimension of the\n",
      " |         corresponding passed-in array, starting from the end of the shape tuple.\n",
      " |      2. Core dimensions assigned to the same label in the signature must have\n",
      " |         exactly matching sizes, no broadcasting is performed.\n",
      " |      3. The core dimensions are removed from all inputs and the remaining\n",
      " |         dimensions are broadcast together, defining the loop dimensions.\n",
      " |      \n",
      " |      Notes\n",
      " |      -----\n",
      " |      Generalized ufuncs are used internally in many linalg functions, and in\n",
      " |      the testing suite; the examples below are taken from these.\n",
      " |      For ufuncs that operate on scalars, the signature is None, which is\n",
      " |      equivalent to '()' for every argument.\n",
      " |      \n",
      " |      Examples\n",
      " |      --------\n",
      " |      >>> np.core.umath_tests.matrix_multiply.signature\n",
      " |      '(m,n),(n,p)->(m,p)'\n",
      " |      >>> np.linalg._umath_linalg.det.signature\n",
      " |      '(m,m)->()'\n",
      " |      >>> np.add.signature is None\n",
      " |      True  # equivalent to '(),()->()'\n",
      " |  \n",
      " |  types\n",
      " |      Returns a list with types grouped input->output.\n",
      " |      \n",
      " |      Data attribute listing the data-type \"Domain-Range\" groupings the ufunc can\n",
      " |      deliver. The data-types are given using the character codes.\n",
      " |      \n",
      " |      See Also\n",
      " |      --------\n",
      " |      numpy.ufunc.ntypes\n",
      " |      \n",
      " |      Examples\n",
      " |      --------\n",
      " |      >>> np.add.types\n",
      " |      ['??->?', 'bb->b', 'BB->B', 'hh->h', 'HH->H', 'ii->i', 'II->I', 'll->l',\n",
      " |      'LL->L', 'qq->q', 'QQ->Q', 'ff->f', 'dd->d', 'gg->g', 'FF->F', 'DD->D',\n",
      " |      'GG->G', 'OO->O']\n",
      " |      \n",
      " |      >>> np.multiply.types\n",
      " |      ['??->?', 'bb->b', 'BB->B', 'hh->h', 'HH->H', 'ii->i', 'II->I', 'll->l',\n",
      " |      'LL->L', 'qq->q', 'QQ->Q', 'ff->f', 'dd->d', 'gg->g', 'FF->F', 'DD->D',\n",
      " |      'GG->G', 'OO->O']\n",
      " |      \n",
      " |      >>> np.power.types\n",
      " |      ['bb->b', 'BB->B', 'hh->h', 'HH->H', 'ii->i', 'II->I', 'll->l', 'LL->L',\n",
      " |      'qq->q', 'QQ->Q', 'ff->f', 'dd->d', 'gg->g', 'FF->F', 'DD->D', 'GG->G',\n",
      " |      'OO->O']\n",
      " |      \n",
      " |      >>> np.exp.types\n",
      " |      ['f->f', 'd->d', 'g->g', 'F->F', 'D->D', 'G->G', 'O->O']\n",
      " |      \n",
      " |      >>> np.remainder.types\n",
      " |      ['bb->b', 'BB->B', 'hh->h', 'HH->H', 'ii->i', 'II->I', 'll->l', 'LL->L',\n",
      " |      'qq->q', 'QQ->Q', 'ff->f', 'dd->d', 'gg->g', 'OO->O']\n",
      "\n"
     ]
    }
   ],
   "source": [
    "help(np.add)"
   ]
  },
  {
   "cell_type": "code",
   "execution_count": 9,
   "id": "bac151ae",
   "metadata": {},
   "outputs": [
    {
     "name": "stdout",
     "output_type": "stream",
     "text": [
      "Help on built-in function accumulate:\n",
      "\n",
      "accumulate(...) method of numpy.ufunc instance\n",
      "    accumulate(array, axis=0, dtype=None, out=None)\n",
      "    \n",
      "    Accumulate the result of applying the operator to all elements.\n",
      "    \n",
      "    For a one-dimensional array, accumulate produces results equivalent to::\n",
      "    \n",
      "      r = np.empty(len(A))\n",
      "      t = op.identity        # op = the ufunc being applied to A's  elements\n",
      "      for i in range(len(A)):\n",
      "          t = op(t, A[i])\n",
      "          r[i] = t\n",
      "      return r\n",
      "    \n",
      "    For example, add.accumulate() is equivalent to np.cumsum().\n",
      "    \n",
      "    For a multi-dimensional array, accumulate is applied along only one\n",
      "    axis (axis zero by default; see Examples below) so repeated use is\n",
      "    necessary if one wants to accumulate over multiple axes.\n",
      "    \n",
      "    Parameters\n",
      "    ----------\n",
      "    array : array_like\n",
      "        The array to act on.\n",
      "    axis : int, optional\n",
      "        The axis along which to apply the accumulation; default is zero.\n",
      "    dtype : data-type code, optional\n",
      "        The data-type used to represent the intermediate results. Defaults\n",
      "        to the data-type of the output array if such is provided, or the\n",
      "        the data-type of the input array if no output array is provided.\n",
      "    out : ndarray, None, or tuple of ndarray and None, optional\n",
      "        A location into which the result is stored. If not provided or None,\n",
      "        a freshly-allocated array is returned. For consistency with\n",
      "        ``ufunc.__call__``, if given as a keyword, this may be wrapped in a\n",
      "        1-element tuple.\n",
      "    \n",
      "        .. versionchanged:: 1.13.0\n",
      "           Tuples are allowed for keyword argument.\n",
      "    \n",
      "    Returns\n",
      "    -------\n",
      "    r : ndarray\n",
      "        The accumulated values. If `out` was supplied, `r` is a reference to\n",
      "        `out`.\n",
      "    \n",
      "    Examples\n",
      "    --------\n",
      "    1-D array examples:\n",
      "    \n",
      "    >>> np.add.accumulate([2, 3, 5])\n",
      "    array([ 2,  5, 10])\n",
      "    >>> np.multiply.accumulate([2, 3, 5])\n",
      "    array([ 2,  6, 30])\n",
      "    \n",
      "    2-D array examples:\n",
      "    \n",
      "    >>> I = np.eye(2)\n",
      "    >>> I\n",
      "    array([[1.,  0.],\n",
      "           [0.,  1.]])\n",
      "    \n",
      "    Accumulate along axis 0 (rows), down columns:\n",
      "    \n",
      "    >>> np.add.accumulate(I, 0)\n",
      "    array([[1.,  0.],\n",
      "           [1.,  1.]])\n",
      "    >>> np.add.accumulate(I) # no axis specified = axis zero\n",
      "    array([[1.,  0.],\n",
      "           [1.,  1.]])\n",
      "    \n",
      "    Accumulate along axis 1 (columns), through rows:\n",
      "    \n",
      "    >>> np.add.accumulate(I, 1)\n",
      "    array([[1.,  1.],\n",
      "           [0.,  1.]])\n",
      "\n"
     ]
    }
   ],
   "source": [
    "help(np.add.accumulate)"
   ]
  },
  {
   "cell_type": "code",
   "execution_count": 11,
   "id": "12e8494b",
   "metadata": {},
   "outputs": [
    {
     "data": {
      "text/plain": [
       "'1-D array examples:\\n    \\n    >>> np.add.accumulate([2, 3, 5])\\n    array([ 2,  5, 10])\\n    >>> np.multiply.accumulate([2, 3, 5])\\n    array([ 2,  6, 30])\\n    \\n    2-D array examples:\\n    \\n    >>> I = np.eye(2)\\n    >>> I\\n    array([[1.,  0.],\\n           [0.,  1.]])\\n    \\n    Accumulate along axis 0 (rows), down columns:\\n    \\n    >>> np.add.accumulate(I, 0)\\n    array([[1.,  0.],\\n           [1.,  1.]])\\n    >>> np.add.accumulate(I) # no axis specified = axis zero\\n    array([[1.,  0.],\\n           [1.,  1.]])\\n    \\n    Accumulate along axis 1 (columns), through rows:\\n    \\n    >>> np.add.accumulate(I, 1)\\n    array([[1.,  1.],\\n           [0.,  1.]])'"
      ]
     },
     "execution_count": 11,
     "metadata": {},
     "output_type": "execute_result"
    }
   ],
   "source": [
    "#np.add.accumulate example\n",
    "\n",
    "'''1-D array examples:\n",
    "    \n",
    "    >>> np.add.accumulate([2, 3, 5])\n",
    "    array([ 2,  5, 10])\n",
    "    >>> np.multiply.accumulate([2, 3, 5])\n",
    "    array([ 2,  6, 30])\n",
    "    \n",
    "    2-D array examples:\n",
    "    \n",
    "    >>> I = np.eye(2)\n",
    "    >>> I\n",
    "    array([[1.,  0.],\n",
    "           [0.,  1.]])\n",
    "    \n",
    "    Accumulate along axis 0 (rows), down columns:\n",
    "    \n",
    "    >>> np.add.accumulate(I, 0)\n",
    "    array([[1.,  0.],\n",
    "           [1.,  1.]])\n",
    "    >>> np.add.accumulate(I) # no axis specified = axis zero\n",
    "    array([[1.,  0.],\n",
    "           [1.,  1.]])\n",
    "    \n",
    "    Accumulate along axis 1 (columns), through rows:\n",
    "    \n",
    "    >>> np.add.accumulate(I, 1)\n",
    "    array([[1.,  1.],\n",
    "           [0.,  1.]])'''"
   ]
  },
  {
   "cell_type": "markdown",
   "id": "26b6ed0c",
   "metadata": {},
   "source": [
    "### 3. Write a NumPy program to test whether none of the elements of a given array is zero"
   ]
  },
  {
   "cell_type": "code",
   "execution_count": 16,
   "id": "6e9290d5",
   "metadata": {},
   "outputs": [
    {
     "name": "stdout",
     "output_type": "stream",
     "text": [
      "True\n",
      "False\n"
     ]
    }
   ],
   "source": [
    "a=np.array([1,2,3])\n",
    "print(np.all(a))\n",
    "\n",
    "\n",
    "b=np.array([0,1,2])\n",
    "print(np.all(b))"
   ]
  },
  {
   "cell_type": "markdown",
   "id": "a77bc2da",
   "metadata": {},
   "source": [
    " ### 4.Write a NumPy program to test whether any of the elements of a given array is non-zero."
   ]
  },
  {
   "cell_type": "code",
   "execution_count": 18,
   "id": "5c7ae25c",
   "metadata": {},
   "outputs": [
    {
     "name": "stdout",
     "output_type": "stream",
     "text": [
      "True\n",
      "False\n"
     ]
    }
   ],
   "source": [
    "a=np.array([1,2,3])\n",
    "print(np.any(a))\n",
    "\n",
    "\n",
    "b=np.array([0,0,0,0])\n",
    "print(np.any(b))"
   ]
  },
  {
   "cell_type": "markdown",
   "id": "f473c52d",
   "metadata": {},
   "source": [
    "### 5.Write a NumPy program to test a given array element-wise for finiteness (not infinity or not a Number)."
   ]
  },
  {
   "cell_type": "code",
   "execution_count": 20,
   "id": "1b75e7a2",
   "metadata": {},
   "outputs": [
    {
     "data": {
      "text/plain": [
       "array([ True,  True, False, False])"
      ]
     },
     "execution_count": 20,
     "metadata": {},
     "output_type": "execute_result"
    }
   ],
   "source": [
    "a=np.array([1 , 10 , np.nan , np.inf])\n",
    "np.isfinite(a)"
   ]
  },
  {
   "cell_type": "markdown",
   "id": "42551fa0",
   "metadata": {},
   "source": [
    "### 6.  Write a NumPy program to test element-wise for positive or negative infinity."
   ]
  },
  {
   "cell_type": "code",
   "execution_count": 24,
   "id": "0ece463e",
   "metadata": {},
   "outputs": [
    {
     "data": {
      "text/plain": [
       "array([False, False,  True, False,  True])"
      ]
     },
     "execution_count": 24,
     "metadata": {},
     "output_type": "execute_result"
    }
   ],
   "source": [
    "a=np.array([1 , 10 , -np.inf , np.nan , np.inf])\n",
    "np.isinf(a)"
   ]
  },
  {
   "cell_type": "markdown",
   "id": "d9a4361e",
   "metadata": {},
   "source": [
    "### 7.  Write a NumPy program to test element-wise for NaN of a given array. "
   ]
  },
  {
   "cell_type": "code",
   "execution_count": 27,
   "id": "3c5c172b",
   "metadata": {},
   "outputs": [
    {
     "data": {
      "text/plain": [
       "array([False, False, False,  True, False])"
      ]
     },
     "execution_count": 27,
     "metadata": {},
     "output_type": "execute_result"
    }
   ],
   "source": [
    "a=np.array([1 , 10 , -np.inf , np.nan , np.inf])\n",
    "np.isnan(a)"
   ]
  },
  {
   "cell_type": "markdown",
   "id": "55eccb00",
   "metadata": {},
   "source": [
    "### 8.  Write a NumPy program to test element-wise for complex number, real number of a given array. Also test                    whether a given number is a scalar type or not."
   ]
  },
  {
   "cell_type": "code",
   "execution_count": 42,
   "id": "5e99301c",
   "metadata": {},
   "outputs": [
    {
     "name": "stdout",
     "output_type": "stream",
     "text": [
      "[ True  True False False]\n",
      "\n",
      "[False False  True  True]\n",
      "\n",
      "True\n",
      "\n",
      "False\n"
     ]
    }
   ],
   "source": [
    "a=np.array([1 , 10 , 6+5j , 9-7j])\n",
    "print(np.isreal(a))\n",
    "print()\n",
    "print(np.iscomplex(a))\n",
    "print()\n",
    "print(np.isscalar(3.1))\n",
    "print()\n",
    "print(np.isscalar([3.1]))"
   ]
  },
  {
   "cell_type": "markdown",
   "id": "cd3b8a0b",
   "metadata": {},
   "source": [
    "### 9. Write a NumPy program to test whether two arrays are element-wise equal within a tolerance"
   ]
  },
  {
   "cell_type": "code",
   "execution_count": 61,
   "id": "497213e1",
   "metadata": {},
   "outputs": [
    {
     "name": "stdout",
     "output_type": "stream",
     "text": [
      "Help on function allclose in module numpy:\n",
      "\n",
      "allclose(a, b, rtol=1e-05, atol=1e-08, equal_nan=False)\n",
      "    Returns True if two arrays are element-wise equal within a tolerance.\n",
      "    \n",
      "    The tolerance values are positive, typically very small numbers.  The\n",
      "    relative difference (`rtol` * abs(`b`)) and the absolute difference\n",
      "    `atol` are added together to compare against the absolute difference\n",
      "    between `a` and `b`.\n",
      "    \n",
      "    NaNs are treated as equal if they are in the same place and if\n",
      "    ``equal_nan=True``.  Infs are treated as equal if they are in the same\n",
      "    place and of the same sign in both arrays.\n",
      "    \n",
      "    Parameters\n",
      "    ----------\n",
      "    a, b : array_like\n",
      "        Input arrays to compare.\n",
      "    rtol : float\n",
      "        The relative tolerance parameter (see Notes).\n",
      "    atol : float\n",
      "        The absolute tolerance parameter (see Notes).\n",
      "    equal_nan : bool\n",
      "        Whether to compare NaN's as equal.  If True, NaN's in `a` will be\n",
      "        considered equal to NaN's in `b` in the output array.\n",
      "    \n",
      "        .. versionadded:: 1.10.0\n",
      "    \n",
      "    Returns\n",
      "    -------\n",
      "    allclose : bool\n",
      "        Returns True if the two arrays are equal within the given\n",
      "        tolerance; False otherwise.\n",
      "    \n",
      "    See Also\n",
      "    --------\n",
      "    isclose, all, any, equal\n",
      "    \n",
      "    Notes\n",
      "    -----\n",
      "    If the following equation is element-wise True, then allclose returns\n",
      "    True.\n",
      "    \n",
      "     absolute(`a` - `b`) <= (`atol` + `rtol` * absolute(`b`))\n",
      "    \n",
      "    The above equation is not symmetric in `a` and `b`, so that\n",
      "    ``allclose(a, b)`` might be different from ``allclose(b, a)`` in\n",
      "    some rare cases.\n",
      "    \n",
      "    The comparison of `a` and `b` uses standard broadcasting, which\n",
      "    means that `a` and `b` need not have the same shape in order for\n",
      "    ``allclose(a, b)`` to evaluate to True.  The same is true for\n",
      "    `equal` but not `array_equal`.\n",
      "    \n",
      "    `allclose` is not defined for non-numeric data types.\n",
      "    \n",
      "    Examples\n",
      "    --------\n",
      "    >>> np.allclose([1e10,1e-7], [1.00001e10,1e-8])\n",
      "    False\n",
      "    >>> np.allclose([1e10,1e-8], [1.00001e10,1e-9])\n",
      "    True\n",
      "    >>> np.allclose([1e10,1e-8], [1.0001e10,1e-9])\n",
      "    False\n",
      "    >>> np.allclose([1.0, np.nan], [1.0, np.nan])\n",
      "    False\n",
      "    >>> np.allclose([1.0, np.nan], [1.0, np.nan], equal_nan=True)\n",
      "    True\n",
      "\n"
     ]
    }
   ],
   "source": [
    "help(np.allclose)"
   ]
  },
  {
   "cell_type": "code",
   "execution_count": 64,
   "id": "d0587500",
   "metadata": {},
   "outputs": [
    {
     "name": "stdout",
     "output_type": "stream",
     "text": [
      "1st Input array :  [5.000000e+05 1.000000e-07 4.000004e+06]\n",
      "2nd Input array :  [5.00001e+05 1.00000e-07 4.00000e+06]\n",
      "Are the two arrays are equal within the tolerance: \t True\n"
     ]
    }
   ],
   "source": [
    "a=np.array([5e5, 1e-7, 4.000004e6])\n",
    "print (\"1st Input array : \", a) \n",
    "  \n",
    "b=np.array([5.00001e5, 1e-7, 4e6])\n",
    "print (\"2nd Input array : \", b) \n",
    "  \n",
    "# setting the absolute and relative tolerance\n",
    "\n",
    "rtol = 1e-05\n",
    "atol = 1e-08\n",
    "  \n",
    "c=np.allclose(a , b, rtol, atol)\n",
    "print (\"Are the two arrays are equal within the tolerance: \\t\", c)"
   ]
  },
  {
   "cell_type": "markdown",
   "id": "87b11ef4",
   "metadata": {},
   "source": [
    "### 10. Write a NumPy program to create an element-wise comparison (greater, greater_equal, less and less_equal) of two given arrays."
   ]
  },
  {
   "cell_type": "code",
   "execution_count": 72,
   "id": "7da670ee",
   "metadata": {},
   "outputs": [
    {
     "name": "stdout",
     "output_type": "stream",
     "text": [
      "[False False  True False]\n",
      "\n",
      "[ True False  True False]\n",
      "\n",
      "[False  True False  True]\n",
      "\n",
      "[ True  True False  True]\n"
     ]
    }
   ],
   "source": [
    "a=np.array([1,2,3,4])\n",
    "\n",
    "b=np.array([1,4,2,6])\n",
    "\n",
    "print(np.greater(a,b))\n",
    "print()\n",
    "\n",
    "print(np.greater_equal(a,b))\n",
    "print()\n",
    "\n",
    "print(np.less(a,b))\n",
    "print()\n",
    "\n",
    "print(np.less_equal(a,b))"
   ]
  },
  {
   "cell_type": "markdown",
   "id": "044a7aa7",
   "metadata": {},
   "source": [
    "### 11. Write a NumPy program to create an array with the values 1, 7, 13, 105 and determine the size of the memory occupied by the array."
   ]
  },
  {
   "cell_type": "code",
   "execution_count": 8,
   "id": "12f0fbc9",
   "metadata": {},
   "outputs": [
    {
     "data": {
      "text/plain": [
       "16"
      ]
     },
     "execution_count": 8,
     "metadata": {},
     "output_type": "execute_result"
    }
   ],
   "source": [
    "a=np.array([1 , 7 , 13 , 105])\n",
    "a.nbytes"
   ]
  },
  {
   "cell_type": "markdown",
   "id": "5fbc2a7f",
   "metadata": {},
   "source": [
    "### 12. Write a NumPy program to generate a random number between 0 and 1."
   ]
  },
  {
   "cell_type": "code",
   "execution_count": 13,
   "id": "cfd0fd1e",
   "metadata": {},
   "outputs": [
    {
     "data": {
      "text/plain": [
       "array([0.03489771])"
      ]
     },
     "execution_count": 13,
     "metadata": {},
     "output_type": "execute_result"
    }
   ],
   "source": [
    "np.random.normal(0,1,1)"
   ]
  },
  {
   "cell_type": "markdown",
   "id": "2c9153b4",
   "metadata": {},
   "source": [
    "### 13. Write a NumPy program to generate an array of 15 random numbers from a standard normal distribution."
   ]
  },
  {
   "cell_type": "code",
   "execution_count": 15,
   "id": "4bb97984",
   "metadata": {},
   "outputs": [
    {
     "data": {
      "text/plain": [
       "array([-0.56334273, -0.30955793,  1.03614317,  1.02360526,  0.09423328,\n",
       "       -1.54073357,  0.30545306,  0.32626361,  0.97643022, -0.58579559,\n",
       "        0.13908941, -1.21717175,  0.15898671, -0.8782238 ,  0.05001293])"
      ]
     },
     "execution_count": 15,
     "metadata": {},
     "output_type": "execute_result"
    }
   ],
   "source": [
    "np.random.normal(0,1,15)"
   ]
  },
  {
   "cell_type": "markdown",
   "id": "4d8c6b82",
   "metadata": {},
   "source": [
    "### 14. Write a NumPy program to create a vector with values ranging from 15 to 55 and print all values except the first and last."
   ]
  },
  {
   "cell_type": "code",
   "execution_count": 24,
   "id": "b3ff3410",
   "metadata": {},
   "outputs": [
    {
     "data": {
      "text/plain": [
       "array([15, 16, 17, 18, 19, 20, 21, 22, 23, 24, 25, 26, 27, 28, 29, 30, 31,\n",
       "       32, 33, 34, 35, 36, 37, 38, 39, 40, 41, 42, 43, 44, 45, 46, 47, 48,\n",
       "       49, 50, 51, 52, 53, 54, 55])"
      ]
     },
     "execution_count": 24,
     "metadata": {},
     "output_type": "execute_result"
    }
   ],
   "source": [
    "a=np.arange(15,56)\n",
    "a"
   ]
  },
  {
   "cell_type": "code",
   "execution_count": 22,
   "id": "b1fa2a76",
   "metadata": {},
   "outputs": [
    {
     "name": "stdout",
     "output_type": "stream",
     "text": [
      "[16 17 18 19 20 21 22 23 24 25 26 27 28 29 30 31 32 33 34 35 36 37 38 39\n",
      " 40 41 42 43 44 45 46 47 48 49 50 51 52 53 54]\n"
     ]
    }
   ],
   "source": [
    "print(a[1:-1])"
   ]
  },
  {
   "cell_type": "markdown",
   "id": "f4abb263",
   "metadata": {},
   "source": [
    "### 15. Write a NumPy program to create a 3X4 array using and iterate over it."
   ]
  },
  {
   "cell_type": "code",
   "execution_count": 30,
   "id": "96dd5f65",
   "metadata": {},
   "outputs": [
    {
     "name": "stdout",
     "output_type": "stream",
     "text": [
      "[[ 1  2  3  4]\n",
      " [ 5  6  7  8]\n",
      " [ 9 10 11 12]]\n",
      "\n",
      "1 2 3 4 5 6 7 8 9 10 11 12 "
     ]
    }
   ],
   "source": [
    "a=np.arange(1,13).reshape(3,4)\n",
    "print(a)\n",
    "print()\n",
    "for i in np.nditer(a):\n",
    "    print(i , end =' ')"
   ]
  },
  {
   "cell_type": "markdown",
   "id": "3eb2217a",
   "metadata": {},
   "source": [
    "### 16. Write a NumPy program to swap rows and columns of a given array in reverse order"
   ]
  },
  {
   "cell_type": "code",
   "execution_count": 44,
   "id": "4097ce87",
   "metadata": {},
   "outputs": [
    {
     "name": "stdout",
     "output_type": "stream",
     "text": [
      "[[1 2 3]\n",
      " [4 5 6]\n",
      " [7 8 9]]\n",
      "\n",
      "[[9 8 7]\n",
      " [6 5 4]\n",
      " [3 2 1]]\n"
     ]
    }
   ],
   "source": [
    "a=np.arange(1,10).reshape(3,3)\n",
    "print(a)\n",
    "print()\n",
    "print(a[::-1 , ::-1])\n"
   ]
  },
  {
   "cell_type": "markdown",
   "id": "05ca947b",
   "metadata": {},
   "source": [
    "### 17. Write a NumPy program to create a 4x4 array, now create a new array from the said array swapping first and last, second and third columns"
   ]
  },
  {
   "cell_type": "code",
   "execution_count": 47,
   "id": "06c961ee",
   "metadata": {},
   "outputs": [
    {
     "name": "stdout",
     "output_type": "stream",
     "text": [
      "[[ 1  2  3  4]\n",
      " [ 5  6  7  8]\n",
      " [ 9 10 11 12]\n",
      " [13 14 15 16]]\n",
      "\n",
      "[[ 4  3  2  1]\n",
      " [ 8  7  6  5]\n",
      " [12 11 10  9]\n",
      " [16 15 14 13]]\n"
     ]
    }
   ],
   "source": [
    "a=np.arange(1,17).reshape(4 , 4)\n",
    "print(a)\n",
    "print()\n",
    "new_array=a[: , ::-1]    #   (::-1) used to reverse all the rows.\n",
    "print(new_array)"
   ]
  },
  {
   "cell_type": "markdown",
   "id": "3f138547",
   "metadata": {},
   "source": [
    "### 18. Write a NumPy program to sort a given array by row and column in ascending order."
   ]
  },
  {
   "cell_type": "code",
   "execution_count": 76,
   "id": "3f69a67f",
   "metadata": {},
   "outputs": [
    {
     "name": "stdout",
     "output_type": "stream",
     "text": [
      "[[7 5 9]\n",
      " [1 2 3]\n",
      " [6 4 8]]\n",
      "\n",
      "[[5 7 9]\n",
      " [1 2 3]\n",
      " [4 6 8]]\n",
      "\n",
      "[[1 2 3]\n",
      " [6 4 8]\n",
      " [7 5 9]]\n"
     ]
    }
   ],
   "source": [
    "a=np.array([[7,5,9],[1,2,3],[6,4,8]])\n",
    "print(a)\n",
    "print()\n",
    "print(np.sort(a , axis=1))    #sort all rows in ascending order\n",
    "print()\n",
    "print(np.sort(a , axis=0))    #sort all rows in ascending order"
   ]
  },
  {
   "cell_type": "markdown",
   "id": "0d9f0b9c",
   "metadata": {},
   "source": [
    "### 19. Write a NumPy program to create a new array of given shape (5,6) and type, filled with zeros.\n",
    "Given array:\n",
    "[[0 0 0 0 0 0]\n",
    "[0 0 0 0 0 0]\n",
    "[0 0 0 0 0 0]\n",
    "[0 0 0 0 0 0]\n",
    "[0 0 0 0 0 0]]\n",
    "New array:\n",
    "[[3 0 3 0 3 0]\n",
    "[7 0 7 0 7 0]\n",
    "[3 0 3 0 3 0]\n",
    "[7 0 7 0 7 0]\n",
    "[3 0 3 0 3 0]]\n"
   ]
  },
  {
   "cell_type": "code",
   "execution_count": 6,
   "id": "c3eb9426",
   "metadata": {},
   "outputs": [
    {
     "name": "stdout",
     "output_type": "stream",
     "text": [
      "[[0. 0. 0. 0. 0. 0.]\n",
      " [0. 0. 0. 0. 0. 0.]\n",
      " [0. 0. 0. 0. 0. 0.]\n",
      " [0. 0. 0. 0. 0. 0.]\n",
      " [0. 0. 0. 0. 0. 0.]]\n",
      "\n",
      "[[3. 0. 3. 0. 3. 0.]\n",
      " [7. 0. 7. 0. 7. 0.]\n",
      " [3. 0. 3. 0. 3. 0.]\n",
      " [7. 0. 7. 0. 7. 0.]\n",
      " [3. 0. 3. 0. 3. 0.]]\n"
     ]
    }
   ],
   "source": [
    "a=np.zeros((5,6))\n",
    "print(a)\n",
    "print()\n",
    "a[::2 , ::2]=3\n",
    "a[1::2 , ::2]=7\n",
    "print(a)"
   ]
  },
  {
   "cell_type": "markdown",
   "id": "ae336012",
   "metadata": {},
   "source": [
    "### 20. Write a NumPy program to create a 10x10 matrix, in which the elements on the borders will be equal to 1, and inside 0."
   ]
  },
  {
   "cell_type": "code",
   "execution_count": 15,
   "id": "dac58591",
   "metadata": {},
   "outputs": [
    {
     "name": "stdout",
     "output_type": "stream",
     "text": [
      "[[1. 1. 1. 1. 1. 1. 1. 1. 1. 1.]\n",
      " [1. 1. 1. 1. 1. 1. 1. 1. 1. 1.]\n",
      " [1. 1. 1. 1. 1. 1. 1. 1. 1. 1.]\n",
      " [1. 1. 1. 1. 1. 1. 1. 1. 1. 1.]\n",
      " [1. 1. 1. 1. 1. 1. 1. 1. 1. 1.]\n",
      " [1. 1. 1. 1. 1. 1. 1. 1. 1. 1.]\n",
      " [1. 1. 1. 1. 1. 1. 1. 1. 1. 1.]\n",
      " [1. 1. 1. 1. 1. 1. 1. 1. 1. 1.]\n",
      " [1. 1. 1. 1. 1. 1. 1. 1. 1. 1.]\n",
      " [1. 1. 1. 1. 1. 1. 1. 1. 1. 1.]]\n",
      "\n",
      "[[1. 1. 1. 1. 1. 1. 1. 1. 1. 1.]\n",
      " [1. 0. 0. 0. 0. 0. 0. 0. 0. 1.]\n",
      " [1. 0. 0. 0. 0. 0. 0. 0. 0. 1.]\n",
      " [1. 0. 0. 0. 0. 0. 0. 0. 0. 1.]\n",
      " [1. 0. 0. 0. 0. 0. 0. 0. 0. 1.]\n",
      " [1. 0. 0. 0. 0. 0. 0. 0. 0. 1.]\n",
      " [1. 0. 0. 0. 0. 0. 0. 0. 0. 1.]\n",
      " [1. 0. 0. 0. 0. 0. 0. 0. 0. 1.]\n",
      " [1. 0. 0. 0. 0. 0. 0. 0. 0. 1.]\n",
      " [1. 1. 1. 1. 1. 1. 1. 1. 1. 1.]]\n"
     ]
    }
   ],
   "source": [
    "a=np.ones((10,10))\n",
    "print(a)\n",
    "print()\n",
    "a[1:9:1 , 1:9:1]=0\n",
    "print(a)"
   ]
  },
  {
   "cell_type": "markdown",
   "id": "2d5d4c70",
   "metadata": {},
   "source": [
    "### 21. Write a NumPy program to create a 3x3 identity matrix, i.e. diagonal elements are 1, the rest are 0"
   ]
  },
  {
   "cell_type": "code",
   "execution_count": 20,
   "id": "c43014b6",
   "metadata": {},
   "outputs": [
    {
     "name": "stdout",
     "output_type": "stream",
     "text": [
      "[[1. 0. 0.]\n",
      " [0. 1. 0.]\n",
      " [0. 0. 1.]]\n"
     ]
    }
   ],
   "source": [
    "a=np.identity(3)\n",
    "print(a)"
   ]
  },
  {
   "cell_type": "markdown",
   "id": "ad910206",
   "metadata": {},
   "source": [
    "### 22. Write a NumPy program to find the number of rows and columns of a given matrix."
   ]
  },
  {
   "cell_type": "code",
   "execution_count": 22,
   "id": "adcec443",
   "metadata": {},
   "outputs": [
    {
     "name": "stdout",
     "output_type": "stream",
     "text": [
      "(3, 3)\n"
     ]
    }
   ],
   "source": [
    "a=np.identity(3)\n",
    "print(a.shape)"
   ]
  },
  {
   "cell_type": "markdown",
   "id": "83b4b1e9",
   "metadata": {},
   "source": [
    "### 23. Write a NumPy program to add a new row to an empty NumPy array."
   ]
  },
  {
   "cell_type": "code",
   "execution_count": 51,
   "id": "3ecce800",
   "metadata": {},
   "outputs": [
    {
     "name": "stdout",
     "output_type": "stream",
     "text": [
      "[]\n",
      "\n",
      "[[10. 20. 30.]\n",
      " [40. 50. 60.]]\n"
     ]
    }
   ],
   "source": [
    "a=np.empty((0,3))\n",
    "print(a)\n",
    "print()\n",
    "a=np.append(a , np.array([[10,20,30]]) , axis=0)\n",
    "a=np.append(a , np.array([[40,50,60]]) , axis=0)\n",
    "print(a)"
   ]
  },
  {
   "cell_type": "markdown",
   "id": "de8979c6",
   "metadata": {},
   "source": [
    "### 24. Write a NumPy program to add a border (filled with 0's) around an existing array."
   ]
  },
  {
   "cell_type": "code",
   "execution_count": 56,
   "id": "cbb617c6",
   "metadata": {
    "scrolled": true
   },
   "outputs": [
    {
     "name": "stdout",
     "output_type": "stream",
     "text": [
      "[[0. 0. 0. 0. 0.]\n",
      " [0. 0. 0. 0. 0.]\n",
      " [0. 0. 0. 0. 0.]\n",
      " [0. 0. 0. 0. 0.]\n",
      " [0. 0. 0. 0. 0.]]\n",
      "\n",
      "[[7 7 7]\n",
      " [7 7 7]\n",
      " [7 7 7]]\n",
      "\n",
      "[[0. 0. 0. 0. 0.]\n",
      " [0. 7. 7. 7. 0.]\n",
      " [0. 7. 7. 7. 0.]\n",
      " [0. 7. 7. 7. 0.]\n",
      " [0. 0. 0. 0. 0.]]\n"
     ]
    }
   ],
   "source": [
    "a=np.zeros((5,5))\n",
    "print(a)\n",
    "print()\n",
    "b=np.full((3,3),7)\n",
    "print(b)\n",
    "print()\n",
    "a[1:4 , 1:4]=b\n",
    "print(a)"
   ]
  },
  {
   "cell_type": "markdown",
   "id": "402485d3",
   "metadata": {},
   "source": [
    "### 25. Write a NumPy program to create a 8x8 matrix and fill it with a checkerboard pattern."
   ]
  },
  {
   "cell_type": "code",
   "execution_count": 62,
   "id": "c5f85e31",
   "metadata": {
    "scrolled": true
   },
   "outputs": [
    {
     "name": "stdout",
     "output_type": "stream",
     "text": [
      "[[0. 0. 0. 0. 0. 0. 0. 0.]\n",
      " [0. 0. 0. 0. 0. 0. 0. 0.]\n",
      " [0. 0. 0. 0. 0. 0. 0. 0.]\n",
      " [0. 0. 0. 0. 0. 0. 0. 0.]\n",
      " [0. 0. 0. 0. 0. 0. 0. 0.]\n",
      " [0. 0. 0. 0. 0. 0. 0. 0.]\n",
      " [0. 0. 0. 0. 0. 0. 0. 0.]\n",
      " [0. 0. 0. 0. 0. 0. 0. 0.]]\n",
      "\n",
      "[[0. 1. 0. 1. 0. 1. 0. 1.]\n",
      " [1. 0. 1. 0. 1. 0. 1. 0.]\n",
      " [0. 1. 0. 1. 0. 1. 0. 1.]\n",
      " [1. 0. 1. 0. 1. 0. 1. 0.]\n",
      " [0. 1. 0. 1. 0. 1. 0. 1.]\n",
      " [1. 0. 1. 0. 1. 0. 1. 0.]\n",
      " [0. 1. 0. 1. 0. 1. 0. 1.]\n",
      " [1. 0. 1. 0. 1. 0. 1. 0.]]\n"
     ]
    }
   ],
   "source": [
    "a=np.zeros((8,8))\n",
    "print(a)\n",
    "print()\n",
    "a[::2 , 1::2]=1\n",
    "a[1::2 , 0::2]=1\n",
    "print(a)"
   ]
  },
  {
   "cell_type": "markdown",
   "id": "523287d6",
   "metadata": {},
   "source": [
    "### 26. Write a NumPy program to append values to the end of an array."
   ]
  },
  {
   "cell_type": "code",
   "execution_count": 73,
   "id": "2de476fd",
   "metadata": {},
   "outputs": [
    {
     "name": "stdout",
     "output_type": "stream",
     "text": [
      "[10 20 30]\n",
      "[10 20 30 40 50 60 70 80 90]\n"
     ]
    }
   ],
   "source": [
    "b=np.array([10 , 20 , 30])\n",
    "print(b)\n",
    "b=np.append(b ,[[40 , 50 , 60] , [70 , 80 , 90]])\n",
    "print(b)"
   ]
  },
  {
   "cell_type": "markdown",
   "id": "793041b2",
   "metadata": {},
   "source": [
    "### 27. Write a NumPy program to find the real and imaginary parts of an array of complex numbers."
   ]
  },
  {
   "cell_type": "code",
   "execution_count": 89,
   "id": "be5bd697",
   "metadata": {},
   "outputs": [
    {
     "name": "stdout",
     "output_type": "stream",
     "text": [
      "[0. 4.]\n",
      "[7. 2.]\n"
     ]
    }
   ],
   "source": [
    "a=np.array([0+7j , 4+2j])\n",
    "print(a.real)\n",
    "print(a.imag)"
   ]
  },
  {
   "cell_type": "markdown",
   "id": "6662574e",
   "metadata": {},
   "source": [
    "### 28. Write a NumPy program to test whether each element of a 1-D array is also present in a second array."
   ]
  },
  {
   "cell_type": "code",
   "execution_count": 92,
   "id": "d0ef727c",
   "metadata": {},
   "outputs": [
    {
     "name": "stdout",
     "output_type": "stream",
     "text": [
      "[ True False False  True]\n"
     ]
    }
   ],
   "source": [
    "a=np.array([10 , 20 , 30 , 40])\n",
    "b=[10,40]\n",
    "c=np.in1d(a , b)\n",
    "print(c)"
   ]
  },
  {
   "cell_type": "markdown",
   "id": "98bdfd7b",
   "metadata": {},
   "source": [
    "### 29. Write a NumPy program to find common values between two arrays."
   ]
  },
  {
   "cell_type": "code",
   "execution_count": 94,
   "id": "0231ca62",
   "metadata": {},
   "outputs": [
    {
     "name": "stdout",
     "output_type": "stream",
     "text": [
      "[10 40]\n"
     ]
    }
   ],
   "source": [
    "a=np.array([10 , 20 , 30 , 40])\n",
    "b=[10,40]\n",
    "c=np.intersect1d(a , b)\n",
    "print(c)"
   ]
  },
  {
   "cell_type": "markdown",
   "id": "f8b8fed0",
   "metadata": {},
   "source": [
    "### 30. Write a NumPy program to get the unique elements of an array."
   ]
  },
  {
   "cell_type": "code",
   "execution_count": 96,
   "id": "3e055060",
   "metadata": {},
   "outputs": [
    {
     "name": "stdout",
     "output_type": "stream",
     "text": [
      "[10 20 30 40 50 80]\n"
     ]
    }
   ],
   "source": [
    "a=np.array([10 ,10 ,20 ,50 , 80 , 20 , 30 , 40])\n",
    "print(np.unique(a))"
   ]
  },
  {
   "cell_type": "markdown",
   "id": "49d09233",
   "metadata": {},
   "source": [
    "### 31. Write a NumPy program to test whether all elements in an array evaluate to True."
   ]
  },
  {
   "cell_type": "code",
   "execution_count": 98,
   "id": "34881bd5",
   "metadata": {},
   "outputs": [
    {
     "data": {
      "text/plain": [
       "True"
      ]
     },
     "execution_count": 98,
     "metadata": {},
     "output_type": "execute_result"
    }
   ],
   "source": [
    "a=np.array([10 , 20 , 30 , 40 , 0])\n",
    "np.any(a )"
   ]
  },
  {
   "cell_type": "markdown",
   "id": "07da20da",
   "metadata": {},
   "source": [
    "### 32. Write a NumPy program to construct an array by repeating array values."
   ]
  },
  {
   "cell_type": "code",
   "execution_count": 108,
   "id": "d2f5de9e",
   "metadata": {},
   "outputs": [
    {
     "data": {
      "text/plain": [
       "array([[10, 10, 20, 20, 30, 30, 40, 40,  0,  0]])"
      ]
     },
     "execution_count": 108,
     "metadata": {},
     "output_type": "execute_result"
    }
   ],
   "source": [
    "a=np.array([[10 , 20 , 30 , 40 , 0]])\n",
    "b=np.repeat(a , 2 , axis=1)\n",
    "b"
   ]
  },
  {
   "cell_type": "markdown",
   "id": "62b888bf",
   "metadata": {},
   "source": [
    "### 33. Write a NumPy program to construct an array by repeating."
   ]
  },
  {
   "cell_type": "code",
   "execution_count": 3,
   "id": "53a74071",
   "metadata": {},
   "outputs": [
    {
     "name": "stdout",
     "output_type": "stream",
     "text": [
      "[[10 20 30 40 10 20 30 40]]\n",
      "[[10 20 30 40 10 20 30 40 10 20 30 40]]\n"
     ]
    }
   ],
   "source": [
    "a=np.array([[10 , 20 , 30 , 40 ]])\n",
    "b=np.tile(a , 2)\n",
    "print(b)\n",
    "c=np.tile(a , 3)\n",
    "print(c)"
   ]
  },
  {
   "cell_type": "markdown",
   "id": "a798a5d2",
   "metadata": {},
   "source": [
    "### 34. Write a NumPy program to find the indices of the maximum and minimum values along the given axis of an array."
   ]
  },
  {
   "cell_type": "code",
   "execution_count": 16,
   "id": "ba140dc5",
   "metadata": {},
   "outputs": [
    {
     "name": "stdout",
     "output_type": "stream",
     "text": [
      "[[10 20 30 40]\n",
      " [ 6  2  4  3]]\n",
      "\n",
      "[0 1]\n",
      "\n",
      "[3 0]\n"
     ]
    }
   ],
   "source": [
    "a=np.array([[10 , 20 , 30 , 40 ],[6,2,4,3]])\n",
    "print(a)\n",
    "print()\n",
    "print(np.argmin(a , axis=1))\n",
    "print()\n",
    "print(np.argmax(a , axis=1))"
   ]
  },
  {
   "cell_type": "markdown",
   "id": "246e18e7",
   "metadata": {},
   "source": [
    "### 35. Write a NumPy program to get the values and indices of the elements that are bigger than 10 in a given array."
   ]
  },
  {
   "cell_type": "code",
   "execution_count": 24,
   "id": "92c6105c",
   "metadata": {},
   "outputs": [
    {
     "name": "stdout",
     "output_type": "stream",
     "text": [
      "[87 56 26]\n",
      "(array([2, 3, 5], dtype=int64),)\n"
     ]
    }
   ],
   "source": [
    "a=np.array([1,2,87,56,4,26])\n",
    "print(a[a>10])       #get the values\n",
    "print(np.nonzero(a>10))   #get the indexes"
   ]
  },
  {
   "cell_type": "markdown",
   "id": "7ee3a24a",
   "metadata": {},
   "source": [
    "### 36. Write a NumPy program to save a NumPy array to a text file"
   ]
  },
  {
   "cell_type": "code",
   "execution_count": 28,
   "id": "3626d796",
   "metadata": {},
   "outputs": [],
   "source": [
    "a=np.array([1.0,2.0,87.0,56.0,26.0])\n",
    "np.savetxt('text1.txt' , a , delimiter= ',')"
   ]
  },
  {
   "cell_type": "markdown",
   "id": "cf1ceeb7",
   "metadata": {},
   "source": [
    "### 37. Write a NumPy program to create a contiguous flattened array."
   ]
  },
  {
   "cell_type": "code",
   "execution_count": 35,
   "id": "1dce23a8",
   "metadata": {},
   "outputs": [
    {
     "data": {
      "text/plain": [
       "array([[ 1,  2, 87, 56,  4, 26],\n",
       "       [ 1,  2,  3,  4,  5,  6]])"
      ]
     },
     "execution_count": 35,
     "metadata": {},
     "output_type": "execute_result"
    }
   ],
   "source": [
    "a=np.array([[1,2,87,56,4,26],[1,2,3,4,5,6]])\n",
    "a"
   ]
  },
  {
   "cell_type": "code",
   "execution_count": 36,
   "id": "ca015768",
   "metadata": {},
   "outputs": [
    {
     "data": {
      "text/plain": [
       "array([ 1,  2, 87, 56,  4, 26,  1,  2,  3,  4,  5,  6])"
      ]
     },
     "execution_count": 36,
     "metadata": {},
     "output_type": "execute_result"
    }
   ],
   "source": [
    "a.ravel()"
   ]
  },
  {
   "cell_type": "markdown",
   "id": "395f702b",
   "metadata": {},
   "source": [
    "### 38. Write a NumPy program to concatenate element-wise two arrays of string."
   ]
  },
  {
   "cell_type": "code",
   "execution_count": 17,
   "id": "77d3b07b",
   "metadata": {},
   "outputs": [
    {
     "name": "stdout",
     "output_type": "stream",
     "text": [
      "['Python Java' 'C++ C']\n"
     ]
    }
   ],
   "source": [
    "arr1=np.array(['Python' , 'C++'])\n",
    "arr2=np.array([' Java' , ' C'])\n",
    "print(np.char.add(arr1, arr2))"
   ]
  },
  {
   "cell_type": "markdown",
   "id": "327f8675",
   "metadata": {},
   "source": [
    "### 39. Write a NumPy program to repeat all the elements three times of a given array of string "
   ]
  },
  {
   "cell_type": "code",
   "execution_count": 21,
   "id": "4b1d1997",
   "metadata": {},
   "outputs": [
    {
     "name": "stdout",
     "output_type": "stream",
     "text": [
      "['PythonPythonPython' 'C++C++C++']\n"
     ]
    }
   ],
   "source": [
    "arr1=np.array(['Python' , 'C++'])\n",
    "print(np.char.multiply(arr1 , 3))"
   ]
  },
  {
   "cell_type": "markdown",
   "id": "e73598c8",
   "metadata": {},
   "source": [
    "### 40. Write a NumPy program to make the length of each element 15 of a given array and the string centered / left-justified / right-justified with paddings of _."
   ]
  },
  {
   "cell_type": "code",
   "execution_count": 28,
   "id": "14a37d67",
   "metadata": {},
   "outputs": [
    {
     "name": "stdout",
     "output_type": "stream",
     "text": [
      "['_____Python____' '______C++______' '______Java_____' '_______C_______']\n",
      "['Python_________' 'C++____________' 'Java___________' 'C______________']\n",
      "['_________Python' '____________C++' '___________Java' '______________C']\n"
     ]
    }
   ],
   "source": [
    "arr1=np.array(['Python' , 'C++' , 'Java' , 'C'])\n",
    "print(np.char.center(arr1 , 15 , fillchar='_'))\n",
    "print(np.char.ljust(arr1 , 15 , fillchar='_'))\n",
    "print(np.char.rjust(arr1 , 15 , fillchar='_'))"
   ]
  },
  {
   "cell_type": "markdown",
   "id": "d191fa34",
   "metadata": {},
   "source": [
    "### 41. Write a NumPy program to insert a space between characters of all the elements of a given array."
   ]
  },
  {
   "cell_type": "code",
   "execution_count": 32,
   "id": "d6855f3d",
   "metadata": {},
   "outputs": [
    {
     "data": {
      "text/plain": [
       "array(['P y t h o n', 'C + +'], dtype='<U11')"
      ]
     },
     "execution_count": 32,
     "metadata": {},
     "output_type": "execute_result"
    }
   ],
   "source": [
    "arr1=np.array(['Python' , 'C++'])\n",
    "np.char.join(' ' , arr1)"
   ]
  },
  {
   "cell_type": "markdown",
   "id": "6f3628cb",
   "metadata": {},
   "source": [
    "### 42. Write a NumPy program to encode all the elements of a given array in cp500 and decode it again."
   ]
  },
  {
   "cell_type": "code",
   "execution_count": 38,
   "id": "81332d2e",
   "metadata": {},
   "outputs": [
    {
     "name": "stdout",
     "output_type": "stream",
     "text": [
      "[b'\\xd7\\xa8\\xa3\\x88\\x96\\x95' b'\\xc3NN']\n",
      "['Python' 'C++']\n"
     ]
    }
   ],
   "source": [
    "arr1=np.array(['Python' , 'C++'])\n",
    "a=np.char.encode(arr1 , 'cp500')\n",
    "print(a)\n",
    "print(np.char.decode(a, 'cp500'))"
   ]
  },
  {
   "cell_type": "markdown",
   "id": "9fc26c65",
   "metadata": {},
   "source": [
    "### 43.  Write a NumPy program to remove the leading and trailing whitespaces of all the elements of a given array."
   ]
  },
  {
   "cell_type": "code",
   "execution_count": 40,
   "id": "bf9b6d7f",
   "metadata": {},
   "outputs": [
    {
     "name": "stdout",
     "output_type": "stream",
     "text": [
      "['Python' 'C++']\n"
     ]
    }
   ],
   "source": [
    "arr1=np.array([' Python ' , ' C++ '])\n",
    "print(np.char.strip(arr1))"
   ]
  },
  {
   "cell_type": "code",
   "execution_count": 41,
   "id": "558aff1b",
   "metadata": {},
   "outputs": [
    {
     "name": "stdout",
     "output_type": "stream",
     "text": [
      "['Python' 'C++']\n"
     ]
    }
   ],
   "source": [
    "### Left strip\n",
    "arr1=np.array([' Python' , ' C++'])\n",
    "print(np.char.lstrip(arr1))"
   ]
  },
  {
   "cell_type": "code",
   "execution_count": 42,
   "id": "2d5418c5",
   "metadata": {},
   "outputs": [
    {
     "name": "stdout",
     "output_type": "stream",
     "text": [
      "[' Python' ' C++']\n"
     ]
    }
   ],
   "source": [
    "### Right strip\n",
    "arr1=np.array([' Python ' , ' C++ '])\n",
    "print(np.char.rstrip(arr1))"
   ]
  },
  {
   "cell_type": "markdown",
   "id": "05a2fd51",
   "metadata": {},
   "source": [
    "### 44. Write a NumPy program to split the element of a given array with spaces."
   ]
  },
  {
   "cell_type": "code",
   "execution_count": 122,
   "id": "9937f8d7",
   "metadata": {},
   "outputs": [
    {
     "name": "stdout",
     "output_type": "stream",
     "text": [
      "[list(['Python', 'C++', 'Java'])]\n"
     ]
    }
   ],
   "source": [
    "arr1=np.array(['Python C++ Java'] )\n",
    "print(np.char.split(arr1))\n"
   ]
  },
  {
   "cell_type": "markdown",
   "id": "aa6a431d",
   "metadata": {},
   "source": [
    "### 45. Write a NumPy program to split the element of a given array to multiple lines."
   ]
  },
  {
   "cell_type": "code",
   "execution_count": 124,
   "id": "342109b3",
   "metadata": {},
   "outputs": [
    {
     "name": "stdout",
     "output_type": "stream",
     "text": [
      "[list(['Python\\\\Exercises , C++ , Java'])]\n"
     ]
    }
   ],
   "source": [
    "arr1=np.array(['Python\\Exercises , C++ , Java'] )\n",
    "print(np.char.splitlines(arr1))"
   ]
  },
  {
   "cell_type": "markdown",
   "id": "e090f6ae",
   "metadata": {},
   "source": [
    "### 46. Write a NumPy program to make all the elements of a given string to a numeric string of 5 digits with zeros on its left."
   ]
  },
  {
   "cell_type": "code",
   "execution_count": 51,
   "id": "2942d609",
   "metadata": {},
   "outputs": [
    {
     "data": {
      "text/plain": [
       "array(['00002', '00004', '00006', '00026'], dtype='<U5')"
      ]
     },
     "execution_count": 51,
     "metadata": {},
     "output_type": "execute_result"
    }
   ],
   "source": [
    "a=np.array(['2' ,'4' ,'6' ,'26'])\n",
    "np.char.zfill(a ,5)"
   ]
  },
  {
   "cell_type": "markdown",
   "id": "dd2dfa14",
   "metadata": {},
   "source": [
    "### 47. Write a NumPy program to replace \"PHP\" with \"Python\" in the element of a given array."
   ]
  },
  {
   "cell_type": "code",
   "execution_count": 60,
   "id": "22cfb2d2",
   "metadata": {},
   "outputs": [
    {
     "name": "stdout",
     "output_type": "stream",
     "text": [
      "['Python Exercises, Practice, Solution']\n"
     ]
    }
   ],
   "source": [
    "a=np.array(['PHP Exercises, Practice, Solution'])\n",
    "print(np.char.replace(a , 'PHP' , 'Python'))"
   ]
  },
  {
   "cell_type": "code",
   "execution_count": 75,
   "id": "27f4b6e7",
   "metadata": {
    "scrolled": true
   },
   "outputs": [
    {
     "name": "stdout",
     "output_type": "stream",
     "text": [
      "Greater: [False False False False False]\n",
      "\n",
      "Equal: [ True False False  True  True]\n",
      "\n",
      "Less: [False  True  True False False]\n",
      "\n",
      "Greater_equal: [ True False False  True  True]\n",
      "\n",
      "Less_equal: [ True  True  True  True  True]\n"
     ]
    }
   ],
   "source": [
    "a=np.array(['Hello' , 'PHP' , 'JS' , 'examples' , 'html'])\n",
    "b=np.array(['Hello' , 'php' , 'Java' , 'examples' , 'html'])\n",
    "print('Greater:' ,np.char.greater(a , b))\n",
    "print()\n",
    "print('Equal:' ,np.char.equal(a , b))\n",
    "print()\n",
    "print('Less:' ,np.char.less(a , b))\n",
    "print()\n",
    "print('Greater_equal:' ,np.char.greater_equal(a , b))\n",
    "print()\n",
    "print('Less_equal:' ,np.char.less_equal(a , b))\n"
   ]
  },
  {
   "cell_type": "markdown",
   "id": "180ed6e2",
   "metadata": {},
   "source": [
    "### 48. Write a NumPy program to count the number of \"P\" in a given array, element-wise."
   ]
  },
  {
   "cell_type": "code",
   "execution_count": 78,
   "id": "996a3645",
   "metadata": {},
   "outputs": [
    {
     "name": "stdout",
     "output_type": "stream",
     "text": [
      "[1 2 0 0 0]\n"
     ]
    }
   ],
   "source": [
    "a=np.array(['Python', 'PHP', 'JS', 'examples', 'html'])\n",
    "print(np.char.count(a , 'P'))"
   ]
  },
  {
   "cell_type": "markdown",
   "id": "6a0f0062",
   "metadata": {},
   "source": [
    "### 49. Write a NumPy program to count the lowest index of \"P\" in a given array, element-wise"
   ]
  },
  {
   "cell_type": "code",
   "execution_count": 84,
   "id": "a7c68b07",
   "metadata": {},
   "outputs": [
    {
     "name": "stdout",
     "output_type": "stream",
     "text": [
      "[ 0  0 -1  4 -1]\n"
     ]
    }
   ],
   "source": [
    "a=np.array(['Python', 'PHP', 'JS', 'examPles', 'html'])\n",
    "print(np.char.find(a , 'P'))"
   ]
  },
  {
   "cell_type": "markdown",
   "id": "343406fe",
   "metadata": {},
   "source": [
    "### 50. Write a NumPy program to check whether each element of a given array is composed of digits only, lower case letters only and upper case letters only."
   ]
  },
  {
   "cell_type": "code",
   "execution_count": 92,
   "id": "bcd75a74",
   "metadata": {},
   "outputs": [
    {
     "name": "stdout",
     "output_type": "stream",
     "text": [
      "[False False False  True False]\n",
      "\n",
      "[False  True  True False False]\n",
      "\n",
      "[False False False False  True]\n"
     ]
    }
   ],
   "source": [
    "a=np.array(['Python', 'PHP', 'JS', 'examples', '5'])\n",
    "print(np.char.islower(a))\n",
    "print()\n",
    "print(np.char.isupper(a))\n",
    "print()\n",
    "print(np.char.isdigit(a))"
   ]
  },
  {
   "cell_type": "markdown",
   "id": "a1cf21dd",
   "metadata": {},
   "source": [
    "### 51. Write a NumPy program to check whether each element of a given array starts with \"P\"."
   ]
  },
  {
   "cell_type": "code",
   "execution_count": 91,
   "id": "d60cd134",
   "metadata": {},
   "outputs": [
    {
     "name": "stdout",
     "output_type": "stream",
     "text": [
      "[ True  True False False  True]\n"
     ]
    }
   ],
   "source": [
    "a=np.array(['Python', 'PHP', 'JS', 'examples', 'P5'])\n",
    "print(np.char.startswith(a , 'P'))"
   ]
  },
  {
   "cell_type": "markdown",
   "id": "243a6042",
   "metadata": {},
   "source": [
    "### 52. Write a NumPy program to add two zeros to the beginning of each element of a given array of string values."
   ]
  },
  {
   "cell_type": "code",
   "execution_count": 96,
   "id": "ac09d80b",
   "metadata": {},
   "outputs": [
    {
     "data": {
      "text/plain": [
       "array(['002.04', '004.11', '006.02', '0026.11'], dtype='<U7')"
      ]
     },
     "execution_count": 96,
     "metadata": {},
     "output_type": "execute_result"
    }
   ],
   "source": [
    "a=np.array(['2.04' ,'4.11' ,'6.02' ,'26.11'])\n",
    "np.char.add('00' ,a)"
   ]
  },
  {
   "cell_type": "markdown",
   "id": "f0656ba4",
   "metadata": {},
   "source": [
    "### 53. Write a NumPy program to replace a specific character with another in a given array of string values."
   ]
  },
  {
   "cell_type": "code",
   "execution_count": 103,
   "id": "d66786b0",
   "metadata": {},
   "outputs": [
    {
     "name": "stdout",
     "output_type": "stream",
     "text": [
      "[['Python_NumPy_Exercises']\n",
      " ['_Python_']]\n",
      "\n",
      "[['Python==NumPy==Exercises']\n",
      " ['==Python==']]\n"
     ]
    }
   ],
   "source": [
    "a=np.array([['Python-NumPy-Exercises'], ['-Python-']])\n",
    "print(np.char.replace(a , '-' , '_'))\n",
    "print()\n",
    "print(np.char.replace(a , '-' , '=='))"
   ]
  },
  {
   "cell_type": "markdown",
   "id": "5d470b96",
   "metadata": {},
   "source": [
    "### 54. Write a NumPy program to count a given word in each row of a given array of string values."
   ]
  },
  {
   "cell_type": "code",
   "execution_count": 109,
   "id": "454341ac",
   "metadata": {},
   "outputs": [
    {
     "name": "stdout",
     "output_type": "stream",
     "text": [
      "[['Python' 'NumPy' 'Exercises']\n",
      " ['Python' 'Pandas' 'Exercises']\n",
      " ['Python' 'Machine learning' 'Python']]\n"
     ]
    },
    {
     "data": {
      "text/plain": [
       "array([[1, 0, 0],\n",
       "       [1, 0, 0],\n",
       "       [1, 0, 1]])"
      ]
     },
     "execution_count": 109,
     "metadata": {},
     "output_type": "execute_result"
    }
   ],
   "source": [
    "a=np.array([['Python', 'NumPy', 'Exercises'], ['Python', 'Pandas', 'Exercises'], ['Python', 'Machine learning', 'Python']])\n",
    "print(a)\n",
    "np.char.count(a , 'Python')"
   ]
  },
  {
   "cell_type": "markdown",
   "id": "9ae8701d",
   "metadata": {},
   "source": [
    "### 55. Write a NumPy program to split a given text into lines and split the single line into array values."
   ]
  },
  {
   "cell_type": "code",
   "execution_count": 120,
   "id": "fee18405",
   "metadata": {},
   "outputs": [
    {
     "name": "stdout",
     "output_type": "stream",
     "text": [
      "[['01' 'V' 'Debby' 'Pramod']\n",
      " ['02' 'V' 'Artemiy' 'Ellie']\n",
      " ['03' 'V' 'Baptist' 'Kamal']\n",
      " ['04' 'V' 'Lavanya' 'Davide']\n",
      " ['05' 'V' 'Fulton' 'Antwan']\n",
      " ['06' 'V' 'Euanthe' 'Sandeep']\n",
      " ['07' 'V' 'Endzela' 'Sanda']\n",
      " ['08' 'V' 'Victoire' 'Waman']\n",
      " ['09' 'V' 'Briar' 'Nur']\n",
      " ['10' 'V' 'Rose' 'Lykos']]\n"
     ]
    }
   ],
   "source": [
    "a='''01 V Debby Pramod\n",
    "02 V Artemiy Ellie\n",
    "03 V Baptist Kamal\n",
    "04 V Lavanya Davide\n",
    "05 V Fulton Antwan\n",
    "06 V Euanthe Sandeep\n",
    "07 V Endzela Sanda\n",
    "08 V Victoire Waman\n",
    "09 V Briar Nur\n",
    "10 V Rose Lykos\n",
    "'''\n",
    "text_lines=a.splitlines()\n",
    "text_lines=[text.split() for text in text_lines]\n",
    "result=np.array(text_lines)\n",
    "print(result)"
   ]
  },
  {
   "cell_type": "markdown",
   "id": "b1b4ce24",
   "metadata": {},
   "source": [
    "### 56. Write a NumPy program to display all the dates for the month of March, 2017."
   ]
  },
  {
   "cell_type": "code",
   "execution_count": 133,
   "id": "73de29b7",
   "metadata": {},
   "outputs": [
    {
     "name": "stdout",
     "output_type": "stream",
     "text": [
      "['2017-03-01' '2017-03-02' '2017-03-03' '2017-03-04' '2017-03-05'\n",
      " '2017-03-06' '2017-03-07' '2017-03-08' '2017-03-09' '2017-03-10'\n",
      " '2017-03-11' '2017-03-12' '2017-03-13' '2017-03-14' '2017-03-15'\n",
      " '2017-03-16' '2017-03-17' '2017-03-18' '2017-03-19' '2017-03-20'\n",
      " '2017-03-21' '2017-03-22' '2017-03-23' '2017-03-24' '2017-03-25'\n",
      " '2017-03-26' '2017-03-27' '2017-03-28' '2017-03-29' '2017-03-30'\n",
      " '2017-03-31']\n"
     ]
    }
   ],
   "source": [
    "print(np.arange('2017-03' , '2017-04' , dtype='datetime64[D]'))"
   ]
  },
  {
   "cell_type": "markdown",
   "id": "ebef8cdc",
   "metadata": {},
   "source": [
    "### 57. Write a NumPy program to get the dates of yesterday, today and tomorrow."
   ]
  },
  {
   "cell_type": "code",
   "execution_count": 138,
   "id": "9bff3c83",
   "metadata": {},
   "outputs": [
    {
     "name": "stdout",
     "output_type": "stream",
     "text": [
      "Yesterday: 2021-10-07\n",
      "Today: 2021-10-08\n",
      "Tomorrow: 2021-10-09\n"
     ]
    }
   ],
   "source": [
    "print('Yesterday:',np.datetime64('today' ,'D') - np.timedelta64(1 , 'D'))\n",
    "print('Today:',np.datetime64('today' ,'D'))\n",
    "print('Tomorrow:',np.datetime64('today' ,'D') + np.timedelta64(1 , 'D'))"
   ]
  },
  {
   "cell_type": "markdown",
   "id": "22bf9739",
   "metadata": {},
   "source": [
    "### 58. Write a NumPy program to count the number of days of specific month."
   ]
  },
  {
   "cell_type": "code",
   "execution_count": 146,
   "id": "1c14d7ee",
   "metadata": {},
   "outputs": [
    {
     "name": "stdout",
     "output_type": "stream",
     "text": [
      "March: 31 days\n",
      "February: 28 days\n"
     ]
    }
   ],
   "source": [
    "print('March:', np.datetime64('2017-04-01') - np.datetime64('2017-03-01'))\n",
    "print('February:', np.datetime64('2017-03-01') - np.datetime64('2017-02-01'))"
   ]
  },
  {
   "cell_type": "markdown",
   "id": "4c5639b2",
   "metadata": {},
   "source": [
    "## https://numpy.org/doc/stable/reference/generated/numpy.busday_offset.html"
   ]
  },
  {
   "cell_type": "markdown",
   "id": "f9de6512",
   "metadata": {},
   "source": [
    "### 59. Write a NumPy program to find the first Monday in May 2017."
   ]
  },
  {
   "cell_type": "code",
   "execution_count": 161,
   "id": "89cae87e",
   "metadata": {},
   "outputs": [
    {
     "name": "stdout",
     "output_type": "stream",
     "text": [
      "2017-05-01\n"
     ]
    }
   ],
   "source": [
    "print(np.busday_offset('2017-05', 0, roll='forward', weekmask='Mon'))"
   ]
  },
  {
   "cell_type": "markdown",
   "id": "26e8ce88",
   "metadata": {},
   "source": [
    "### 60. Write a NumPy program to find the number of weekdays in March 2017"
   ]
  },
  {
   "cell_type": "code",
   "execution_count": 163,
   "id": "4b434ece",
   "metadata": {},
   "outputs": [
    {
     "name": "stdout",
     "output_type": "stream",
     "text": [
      "23\n"
     ]
    }
   ],
   "source": [
    "print(np.busday_count('2017-03' , '2017-04'))"
   ]
  },
  {
   "cell_type": "code",
   "execution_count": null,
   "id": "65f6b50c",
   "metadata": {},
   "outputs": [],
   "source": []
  }
 ],
 "metadata": {
  "kernelspec": {
   "display_name": "Python 3",
   "language": "python",
   "name": "python3"
  },
  "language_info": {
   "codemirror_mode": {
    "name": "ipython",
    "version": 3
   },
   "file_extension": ".py",
   "mimetype": "text/x-python",
   "name": "python",
   "nbconvert_exporter": "python",
   "pygments_lexer": "ipython3",
   "version": "3.8.8"
  }
 },
 "nbformat": 4,
 "nbformat_minor": 5
}
